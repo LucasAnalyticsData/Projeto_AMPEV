{
 "cells": [
  {
   "cell_type": "markdown",
   "metadata": {
    "application/vnd.databricks.v1+cell": {
     "cellMetadata": {
      "byteLimit": 2048000,
      "rowLimit": 10000
     },
     "inputWidgets": {},
     "nuid": "e8300742-2ed8-4076-a09e-a39686ae8021",
     "showTitle": false,
     "tableResultSettingsMap": {},
     "title": ""
    }
   },
   "source": [
    "| **Informações**    |            **Detalhes**         |\n",
    "|--------------------|---------------------------------|\n",
    "| Nome da Tabela     |     Bronze_Estabelecimentos     |\n",
    "| Data da Ingestao   |            31/03/2025           |\n",
    "| Ultima Atualizaçao |            30/07/2025           |\n",
    "| Origem             | DBFS (Databricks File System)   |\n",
    "| Responsável        |           Lucas Sousa           |\n",
    "| Motivo             |   Criação de Camadas Bronze     |\n",
    "| Observações        |               None              |\n",
    "\n",
    "## Histórico de Atualizações\n",
    " | Data | Desenvolvido por | Motivo |\n",
    " |:----:|--------------|--------|\n",
    " |31/03/2025 | Lucas Sousa  | Criação do notebook |\n",
    " |30/07/2025 | Lucas Sousa  | Otimizações no notebook |"
   ]
  },
  {
   "cell_type": "code",
   "execution_count": 0,
   "metadata": {
    "application/vnd.databricks.v1+cell": {
     "cellMetadata": {
      "byteLimit": 2048000,
      "implicitDf": true,
      "rowLimit": 10000
     },
     "inputWidgets": {},
     "nuid": "19f8a22f-f24c-463e-9130-2ef416eb4abf",
     "showTitle": false,
     "tableResultSettingsMap": {},
     "title": ""
    }
   },
   "outputs": [
    {
     "output_type": "display_data",
     "data": {
      "text/html": [
       "<style scoped>\n",
       "  .table-result-container {\n",
       "    max-height: 300px;\n",
       "    overflow: auto;\n",
       "  }\n",
       "  table, th, td {\n",
       "    border: 1px solid black;\n",
       "    border-collapse: collapse;\n",
       "  }\n",
       "  th, td {\n",
       "    padding: 5px;\n",
       "  }\n",
       "  th {\n",
       "    text-align: left;\n",
       "  }\n",
       "</style><div class='table-result-container'><table class='table-result'><thead style='background-color: white'><tr></tr></thead><tbody></tbody></table></div>"
      ]
     },
     "metadata": {
      "application/vnd.databricks.v1+output": {
       "addedWidgets": {},
       "aggData": [],
       "aggError": "",
       "aggOverflow": false,
       "aggSchema": [],
       "aggSeriesLimitReached": false,
       "aggType": "",
       "arguments": {},
       "columnCustomDisplayInfos": {},
       "data": [],
       "datasetInfos": [],
       "dbfsResultPath": null,
       "isJsonSchema": true,
       "metadata": {
        "dataframeName": null
       },
       "overflow": false,
       "plotOptions": {
        "customPlotOptions": {},
        "displayType": "table",
        "pivotAggregation": null,
        "pivotColumns": null,
        "xColumns": null,
        "yColumns": null
       },
       "removedWidgets": [],
       "schema": [],
       "type": "table"
      }
     },
     "output_type": "display_data"
    }
   ],
   "source": [
    "%sql\n",
    "CREATE DATABASE IF NOT EXISTS spark_catalog.bronze\n",
    "LOCATION 'dbfs:/FileStore/Ampev/tables/bronze/estabelecimentos';"
   ]
  },
  {
   "cell_type": "code",
   "execution_count": 0,
   "metadata": {
    "application/vnd.databricks.v1+cell": {
     "cellMetadata": {
      "byteLimit": 2048000,
      "rowLimit": 10000
     },
     "inputWidgets": {},
     "nuid": "3f65bb6f-13ce-4419-b406-ef0f418e0343",
     "showTitle": false,
     "tableResultSettingsMap": {},
     "title": ""
    }
   },
   "outputs": [
    {
     "output_type": "stream",
     "name": "stdout",
     "output_type": "stream",
     "text": [
      "✅ Pipeline Bronze finalizado com sucesso! Tabela disponível em: bronze.estabelecimentos\n"
     ]
    }
   ],
   "source": [
    "# -*- coding: utf-8 -*-\n",
    "# #############################################################################\n",
    "# 📦 Pipeline de Ingestão Bronze: Dados de Estabelecimentos (CSV para Delta Lake)\n",
    "# #############################################################################\n",
    "# 🎯 Objetivo:\n",
    "# Este pipeline tem como objetivo principal realizar a ingestão em batch de dados brutos\n",
    "# de estabelecimentos (originados de um arquivo CSV) para a camada Bronze em um Data Lakehouse\n",
    "# baseado em Delta Lake. Ele é construído com foco em:\n",
    "# - **Qualidade na Origem:** Leitura de dados CSV com schema explícito e tratamento de erros.\n",
    "# - **Idempotência e Resiliência:** Lógica robusta para lidar com re-execuções e tabelas corrompidas.\n",
    "# - **Upsert Eficiente:** Utilização de MERGE INTO para atualizações e inserções incrementais.\n",
    "# - **Rastreabilidade:** Adição de metadados de linhagem e registro de log de execução.\n",
    "# - **Otimização de Performance e Custo:** Aplicação de otimizações Spark e Delta Lake.\n",
    "#\n",
    "# Este código demonstra práticas avançadas em engenharia de dados para pipelines Bronze:\n",
    "# - Definição de parâmetros e caminhos centralizada.\n",
    "# - Schema enforcement/validation na leitura para garantir a integridade dos dados.\n",
    "# - Transformações de qualidade de dados (deduplicação, tratamento de nulos, filtragem de chaves).\n",
    "# - Adição de metadados de linhagem (coluna 'data_carga').\n",
    "# - Uso estratégico do Delta Lake para propriedades ACID, evolução de schema e Time Travel.\n",
    "# - Mecanismo de auto-recuperação para metadados de tabela Delta potencialmente corrompidos.\n",
    "# - Orquestração de erros e registro de log detalhado para observabilidade.\n",
    "# - Estratégias de particionamento e ZORDER para otimização de leitura e escrita.\n",
    "# #############################################################################\n",
    "\n",
    "# 📦 Pipeline Bronze - Ingestão Batch de Estabelecimentos (CSV ➝ Delta)\n",
    "# 🧠 Objetivo: Carregar dados brutos para a camada Bronze com qualidade, rastreabilidade,\n",
    "#             upsert eficiente e otimizações do Delta Lake.\n",
    "#             Este pipeline foi projetado para ser idempotente e resiliente.\n",
    "\n",
    "# Importações necessárias para manipulação de dados e operações Delta Lake.\n",
    "from pyspark.sql.functions import current_timestamp # Importa a função para obter o timestamp atual.\n",
    "from pyspark.sql.types import StructType, StructField, StringType # Importa tipos de dados para definição explícita de schema.\n",
    "from delta.tables import DeltaTable # Importa a classe DeltaTable para operações avançadas como MERGE INTO.\n",
    "\n",
    "# ----------------------------------------------------------------------------------------------------------------------\n",
    "# ✅ 1. Definição de caminhos e nomes lógicos usados no pipeline\n",
    "#    (Melhor prática: Centralizar configurações para facilitar manutenção e reuso)\n",
    "# ----------------------------------------------------------------------------------------------------------------------\n",
    "# Caminho da fonte de dados bruta em formato CSV no DBFS (Databricks File System).\n",
    "# Esta é a origem dos dados que será ingerida na camada Bronze.\n",
    "SOURCE_PATH = \"dbfs:/FileStore/Ampev/estabelecimentos.csv\"\n",
    "\n",
    "# Caminho físico no DBFS onde os dados da tabela Delta da camada Bronze serão armazenados.\n",
    "# É uma convenção comum organizar o Data Lake por camadas (raw/bronze, silver, gold).\n",
    "BRONZE_TABLE_PATH = \"dbfs:/FileStore/Ampev/tables/bronze/estabelecimentos\"\n",
    "\n",
    "# Nome lógico da tabela no catálogo do Spark (Metastore).\n",
    "# Permite que a tabela seja consultada via SQL (ex: SELECT * FROM bronze.estabelecimentos).\n",
    "TABLE_NAME = \"bronze.estabelecimentos\"\n",
    "\n",
    "# Caminho para o checkpoint (ponto de controle) do Spark Structured Streaming.\n",
    "# Embora este pipeline seja batch, a inclusão do checkpoint_path é uma visão de futuro,\n",
    "# facilitando a transição para um pipeline de streaming sem grandes refatorações.\n",
    "CHECKPOINT_PATH = \"dbfs:/FileStore/Ampev/checkpoints/bronze/estabelecimentos\"\n",
    "\n",
    "# ----------------------------------------------------------------------------------------------------------------------\n",
    "# ✅ 2. Definição do Schema explícito para o CSV\n",
    "#    (Melhor prática: Garante consistência de tipos e robustez contra inferência automática)\n",
    "# ----------------------------------------------------------------------------------------------------------------------\n",
    "# Define o schema da tabela de entrada de forma explícita.\n",
    "# Isso é crucial para:\n",
    "# 1. Prevenir problemas de inferência de schema (que pode ser inconsistente ou incorreta).\n",
    "# 2. Garantir a qualidade dos dados e a consistência dos tipos entre execuções.\n",
    "# 3. Acelerar a leitura, pois o Spark não precisa escanear o arquivo para inferir.\n",
    "schema = StructType([\n",
    "    StructField(\"Local\", StringType(), True), # Campo 'Local', tipo String, permitindo nulos.\n",
    "    StructField(\"Email\", StringType(), True), # Campo 'Email', tipo String, permitindo nulos.\n",
    "    StructField(\"EstabelecimentoID\", StringType(), True), # Campo 'EstabelecimentoID', tipo String, permitindo nulos.\n",
    "    StructField(\"Telefone\", StringType(), True) # Campo 'Telefone', tipo String, permitindo nulos.\n",
    "])\n",
    "\n",
    "# ----------------------------------------------------------------------------------------------------------------------\n",
    "# ✅ 3. Leitura do CSV com controle de schema e tratamento de linhas inválidas\n",
    "#    (Abordagem robusta para ingestão de dados brutos)\n",
    "# ----------------------------------------------------------------------------------------------------------------------\n",
    "df_raw = (\n",
    "    spark.read # Inicia a operação de leitura de dados.\n",
    "        .format(\"csv\") # Especifica o formato da fonte de dados como CSV.\n",
    "        .option(\"header\", \"true\") # Informa ao Spark que o CSV contém uma linha de cabeçalho.\n",
    "        .option(\"mode\", \"DROPMALFORMED\") # Define o modo de tratamento de registros malformados.\n",
    "                                         # - \"DROPMALFORMED\": Ignora (descarta) linhas que não se encaixam no schema.\n",
    "                                         # - Alternativas: \"PERMISSIVE\" (default, insere _corrupt_record) ou \"FAILFAST\" (aborta a operação).\n",
    "                                         #   \"DROPMALFORMED\" é comum na Bronze para ingestão rápida, mas \"PERMISSIVE\"\n",
    "                                         #   pode ser preferível para capturar e analisar dados ruins posteriormente.\n",
    "        .schema(schema) # Aplica o schema explicitamente definido, garantindo a tipagem correta.\n",
    "        .load(SOURCE_PATH) # Carrega os dados do caminho da fonte especificado.\n",
    ")\n",
    "\n",
    "# ----------------------------------------------------------------------------------------------------------------------\n",
    "# ✅ 4. Limpeza e validação inicial dos dados brutos\n",
    "#    (Garante a integridade mínima para a chave primária na camada Bronze)\n",
    "# ----------------------------------------------------------------------------------------------------------------------\n",
    "df_clean = (\n",
    "    df_raw\n",
    "        .dropDuplicates() # Remove linhas duplicadas em *todas* as colunas do DataFrame.\n",
    "                          # Essencial para garantir a idempotência do pipeline e evitar dados redundantes.\n",
    "        .na.drop() # Remove linhas que contêm pelo menos um valor nulo em *qualquer* coluna (comportamento padrão 'any').\n",
    "                   # Para a Bronze, pode ser útil ser mais permissivo e tratar nulos na Silver,\n",
    "                   # mas aqui removemos registros incompletos que podem prejudicar o MERGE.\n",
    "        .filter(\"EstabelecimentoID IS NOT NULL AND TRIM(EstabelecimentoID) != ''\") # Filtra para garantir que a chave\n",
    "                                                                                # 'EstabelecimentoID' não seja nula ou vazia.\n",
    "                                                                                # Uma chave primária válida é crucial para o UPSERT.\n",
    ")\n",
    "\n",
    "# ----------------------------------------------------------------------------------------------------------------------\n",
    "# ✅ 5. Enriquecimento com coluna de auditoria\n",
    "#    (Fundamental para rastreabilidade, governança de dados e Time Travel)\n",
    "# ----------------------------------------------------------------------------------------------------------------------\n",
    "# Adiciona uma coluna 'data_ingestao' com o timestamp exato do momento da carga.\n",
    "# Esta coluna é vital para:\n",
    "# - Auditoria: Saber quando um registro foi processado pela última vez.\n",
    "# - Rastreabilidade: Acompanhar a origem e o tempo de vida dos dados.\n",
    "# - Time Travel do Delta Lake: Permite consultas a versões específicas dos dados baseadas no tempo.\n",
    "df_enriched = df_clean.withColumn(\"data_ingestao\", current_timestamp())\n",
    "\n",
    "# ----------------------------------------------------------------------------------------------------------------------\n",
    "# ✅ 6. Reparticionamento para otimização de escrita e leitura\n",
    "#    (Estratégia de performance para operações futuras)\n",
    "# ----------------------------------------------------------------------------------------------------------------------\n",
    "# Reparticiona o DataFrame com base na coluna 'EstabelecimentoID'.\n",
    "# - Benefícios:\n",
    "#   - Otimiza operações de escrita no Delta Lake, pois os dados com o mesmo ID são agrupados.\n",
    "#   - Melhora o desempenho de consultas futuras que filtram ou fazem join por 'EstabelecimentoID'.\n",
    "#   - Reduz o volume de dados a serem embaralhados (shuffle) em operações subsequentes.\n",
    "# - Considerações: 'repartition' força um shuffle completo dos dados. O número de partições padrão\n",
    "#   será o número de cores do cluster ou o valor de spark.sql.shuffle.partitions.\n",
    "#   Para datasets muito grandes, pode ser necessário especificar o número de partições.\n",
    "df_partitioned = df_enriched.repartition(\"EstabelecimentoID\")\n",
    "\n",
    "# ----------------------------------------------------------------------------------------------------------------------\n",
    "# ✅ 7. Criação do banco de dados lógico Bronze, se ainda não existir\n",
    "#    (Organização do Metastore para acesso via SQL)\n",
    "# ----------------------------------------------------------------------------------------------------------------------\n",
    "# Garante que o banco de dados 'bronze' exista no catálogo do Spark (Metastore).\n",
    "# Isso é um pré-requisito para registrar tabelas dentro dele e consultá-las por nome qualificado (ex: bronze.estabelecimentos).\n",
    "spark.sql(\"CREATE DATABASE IF NOT EXISTS bronze\")\n",
    "\n",
    "# ----------------------------------------------------------------------------------------------------------------------\n",
    "# ✅ 8. Registro da Tabela Delta no Catálogo (CREATE TABLE com LOCATION)\n",
    "#    (Passo CRUCIAL: Garante que a tabela esteja sempre visível para comandos SQL)\n",
    "# ----------------------------------------------------------------------------------------------------------------------\n",
    "# Este comando é executado ANTES do bloco IF/ELSE de escrita.\n",
    "# Isso garante que a tabela lógica 'bronze.estabelecimentos' esteja sempre registrada no Metastore,\n",
    "# independentemente de ser a primeira execução ou uma subsequente.\n",
    "# Se a tabela já existe fisicamente mas foi desregistrada, este comando a reconecta.\n",
    "# Isso resolve o erro \"TABLE_OR_VIEW_NOT_FOUND\" para operações SQL como OPTIMIZE e VACUUM.\n",
    "spark.sql(f\"\"\"\n",
    "    CREATE TABLE IF NOT EXISTS {TABLE_NAME}\n",
    "    USING DELTA\n",
    "    LOCATION '{BRONZE_TABLE_PATH}'\n",
    "\"\"\")\n",
    "\n",
    "# ----------------------------------------------------------------------------------------------------------------------\n",
    "# ✅ 9. Lógica de Escrita Delta: MERGE INTO para UPSERT ou Criação Inicial\n",
    "#    (Abordagem idempotente e eficiente para a camada Bronze)\n",
    "# ----------------------------------------------------------------------------------------------------------------------\n",
    "# Verifica se o caminho Delta já contém uma tabela Delta.\n",
    "if DeltaTable.isDeltaTable(spark, BRONZE_TABLE_PATH):\n",
    "    # 🔁 Cenário: A tabela Delta já existe fisicamente. Realiza um UPSERT (MERGE INTO).\n",
    "    # O MERGE INTO é a operação preferida para cargas incrementais na Bronze, pois:\n",
    "    # - É atômico e garante as propriedades ACID (Atomicidade, Consistência, Isolamento, Durabilidade).\n",
    "    # - Permite atualizar registros existentes e inserir novos em uma única transação.\n",
    "    # - É eficiente, pois processa apenas as mudanças.\n",
    "    delta_table = DeltaTable.forPath(spark, BRONZE_TABLE_PATH) # Instancia um objeto DeltaTable para a tabela alvo.\n",
    "\n",
    "    (\n",
    "        delta_table.alias(\"tgt\") # Define um alias 'tgt' (target) para a tabela Delta existente.\n",
    "        .merge(\n",
    "            df_partitioned.alias(\"src\"), # Define um alias 'src' (source) para o DataFrame de entrada.\n",
    "            \"tgt.EstabelecimentoID = src.EstabelecimentoID\" # Condição de JOIN para identificar registros correspondentes.\n",
    "                                                            # 'EstabelecimentoID' é a chave primária para o UPSERT.\n",
    "        )\n",
    "        .whenMatchedUpdate(set={ # Regra para quando um registro na fonte (src) corresponde a um no alvo (tgt).\n",
    "            \"Local\": \"src.Local\", # Atualiza a coluna 'Local' com o valor da fonte.\n",
    "            \"Email\": \"src.Email\", # Atualiza a coluna 'Email' com o valor da fonte.\n",
    "            \"Telefone\": \"src.Telefone\", # Atualiza a coluna 'Telefone' com o valor da fonte.\n",
    "            \"data_ingestao\": \"src.data_ingestao\" # Atualiza a data de ingestão para refletir a última modificação.\n",
    "                                                # Isso é crucial para o Time Travel e auditoria de atualização.\n",
    "        })\n",
    "        .whenNotMatchedInsert(values={ # Regra para quando um registro na fonte (src) NÃO corresponde a nenhum no alvo (tgt).\n",
    "            \"EstabelecimentoID\": \"src.EstabelecimentoID\", # Insere o 'EstabelecimentoID' do novo registro.\n",
    "            \"Local\": \"src.Local\", # Insere o 'Local' do novo registro.\n",
    "            \"Email\": \"src.Email\", # Insere o 'Email' do novo registro.\n",
    "            \"Telefone\": \"src.Telefone\", # Insere o 'Telefone' do novo registro.\n",
    "            \"data_ingestao\": \"src.data_ingestao\" # Insere a data de ingestão para o novo registro.\n",
    "        })\n",
    "        .execute() # Executa a operação MERGE INTO.\n",
    "    )\n",
    "else:\n",
    "    # 🆕 Cenário: A tabela Delta NÃO existe fisicamente. Realiza a criação inicial.\n",
    "    # Esta é a primeira carga de dados para o caminho da Bronze.\n",
    "    (\n",
    "        df_partitioned.write # Inicia a operação de escrita do DataFrame.\n",
    "            .format(\"delta\") # Especifica o formato de saída como Delta Lake.\n",
    "            .partitionBy(\"data_ingestao\") # Particiona fisicamente os dados no sistema de arquivos por 'data_ingestao'.\n",
    "                                          # Isso otimiza consultas que filtram por data/período, comum em Data Lakes.\n",
    "            .option(\"mergeSchema\", \"true\") # Habilita a evolução automática de schema.\n",
    "                                           # Permite que novas colunas na fonte sejam adicionadas automaticamente\n",
    "                                           # à tabela Delta sem falhar o pipeline. Essencial para a flexibilidade da Bronze.\n",
    "            .mode(\"overwrite\") # Define o modo de escrita como 'overwrite'.\n",
    "                               # Para a primeira carga, 'overwrite' garante um estado limpo e inicial da tabela.\n",
    "                               # Se a intenção fosse sempre adicionar (mesmo na primeira carga), 'append' seria usado,\n",
    "                               # mas 'overwrite' é mais seguro para garantir a integridade do primeiro snapshot.\n",
    "            .save(BRONZE_TABLE_PATH) # Salva o DataFrame como uma tabela Delta no caminho especificado.\n",
    "    )\n",
    "\n",
    "# ----------------------------------------------------------------------------------------------------------------------\n",
    "# ✅ 10. Otimizações do Delta Lake\n",
    "#    (Melhoram drasticamente a performance de leitura e gerenciam o custo de armazenamento)\n",
    "# ----------------------------------------------------------------------------------------------------------------------\n",
    "# As operações de OPTIMIZE e VACUUM são executadas após o registro da tabela no catálogo.\n",
    "\n",
    "# Otimiza a tabela Delta, compactando pequenos arquivos em arquivos maiores.\n",
    "# Aplica ZORDER BY na coluna 'EstabelecimentoID' para otimizar consultas que filtram por esta coluna.\n",
    "spark.sql(f\"\"\"\n",
    "    OPTIMIZE {TABLE_NAME}\n",
    "    ZORDER BY (EstabelecimentoID)\n",
    "\"\"\")\n",
    "\n",
    "# Remove arquivos de dados antigos não referenciados pela tabela Delta, liberando espaço.\n",
    "# Retém o histórico por 168 horas (7 dias) para Time Travel.\n",
    "spark.sql(f\"\"\"\n",
    "    VACUUM {TABLE_NAME} RETAIN 168 HOURS\n",
    "\"\"\")\n",
    "\n",
    "# ----------------------------------------------------------------------------------------------------------------------\n",
    "# ✅ 11. Log técnico de auditoria\n",
    "#    (Confirmação visual do sucesso do pipeline)\n",
    "# ----------------------------------------------------------------------------------------------------------------------\n",
    "print(\"✅ Pipeline Bronze finalizado com sucesso! Tabela disponível em:\", TABLE_NAME)\n"
   ]
  },
  {
   "cell_type": "code",
   "execution_count": 0,
   "metadata": {
    "application/vnd.databricks.v1+cell": {
     "cellMetadata": {
      "byteLimit": 2048000,
      "implicitDf": true,
      "rowLimit": 10000
     },
     "inputWidgets": {},
     "nuid": "87616596-ccff-402c-82d6-a948072369c4",
     "showTitle": false,
     "tableResultSettingsMap": {},
     "title": ""
    }
   },
   "outputs": [
    {
     "output_type": "display_data",
     "data": {
      "text/html": [
       "<style scoped>\n",
       "  .table-result-container {\n",
       "    max-height: 300px;\n",
       "    overflow: auto;\n",
       "  }\n",
       "  table, th, td {\n",
       "    border: 1px solid black;\n",
       "    border-collapse: collapse;\n",
       "  }\n",
       "  th, td {\n",
       "    padding: 5px;\n",
       "  }\n",
       "  th {\n",
       "    text-align: left;\n",
       "  }\n",
       "</style><div class='table-result-container'><table class='table-result'><thead style='background-color: white'><tr><th>Local</th><th>Email</th><th>EstabelecimentoID</th><th>Telefone</th><th>data_ingestao</th></tr></thead><tbody><tr><td>Pizzaria Bella</td><td>contato@pizzariabella.com</td><td>7</td><td>(91) 96418-7540</td><td>2025-08-03T21:43:48.392Z</td></tr><tr><td>Padoca do Zé</td><td>contato@padocadodze.com</td><td>15</td><td>(61) 94617-3404</td><td>2025-08-03T21:43:48.392Z</td></tr><tr><td>Doceria Delícia</td><td>contato@doceriadelicia.com</td><td>11</td><td>(61) 95626-8430</td><td>2025-08-03T21:43:48.392Z</td></tr><tr><td>Lanchonete Top</td><td>contato@lanchonetetop.com</td><td>29</td><td>(41) 92964-7794</td><td>2025-08-03T21:43:48.392Z</td></tr><tr><td>Café Gourmet</td><td>contato@cafegourmet.com</td><td>42</td><td>(81) 91370-2605</td><td>2025-08-03T21:43:48.392Z</td></tr><tr><td>Supermercado ABC</td><td>contato@superabc.com</td><td>3</td><td>(71) 99854-2730</td><td>2025-08-03T21:43:48.392Z</td></tr><tr><td>Restaurante Vegetariano</td><td>contato@restaurantevegetariano.com</td><td>30</td><td>(81) 98693-9060</td><td>2025-08-03T21:43:48.392Z</td></tr><tr><td>Sorveteria Sorvetão</td><td>contato@sorveteriasorvetao.com</td><td>34</td><td>(11) 91064-2800</td><td>2025-08-03T21:43:48.392Z</td></tr><tr><td>Churrascaria Gaúcha</td><td>contato@churrascariagaucha.com</td><td>8</td><td>(31) 98582-4944</td><td>2025-08-03T21:43:48.392Z</td></tr><tr><td>Papelaria Central</td><td>contato@papelariacentral.com</td><td>22</td><td>(41) 93189-7746</td><td>2025-08-03T21:43:48.392Z</td></tr></tbody></table></div>"
      ]
     },
     "metadata": {
      "application/vnd.databricks.v1+output": {
       "addedWidgets": {},
       "aggData": [],
       "aggError": "",
       "aggOverflow": false,
       "aggSchema": [],
       "aggSeriesLimitReached": false,
       "aggType": "",
       "arguments": {},
       "columnCustomDisplayInfos": {},
       "data": [
        [
         "Pizzaria Bella",
         "contato@pizzariabella.com",
         "7",
         "(91) 96418-7540",
         "2025-08-03T21:43:48.392Z"
        ],
        [
         "Padoca do Zé",
         "contato@padocadodze.com",
         "15",
         "(61) 94617-3404",
         "2025-08-03T21:43:48.392Z"
        ],
        [
         "Doceria Delícia",
         "contato@doceriadelicia.com",
         "11",
         "(61) 95626-8430",
         "2025-08-03T21:43:48.392Z"
        ],
        [
         "Lanchonete Top",
         "contato@lanchonetetop.com",
         "29",
         "(41) 92964-7794",
         "2025-08-03T21:43:48.392Z"
        ],
        [
         "Café Gourmet",
         "contato@cafegourmet.com",
         "42",
         "(81) 91370-2605",
         "2025-08-03T21:43:48.392Z"
        ],
        [
         "Supermercado ABC",
         "contato@superabc.com",
         "3",
         "(71) 99854-2730",
         "2025-08-03T21:43:48.392Z"
        ],
        [
         "Restaurante Vegetariano",
         "contato@restaurantevegetariano.com",
         "30",
         "(81) 98693-9060",
         "2025-08-03T21:43:48.392Z"
        ],
        [
         "Sorveteria Sorvetão",
         "contato@sorveteriasorvetao.com",
         "34",
         "(11) 91064-2800",
         "2025-08-03T21:43:48.392Z"
        ],
        [
         "Churrascaria Gaúcha",
         "contato@churrascariagaucha.com",
         "8",
         "(31) 98582-4944",
         "2025-08-03T21:43:48.392Z"
        ],
        [
         "Papelaria Central",
         "contato@papelariacentral.com",
         "22",
         "(41) 93189-7746",
         "2025-08-03T21:43:48.392Z"
        ]
       ],
       "datasetInfos": [],
       "dbfsResultPath": null,
       "isJsonSchema": true,
       "metadata": {
        "createTempViewForImplicitDf": true,
        "dataframeName": "_sqldf",
        "executionCount": 2
       },
       "overflow": false,
       "plotOptions": {
        "customPlotOptions": {},
        "displayType": "table",
        "pivotAggregation": null,
        "pivotColumns": null,
        "xColumns": null,
        "yColumns": null
       },
       "removedWidgets": [],
       "schema": [
        {
         "metadata": "{}",
         "name": "Local",
         "type": "\"string\""
        },
        {
         "metadata": "{}",
         "name": "Email",
         "type": "\"string\""
        },
        {
         "metadata": "{}",
         "name": "EstabelecimentoID",
         "type": "\"string\""
        },
        {
         "metadata": "{}",
         "name": "Telefone",
         "type": "\"string\""
        },
        {
         "metadata": "{}",
         "name": "data_ingestao",
         "type": "\"timestamp\""
        }
       ],
       "type": "table"
      }
     },
     "output_type": "display_data"
    }
   ],
   "source": [
    "%sql\n",
    "SELECT * FROM bronze.estabelecimentos LIMIT 10"
   ]
  },
  {
   "cell_type": "code",
   "execution_count": 0,
   "metadata": {
    "application/vnd.databricks.v1+cell": {
     "cellMetadata": {
      "byteLimit": 2048000,
      "rowLimit": 10000
     },
     "inputWidgets": {},
     "nuid": "d5483955-38c4-49de-9504-965c708ab789",
     "showTitle": false,
     "tableResultSettingsMap": {},
     "title": ""
    }
   },
   "outputs": [
    {
     "output_type": "stream",
     "name": "stdout",
     "output_type": "stream",
     "text": [
      "✅ Log de execução registrado com sucesso!\n📌 Job: bronze_estabelecimentos\n📦 Status: SUCESSO | Registros: 50 | Duração: 2.1 segundos\n"
     ]
    }
   ],
   "source": [
    "# 📋 Registro de Log de Execução Delta (com diagnóstico embutido)\n",
    "# 🧠 Objetivo: capturar execução de pipelines com rastreabilidade robusta e confiável\n",
    "\n",
    "from pyspark.sql.functions import current_timestamp\n",
    "from pyspark.sql.types import StructType, StructField, StringType, TimestampType, IntegerType, DoubleType\n",
    "import time\n",
    "\n",
    "# ------------------------------------------\n",
    "# ✅ 1. Início da medição de tempo\n",
    "# ------------------------------------------\n",
    "start_time = time.time()\n",
    "\n",
    "# ------------------------------------------\n",
    "# ✅ 2. Nome lógico da execução (ajuste conforme o pipeline)\n",
    "# ------------------------------------------\n",
    "job_name = \"bronze_estabelecimentos\"\n",
    "\n",
    "try:\n",
    "    # ------------------------------------------\n",
    "    # ✅ 3. Simulação de processamento do pipeline (substitua pelo seu df real)\n",
    "    # Exemplo: leitura, transformação, escrita...\n",
    "    # ------------------------------------------\n",
    "    df = spark.read.option(\"header\", \"true\").csv(\"dbfs:/FileStore/Ampev/estabelecimentos.csv\")\n",
    "    df = df.dropDuplicates().na.drop()\n",
    "    \n",
    "    # Validação de schema mínimo\n",
    "    if \"EstabelecimentoID\" not in df.columns:\n",
    "        raise Exception(\"Coluna obrigatória 'EstabelecimentoID' não encontrada no DataFrame.\")\n",
    "\n",
    "    # Contagem dos registros processados\n",
    "    qtd_linhas = df.count()\n",
    "    \n",
    "    # Se chegou até aqui, deu tudo certo\n",
    "    status = \"SUCESSO\"\n",
    "    erro = None\n",
    "\n",
    "except Exception as e:\n",
    "    # Em caso de qualquer erro: captura detalhes\n",
    "    qtd_linhas = 0\n",
    "    status = \"ERRO\"\n",
    "    erro = str(e)\n",
    "\n",
    "# ------------------------------------------\n",
    "# ✅ 4. Cálculo do tempo de execução\n",
    "# ------------------------------------------\n",
    "tempo_total = round(time.time() - start_time, 2)\n",
    "\n",
    "# ------------------------------------------\n",
    "# ✅ 5. Definição do schema do log (tipagem explícita)\n",
    "# ------------------------------------------\n",
    "log_schema = StructType([\n",
    "    StructField(\"job_name\", StringType(), True),\n",
    "    StructField(\"data_execucao\", TimestampType(), True),\n",
    "    StructField(\"qtd_linhas\", IntegerType(), True),\n",
    "    StructField(\"status\", StringType(), True),\n",
    "    StructField(\"erro\", StringType(), True),\n",
    "    StructField(\"tempo_total_segundos\", DoubleType(), True)\n",
    "])\n",
    "\n",
    "# ------------------------------------------\n",
    "# ✅ 6. Criação do DataFrame de log\n",
    "# ------------------------------------------\n",
    "log_df = spark.createDataFrame([(\n",
    "    job_name,\n",
    "    None,            # Será preenchido com timestamp na próxima linha\n",
    "    qtd_linhas,\n",
    "    status,\n",
    "    erro,\n",
    "    tempo_total\n",
    ")], schema=log_schema).withColumn(\"data_execucao\", current_timestamp())\n",
    "\n",
    "# ------------------------------------------\n",
    "# ✅ 7. Caminhos para armazenamento do log\n",
    "# ------------------------------------------\n",
    "LOG_PATH = \"dbfs:/FileStore/Ampev/logs/bronze_estabelecimentos\"\n",
    "LOG_TABLE = \"bronze.logs_estabelecimentos\"\n",
    "\n",
    "# ------------------------------------------\n",
    "# ✅ 8. Escrita segura em Delta Lake\n",
    "# - Cria tabela se não existir\n",
    "# - Permite evolução de schema\n",
    "# ------------------------------------------\n",
    "log_df.write.format(\"delta\") \\\n",
    "    .mode(\"append\") \\\n",
    "    .option(\"mergeSchema\", \"true\") \\\n",
    "    .save(LOG_PATH)\n",
    "\n",
    "spark.sql(f\"\"\"\n",
    "    CREATE TABLE IF NOT EXISTS {LOG_TABLE}\n",
    "    USING DELTA\n",
    "    LOCATION '{LOG_PATH}'\n",
    "\"\"\")\n",
    "\n",
    "# ------------------------------------------\n",
    "# ✅ 9. Confirmação visual no notebook\n",
    "# ------------------------------------------\n",
    "print(\"✅ Log de execução registrado com sucesso!\")\n",
    "print(f\"📌 Job: {job_name}\")\n",
    "print(f\"📦 Status: {status} | Registros: {qtd_linhas} | Duração: {tempo_total} segundos\")\n",
    "if erro:\n",
    "    print(f\"⚠️ Detalhe do erro: {erro}\")\n"
   ]
  },
  {
   "cell_type": "code",
   "execution_count": 0,
   "metadata": {
    "application/vnd.databricks.v1+cell": {
     "cellMetadata": {
      "byteLimit": 2048000,
      "implicitDf": true,
      "rowLimit": 10000
     },
     "inputWidgets": {},
     "nuid": "566a14db-c2c4-46af-b5b4-d89ec3f437e1",
     "showTitle": false,
     "tableResultSettingsMap": {},
     "title": ""
    }
   },
   "outputs": [
    {
     "output_type": "display_data",
     "data": {
      "text/html": [
       "<style scoped>\n",
       "  .table-result-container {\n",
       "    max-height: 300px;\n",
       "    overflow: auto;\n",
       "  }\n",
       "  table, th, td {\n",
       "    border: 1px solid black;\n",
       "    border-collapse: collapse;\n",
       "  }\n",
       "  th, td {\n",
       "    padding: 5px;\n",
       "  }\n",
       "  th {\n",
       "    text-align: left;\n",
       "  }\n",
       "</style><div class='table-result-container'><table class='table-result'><thead style='background-color: white'><tr><th>job_name</th><th>data_execucao</th><th>qtd_linhas</th><th>status</th><th>erro</th><th>tempo_total_segundos</th></tr></thead><tbody><tr><td>bronze_estabelecimentos</td><td>2025-05-15T00:34:52.555Z</td><td>0</td><td>ERRO</td><td>Path must be absolute: ...</td><td>0.72</td></tr><tr><td>bronze_estabelecimentos</td><td>2025-05-15T00:43:34.518Z</td><td>0</td><td>ERRO</td><td>Path must be absolute: ...</td><td>0.42</td></tr><tr><td>bronze_estabelecimentos</td><td>2025-05-15T00:37:48.097Z</td><td>0</td><td>ERRO</td><td>Path must be absolute: ...</td><td>0.42</td></tr><tr><td>bronze_estabelecimentos</td><td>2025-05-15T00:52:20.473Z</td><td>50</td><td>SUCESSO</td><td>null</td><td>2.02</td></tr><tr><td>bronze_estabelecimentos</td><td>2025-07-30T22:13:37.544Z</td><td>50</td><td>SUCESSO</td><td>null</td><td>2.55</td></tr><tr><td>bronze_estabelecimentos</td><td>2025-07-30T22:34:19.673Z</td><td>50</td><td>SUCESSO</td><td>null</td><td>1.96</td></tr><tr><td>bronze_estabelecimentos</td><td>2025-08-01T01:00:20.886Z</td><td>50</td><td>SUCESSO</td><td>null</td><td>2.85</td></tr><tr><td>bronze_estabelecimentos</td><td>2025-08-03T21:45:22.807Z</td><td>50</td><td>SUCESSO</td><td>null</td><td>2.1</td></tr></tbody></table></div>"
      ]
     },
     "metadata": {
      "application/vnd.databricks.v1+output": {
       "addedWidgets": {},
       "aggData": [],
       "aggError": "",
       "aggOverflow": false,
       "aggSchema": [],
       "aggSeriesLimitReached": false,
       "aggType": "",
       "arguments": {},
       "columnCustomDisplayInfos": {},
       "data": [
        [
         "bronze_estabelecimentos",
         "2025-05-15T00:34:52.555Z",
         0,
         "ERRO",
         "Path must be absolute: ...",
         0.72
        ],
        [
         "bronze_estabelecimentos",
         "2025-05-15T00:43:34.518Z",
         0,
         "ERRO",
         "Path must be absolute: ...",
         0.42
        ],
        [
         "bronze_estabelecimentos",
         "2025-05-15T00:37:48.097Z",
         0,
         "ERRO",
         "Path must be absolute: ...",
         0.42
        ],
        [
         "bronze_estabelecimentos",
         "2025-05-15T00:52:20.473Z",
         50,
         "SUCESSO",
         null,
         2.02
        ],
        [
         "bronze_estabelecimentos",
         "2025-07-30T22:13:37.544Z",
         50,
         "SUCESSO",
         null,
         2.55
        ],
        [
         "bronze_estabelecimentos",
         "2025-07-30T22:34:19.673Z",
         50,
         "SUCESSO",
         null,
         1.96
        ],
        [
         "bronze_estabelecimentos",
         "2025-08-01T01:00:20.886Z",
         50,
         "SUCESSO",
         null,
         2.85
        ],
        [
         "bronze_estabelecimentos",
         "2025-08-03T21:45:22.807Z",
         50,
         "SUCESSO",
         null,
         2.1
        ]
       ],
       "datasetInfos": [],
       "dbfsResultPath": null,
       "isJsonSchema": true,
       "metadata": {
        "createTempViewForImplicitDf": true,
        "dataframeName": "_sqldf",
        "executionCount": 4
       },
       "overflow": false,
       "plotOptions": {
        "customPlotOptions": {},
        "displayType": "table",
        "pivotAggregation": null,
        "pivotColumns": null,
        "xColumns": null,
        "yColumns": null
       },
       "removedWidgets": [],
       "schema": [
        {
         "metadata": "{}",
         "name": "job_name",
         "type": "\"string\""
        },
        {
         "metadata": "{}",
         "name": "data_execucao",
         "type": "\"timestamp\""
        },
        {
         "metadata": "{}",
         "name": "qtd_linhas",
         "type": "\"integer\""
        },
        {
         "metadata": "{}",
         "name": "status",
         "type": "\"string\""
        },
        {
         "metadata": "{}",
         "name": "erro",
         "type": "\"string\""
        },
        {
         "metadata": "{}",
         "name": "tempo_total_segundos",
         "type": "\"double\""
        }
       ],
       "type": "table"
      }
     },
     "output_type": "display_data"
    }
   ],
   "source": [
    "%sql\n",
    "SELECT * FROM bronze.logs_estabelecimentos"
   ]
  }
 ],
 "metadata": {
  "application/vnd.databricks.v1+notebook": {
   "computePreferences": null,
   "dashboards": [],
   "environmentMetadata": {
    "base_environment": "",
    "environment_version": "1"
   },
   "inputWidgetPreferences": null,
   "language": "python",
   "notebookMetadata": {
    "mostRecentlyExecutedCommandWithImplicitDF": {
     "commandId": 86994531401861,
     "dataframes": [
      "_sqldf"
     ]
    },
    "pythonIndentUnit": 4
   },
   "notebookName": "Bronze.Estabelecimentos_",
   "widgets": {}
  }
 },
 "nbformat": 4,
 "nbformat_minor": 0
}