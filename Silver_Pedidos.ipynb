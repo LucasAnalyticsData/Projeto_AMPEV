{
 "cells": [
  {
   "cell_type": "markdown",
   "metadata": {
    "application/vnd.databricks.v1+cell": {
     "cellMetadata": {
      "byteLimit": 2048000,
      "rowLimit": 10000
     },
     "inputWidgets": {},
     "nuid": "6390be79-e9cd-4c79-a0b1-105df2d0b4c2",
     "showTitle": false,
     "tableResultSettingsMap": {},
     "title": ""
    }
   },
   "source": [
    "| **Informações**    |            **Detalhes**         |\n",
    "|--------------------|---------------------------------|\n",
    "| Nome da Tabela     |          Silver_Pedidos         |\n",
    "| Data da Ingestao   |            31/03/2025           |\n",
    "| Ultima Atualizaçao |            30/07/2025           |\n",
    "| Origem             | bronze.pedidos/bronze.estabelecimentos   |\n",
    "| Responsável        |           Lucas Sousa           |\n",
    "| Motivo             |   Criação de Camadas Silver     |\n",
    "| Observações        |               None              |\n",
    "\n",
    "## Histórico de Atualizações\n",
    " | Data | Desenvolvido por | Motivo |\n",
    " |:----:|--------------|--------|\n",
    " |27/05/2025 | Lucas Sousa  | Criação do notebook |\n",
    " |30/07/2025 | Lucas Sousa  | Otimizações no notebook |\n"
   ]
  },
  {
   "cell_type": "code",
   "execution_count": 0,
   "metadata": {
    "application/vnd.databricks.v1+cell": {
     "cellMetadata": {
      "byteLimit": 2048000,
      "rowLimit": 10000
     },
     "inputWidgets": {},
     "nuid": "1057f3eb-bbbf-49a9-9dd1-930042bdb5c7",
     "showTitle": false,
     "tableResultSettingsMap": {},
     "title": ""
    }
   },
   "outputs": [
    {
     "output_type": "stream",
     "name": "stdout",
     "output_type": "stream",
     "text": [
      "▶️ [STATUS] Iniciando o pipeline Silver de pedidos.\n🟡 [INFO] Verificando e criando o banco de dados 'silver' se necessário.\n🟢 [INFO] Leitura e enriquecimento de dados concluídos.\n🟢 [INFO] Colunas de auditoria adicionadas.\n🟡 [INFO] Tabela Delta já existe. Realizando operação MERGE para carga incremental.\n🟢 [INFO] MERGE INTO concluído com sucesso.\n🟢 [INFO] Garantindo o registro da tabela no metastore.\n🟢 [INFO] Tabela registrada/sincronizada com sucesso.\n🟢 [INFO] Iniciando tarefas de governança e otimização.\n📊 [INFO] Aplicando comentários na tabela 'silver.pedidos' e suas colunas...\n🟢 [INFO] Comentários aplicados com sucesso para 'silver.pedidos'.\n🚀 [STATUS] Pipeline Silver concluído com sucesso! Tabela otimizada e documentada.\n"
     ]
    }
   ],
   "source": [
    "# -*- coding: utf-8 -*-\n",
    "# #############################################################################\n",
    "# 📦 Pipeline Silver - Transformação e Enriquecimento de Pedidos\n",
    "# Autor: Lucas Sousa, especialista em Engenharia de Dados\n",
    "# #############################################################################\n",
    "# 🎯 Objetivo do Código:\n",
    "# Este script tem a missão de atuar como o principal orquestrador do pipeline\n",
    "# da camada Silver. Ele executa as seguintes tarefas:\n",
    "# 1. Lê os dados brutos de 'pedidos' e 'estabelecimentos' da camada Bronze.\n",
    "# 2. Aplica transformações de limpeza, tipagem correta e deduplicação.\n",
    "# 3. Enriquecimento: Une os dados de pedidos com as informações dos estabelecimentos.\n",
    "# 4. Persistência: Grava o resultado na camada Silver usando Delta Lake,\n",
    "#    garantindo idempotência (evita duplicatas na re-execução) e evolução de schema.\n",
    "# 5. Governança: Registra a tabela no metastore do Spark com documentação (comentários).\n",
    "# 6. Otimização: Compacta e indexa a tabela Delta para acelerar consultas futuras.\n",
    "#\n",
    "# Demonstra domínio técnico em:\n",
    "# - Modelagem de dados (Bronze -> Silver).\n",
    "# - Uso de SQL e DataFrames para transformações.\n",
    "# - Gerenciamento de tabela Delta Lake (MERGE, OPTIMIZE, VACUUM).\n",
    "# - Tratamento de erros e lógica robusta de escrita (criação vs. atualização).\n",
    "# - Boas práticas de governança (metadados e comentários).\n",
    "# - Automação de pipelines de dados.\n",
    "# #############################################################################\n",
    "\n",
    "# -----------------------------------------------------------------------------\n",
    "# 🧩 Módulo 1: Importações Essenciais\n",
    "# -----------------------------------------------------------------------------\n",
    "# Importa funções do Spark SQL para manipulação de colunas e expressões.\n",
    "from pyspark.sql.functions import current_date, current_timestamp, expr \n",
    "# Importa a classe principal para interagir com tabelas Delta.\n",
    "from delta.tables import DeltaTable\n",
    "# Importa módulo para tratamento de exceções específicas do Spark.\n",
    "from pyspark.sql.utils import AnalysisException\n",
    "# Importa módulo para interagir com o sistema de arquivos do Databricks (DBFS).\n",
    "import os \n",
    "import sys # Módulo para escrever logs de erro no stderr.\n",
    "\n",
    "# -----------------------------------------------------------------------------\n",
    "# ⚙️ Módulo 2: Definições de Parâmetros e Metadados\n",
    "# -----------------------------------------------------------------------------\n",
    "# Define o nome do banco de dados (schema) para a camada Silver.\n",
    "database = \"silver\"\n",
    "# Define o nome da tabela de destino.\n",
    "tabela = \"pedidos\"\n",
    "# Constrói o nome completo da tabela para uso em comandos SQL.\n",
    "tabela_completa = f\"{database}.{tabela}\"\n",
    "# Define o caminho físico (localização) da tabela Delta no DBFS.\n",
    "silver_path = \"dbfs:/FileStore/Ampev/silver/tables/pedidos\"\n",
    "\n",
    "# Comentários de documentação para a tabela e suas colunas (governança de dados).\n",
    "# Essa documentação é crucial para que os usuários finais (analistas, cientistas de dados)\n",
    "# entendam a origem, o propósito e a estrutura dos dados.\n",
    "comentario_tabela = \"Esta tabela contém pedidos enriquecidos com dados de estabelecimentos para análise corporativa, pronta para consumo em relatórios e dashboards.\"\n",
    "comentarios_colunas = {\n",
    "    'id_pedido': 'Identificador único do pedido, agora com tipagem INT.',\n",
    "    'id_estabelecimento': 'Código do estabelecimento associado ao pedido. Mantido como STRING para compatibilidade com a origem e evitar erros de CAST.',\n",
    "    'produto': 'Nome do produto vendido no pedido.',\n",
    "    'quantidade': 'Quantidade de itens vendidos, tipado como INT.',\n",
    "    'preco': 'Preço unitário do produto, tipado como DECIMAL para precisão financeira.',\n",
    "    'nome_estabelecimento': 'Nome comercial do estabelecimento, obtido através do JOIN com a tabela de estabelecimentos.',\n",
    "    'email': 'Email de contato do estabelecimento, para comunicação e validação.',\n",
    "    'telefone': 'Telefone principal do estabelecimento.',\n",
    "    'data_pedido': 'Data da realização do pedido, tipado como DATE.',\n",
    "    'data_carga': 'Data da carga técnica para a camada Silver, usada para particionamento e auditoria.',\n",
    "    'data_hora_carga': 'Timestamp da carga exato (UTC-3) para granularidade de auditoria.'\n",
    "}\n",
    "\n",
    "# -----------------------------------------------------------------------------\n",
    "# 🛠️ Módulo 3: Funções Auxiliares de Governança\n",
    "# -----------------------------------------------------------------------------\n",
    "def adiciona_comentarios_tabela(full_table_name: str, table_comment: str, column_comments: dict):\n",
    "    \"\"\"\n",
    "    Aplica comentários descritivos a uma tabela e suas colunas no metastore do Spark.\n",
    "\n",
    "    Args:\n",
    "        full_table_name (str): Nome completo da tabela (ex: \"silver.pedidos\").\n",
    "        table_comment (str): Comentário para a tabela.\n",
    "        column_comments (dict): Dicionário com nomes das colunas e seus comentários.\n",
    "    \"\"\"\n",
    "    print(f\"📊 [INFO] Aplicando comentários na tabela '{full_table_name}' e suas colunas...\")\n",
    "    try:\n",
    "        # Tenta aplicar o comentário na tabela.\n",
    "        spark.sql(f\"COMMENT ON TABLE {full_table_name} IS '{table_comment}'\")\n",
    "        # Itera sobre o dicionário de comentários e aplica cada um nas colunas.\n",
    "        for col_name, col_comment in column_comments.items():\n",
    "            spark.sql(f\"ALTER TABLE {full_table_name} CHANGE COLUMN {col_name} COMMENT '{col_comment}'\")\n",
    "        print(f\"🟢 [INFO] Comentários aplicados com sucesso para '{full_table_name}'.\")\n",
    "    except AnalysisException as e:\n",
    "        # Captura erros de catálogo e trata de forma não fatal, pois o pipeline já salvou os dados.\n",
    "        print(f\"⚠️ [AVISO] Falha ao aplicar comentários. Tabela '{full_table_name}' pode não estar registrada no metastore. Erro: {e}\", file=sys.stderr)\n",
    "    except Exception as e:\n",
    "        print(f\"⚠️ [AVISO] Ocorreu um erro inesperado ao aplicar comentários. Erro: {e}\", file=sys.stderr)\n",
    "\n",
    "\n",
    "# -----------------------------------------------------------------------------\n",
    "# 🚀 Módulo 4: Lógica Principal de Transformação e Escrita\n",
    "# -----------------------------------------------------------------------------\n",
    "try:\n",
    "    print(\"▶️ [STATUS] Iniciando o pipeline Silver de pedidos.\")\n",
    "\n",
    "    # 1. Passo Crítico de Governança: Garante que o banco de dados 'silver' exista.\n",
    "    # Esta é uma prática robusta que evita o erro `TABLE_OR_VIEW_NOT_FOUND`\n",
    "    # caso o schema não tenha sido criado manualmente ou por um job anterior.\n",
    "    print(f\"🟡 [INFO] Verificando e criando o banco de dados '{database}' se necessário.\")\n",
    "    spark.sql(f\"CREATE DATABASE IF NOT EXISTS {database}\")\n",
    "\n",
    "    # 2. Leitura e Enriquecimento:\n",
    "    # A query utiliza Common Table Expressions (CTEs) para melhorar a legibilidade e organizar\n",
    "    # o pipeline de transformações, seguindo uma prática de especialista.\n",
    "    # O JOIN Left é usado para garantir que todos os pedidos da Bronze sejam mantidos,\n",
    "    # mesmo que não haja um estabelecimento correspondente (o que resultaria em nulos).\n",
    "    df_pedidos_silver = spark.sql(f\"\"\"\n",
    "        WITH pedidos_limpos AS (\n",
    "            SELECT\n",
    "                CAST(PedidoID AS INT) AS id_pedido,\n",
    "                CAST(EstabelecimentoID AS STRING) AS id_estabelecimento,\n",
    "                Produto AS produto,\n",
    "                CAST(quantidade_vendida AS INT) AS quantidade,\n",
    "                CAST(Preco_Unitario AS DECIMAL(20,2)) AS preco,\n",
    "                CAST(data_venda AS DATE) AS data_pedido\n",
    "            FROM bronze.pedidos\n",
    "            WHERE PedidoID IS NOT NULL\n",
    "        ),\n",
    "        estabelecimentos_limpos AS (\n",
    "            SELECT\n",
    "                EstabelecimentoID AS id_estabelecimento,\n",
    "                Local AS nome_estabelecimento,\n",
    "                Email AS email,\n",
    "                Telefone AS telefone\n",
    "            FROM bronze.estabelecimentos\n",
    "        )\n",
    "        SELECT\n",
    "            ped.id_pedido,\n",
    "            ped.id_estabelecimento,\n",
    "            ped.produto,\n",
    "            ped.quantidade,\n",
    "            ped.preco,\n",
    "            est.nome_estabelecimento,\n",
    "            est.email,\n",
    "            est.telefone,\n",
    "            ped.data_pedido\n",
    "        FROM pedidos_limpos ped\n",
    "        LEFT JOIN estabelecimentos_limpos est\n",
    "        ON ped.id_estabelecimento = est.id_estabelecimento\n",
    "    \"\"\")\n",
    "    print(\"🟢 [INFO] Leitura e enriquecimento de dados concluídos.\")\n",
    "    \n",
    "    # 3. Adição de Colunas Técnicas de Auditoria:\n",
    "    # Adiciona colunas para rastrear a data e hora da carga, crucial para linhagem e auditoria.\n",
    "    df_pedidos_silver = df_pedidos_silver.withColumn(\"data_carga\", current_date())\n",
    "    # O fuso horário é ajustado para evitar inconsistências.\n",
    "    df_pedidos_silver = df_pedidos_silver.withColumn(\"data_hora_carga\", expr(\"current_timestamp() - INTERVAL 3 HOURS\"))\n",
    "    print(\"🟢 [INFO] Colunas de auditoria adicionadas.\")\n",
    "    \n",
    "    # 4. Verificação e Escrita da Tabela Delta:\n",
    "    # A lógica foi aprimorada para garantir que, independentemente da carga,\n",
    "    # as operações de gravação e registro no catálogo estejam sincronizadas.\n",
    "    \n",
    "    # Verifica se a tabela Delta já existe fisicamente no DBFS.\n",
    "    if DeltaTable.isDeltaTable(spark, silver_path):\n",
    "        # Se a tabela existe, usamos MERGE INTO para garantir UPSERT (atualização ou inserção).\n",
    "        # A carga incremental é mais robusta com MERGE do que com APPEND + deduplicação posterior.\n",
    "        print(\"🟡 [INFO] Tabela Delta já existe. Realizando operação MERGE para carga incremental.\")\n",
    "        delta_table = DeltaTable.forPath(spark, silver_path)\n",
    "        \n",
    "        # A lógica MERGE é a forma mais robusta e eficiente de lidar com cargas incrementais\n",
    "        # e deduplicação sem ter que reprocessar toda a tabela.\n",
    "        delta_table.alias(\"tgt\") \\\n",
    "            .merge(\n",
    "                df_pedidos_silver.alias(\"src\"),\n",
    "                \"tgt.id_pedido = src.id_pedido\" # Condição de junção para a MERGE.\n",
    "            ) \\\n",
    "            .whenMatchedUpdateAll() \\\n",
    "            .whenNotMatchedInsertAll() \\\n",
    "            .execute()\n",
    "        \n",
    "        print(\"🟢 [INFO] MERGE INTO concluído com sucesso.\")\n",
    "        \n",
    "    else:\n",
    "        # Se a tabela não existe, fazemos a primeira carga.\n",
    "        print(\"🟡 [INFO] Tabela Delta não existe. Realizando a primeira carga e criação da tabela.\")\n",
    "        (\n",
    "            df_pedidos_silver.write\n",
    "            .format(\"delta\")\n",
    "            .mode(\"overwrite\") # 'overwrite' na primeira carga para garantir um estado limpo.\n",
    "            .option(\"mergeSchema\", \"true\") # Permite a evolução de schema já na primeira carga.\n",
    "            .partitionBy(\"data_carga\") # Particionamento para otimizar leituras.\n",
    "            .save(silver_path)\n",
    "        )\n",
    "        print(\"🟢 [INFO] Dados salvos e tabela Delta criada no DBFS.\")\n",
    "\n",
    "    # 5. Governança e Otimização:\n",
    "    # Esta é a principal alteração para corrigir o erro. A criação da tabela no catálogo\n",
    "    # agora é chamada em ambos os cenários (primeira carga ou carga incremental), garantindo que\n",
    "    # o metadado no catálogo do Spark esteja sempre sincronizado com o caminho físico do Delta.\n",
    "    # Isso resolve o erro `TABLE_OR_VIEW_NOT_FOUND` se a tabela existir fisicamente, mas não\n",
    "    # logicamente no metastore.\n",
    "    print(\"🟢 [INFO] Garantindo o registro da tabela no metastore.\")\n",
    "    spark.sql(f\"\"\"\n",
    "        CREATE TABLE IF NOT EXISTS {tabela_completa}\n",
    "        USING DELTA\n",
    "        LOCATION '{silver_path}'\n",
    "    \"\"\")\n",
    "    print(\"🟢 [INFO] Tabela registrada/sincronizada com sucesso.\")\n",
    "    \n",
    "    print(\"🟢 [INFO] Iniciando tarefas de governança e otimização.\")\n",
    "    adiciona_comentarios_tabela(tabela_completa, comentario_tabela, comentarios_colunas)\n",
    "    \n",
    "    # Otimização com Z-Ordering é uma técnica avançada que co-localiza dados relacionados\n",
    "    # em arquivos no DBFS, acelerando consultas que filtram por essas colunas.\n",
    "    # O 'id_pedido' é uma ótima escolha para Z-Ordering.\n",
    "    spark.sql(f\"OPTIMIZE {tabela_completa} ZORDER BY (id_pedido)\")\n",
    "    \n",
    "    # VACUUM remove arquivos de dados que não são mais referenciados pela tabela Delta,\n",
    "    # limpando o histórico e liberando espaço em disco. O RETENTION garante a segurança.\n",
    "    spark.sql(f\"VACUUM {tabela_completa} RETAIN 168 HOURS\") # 168 horas = 7 dias.\n",
    "    \n",
    "    print(\"🚀 [STATUS] Pipeline Silver concluído com sucesso! Tabela otimizada e documentada.\")\n",
    "\n",
    "except Exception as e:\n",
    "    # O bloco 'except' captura qualquer erro grave e exibe uma mensagem clara.\n",
    "    print(f\"❌ [ERRO CRÍTICO] O pipeline Silver falhou. Erro: {str(e)}\", file=sys.stderr)\n",
    "    raise e # Re-lança o erro para que a orquestração externa (como um job) possa capturá-lo.\n"
   ]
  },
  {
   "cell_type": "code",
   "execution_count": 0,
   "metadata": {
    "application/vnd.databricks.v1+cell": {
     "cellMetadata": {
      "byteLimit": 2048000,
      "implicitDf": true,
      "rowLimit": 10000
     },
     "inputWidgets": {},
     "nuid": "cc4df901-db3b-4528-8806-f6049e4c4e51",
     "showTitle": false,
     "tableResultSettingsMap": {},
     "title": ""
    }
   },
   "outputs": [
    {
     "output_type": "display_data",
     "data": {
      "text/html": [
       "<style scoped>\n",
       "  .table-result-container {\n",
       "    max-height: 300px;\n",
       "    overflow: auto;\n",
       "  }\n",
       "  table, th, td {\n",
       "    border: 1px solid black;\n",
       "    border-collapse: collapse;\n",
       "  }\n",
       "  th, td {\n",
       "    padding: 5px;\n",
       "  }\n",
       "  th {\n",
       "    text-align: left;\n",
       "  }\n",
       "</style><div class='table-result-container'><table class='table-result'><thead style='background-color: white'><tr><th>id_pedido</th><th>id_estabelecimento</th><th>produto</th><th>quantidade</th><th>preco</th><th>nome_estabelecimento</th><th>email</th><th>telefone</th><th>data_pedido</th><th>data_carga</th><th>data_hora_carga</th></tr></thead><tbody><tr><td>17</td><td>7</td><td>Refrigerante 123</td><td>393</td><td>10.29</td><td>Pizzaria Bella</td><td>contato@pizzariabella.com</td><td>(91) 96418-7540</td><td>2023-12-23</td><td>2025-08-03</td><td>2025-08-03T19:20:13.487Z</td></tr><tr><td>19</td><td>7</td><td>Refrigerante 123</td><td>314</td><td>19.87</td><td>Pizzaria Bella</td><td>contato@pizzariabella.com</td><td>(91) 96418-7540</td><td>2024-02-18</td><td>2025-08-03</td><td>2025-08-03T19:20:13.487Z</td></tr><tr><td>95</td><td>7</td><td>Vinho ABC</td><td>205</td><td>11.64</td><td>Pizzaria Bella</td><td>contato@pizzariabella.com</td><td>(91) 96418-7540</td><td>2023-08-27</td><td>2025-08-03</td><td>2025-08-03T19:20:13.487Z</td></tr><tr><td>185</td><td>7</td><td>Água Mineral</td><td>190</td><td>7.10</td><td>Pizzaria Bella</td><td>contato@pizzariabella.com</td><td>(91) 96418-7540</td><td>2024-04-10</td><td>2025-08-03</td><td>2025-08-03T19:20:13.487Z</td></tr><tr><td>203</td><td>7</td><td>Cerveja XYZ</td><td>173</td><td>14.00</td><td>Pizzaria Bella</td><td>contato@pizzariabella.com</td><td>(91) 96418-7540</td><td>2023-09-12</td><td>2025-08-03</td><td>2025-08-03T19:20:13.487Z</td></tr><tr><td>104</td><td>7</td><td>Suco Natural</td><td>107</td><td>1.72</td><td>Pizzaria Bella</td><td>contato@pizzariabella.com</td><td>(91) 96418-7540</td><td>2023-12-11</td><td>2025-08-03</td><td>2025-08-03T19:20:13.487Z</td></tr><tr><td>39</td><td>15</td><td>Cerveja XYZ</td><td>315</td><td>16.31</td><td>Padoca do Zé</td><td>contato@padocadodze.com</td><td>(61) 94617-3404</td><td>2024-01-14</td><td>2025-08-03</td><td>2025-08-03T19:20:13.487Z</td></tr><tr><td>227</td><td>15</td><td>Vinho ABC</td><td>194</td><td>14.54</td><td>Padoca do Zé</td><td>contato@padocadodze.com</td><td>(61) 94617-3404</td><td>2024-05-12</td><td>2025-08-03</td><td>2025-08-03T19:20:13.487Z</td></tr><tr><td>9</td><td>15</td><td>Suco Natural</td><td>62</td><td>6.25</td><td>Padoca do Zé</td><td>contato@padocadodze.com</td><td>(61) 94617-3404</td><td>2024-01-20</td><td>2025-08-03</td><td>2025-08-03T19:20:13.487Z</td></tr><tr><td>215</td><td>15</td><td>Água Mineral</td><td>92</td><td>2.23</td><td>Padoca do Zé</td><td>contato@padocadodze.com</td><td>(61) 94617-3404</td><td>2023-09-10</td><td>2025-08-03</td><td>2025-08-03T19:20:13.487Z</td></tr><tr><td>44</td><td>15</td><td>Refrigerante 123</td><td>390</td><td>18.11</td><td>Padoca do Zé</td><td>contato@padocadodze.com</td><td>(61) 94617-3404</td><td>2024-01-29</td><td>2025-08-03</td><td>2025-08-03T19:20:13.487Z</td></tr><tr><td>86</td><td>15</td><td>Vinho ABC</td><td>157</td><td>4.05</td><td>Padoca do Zé</td><td>contato@padocadodze.com</td><td>(61) 94617-3404</td><td>2024-04-24</td><td>2025-08-03</td><td>2025-08-03T19:20:13.487Z</td></tr><tr><td>180</td><td>15</td><td>Vinho ABC</td><td>200</td><td>17.31</td><td>Padoca do Zé</td><td>contato@padocadodze.com</td><td>(61) 94617-3404</td><td>2023-08-02</td><td>2025-08-03</td><td>2025-08-03T19:20:13.487Z</td></tr><tr><td>152</td><td>15</td><td>Vinho ABC</td><td>329</td><td>3.27</td><td>Padoca do Zé</td><td>contato@padocadodze.com</td><td>(61) 94617-3404</td><td>2024-02-24</td><td>2025-08-03</td><td>2025-08-03T19:20:13.487Z</td></tr><tr><td>199</td><td>15</td><td>Refrigerante 123</td><td>440</td><td>6.88</td><td>Padoca do Zé</td><td>contato@padocadodze.com</td><td>(61) 94617-3404</td><td>2023-09-05</td><td>2025-08-03</td><td>2025-08-03T19:20:13.487Z</td></tr><tr><td>80</td><td>15</td><td>Água Mineral</td><td>494</td><td>18.05</td><td>Padoca do Zé</td><td>contato@padocadodze.com</td><td>(61) 94617-3404</td><td>2023-11-11</td><td>2025-08-03</td><td>2025-08-03T19:20:13.487Z</td></tr><tr><td>125</td><td>15</td><td>Água Mineral</td><td>404</td><td>18.28</td><td>Padoca do Zé</td><td>contato@padocadodze.com</td><td>(61) 94617-3404</td><td>2023-11-22</td><td>2025-08-03</td><td>2025-08-03T19:20:13.487Z</td></tr><tr><td>168</td><td>11</td><td>Água Mineral</td><td>199</td><td>16.53</td><td>Doceria Delícia</td><td>contato@doceriadelicia.com</td><td>(61) 95626-8430</td><td>2023-12-19</td><td>2025-08-03</td><td>2025-08-03T19:20:13.487Z</td></tr><tr><td>211</td><td>11</td><td>Cerveja XYZ</td><td>270</td><td>12.22</td><td>Doceria Delícia</td><td>contato@doceriadelicia.com</td><td>(61) 95626-8430</td><td>2024-03-12</td><td>2025-08-03</td><td>2025-08-03T19:20:13.487Z</td></tr><tr><td>119</td><td>11</td><td>Água Mineral</td><td>337</td><td>12.01</td><td>Doceria Delícia</td><td>contato@doceriadelicia.com</td><td>(61) 95626-8430</td><td>2023-10-15</td><td>2025-08-03</td><td>2025-08-03T19:20:13.487Z</td></tr></tbody></table></div>"
      ]
     },
     "metadata": {
      "application/vnd.databricks.v1+output": {
       "addedWidgets": {},
       "aggData": [],
       "aggError": "",
       "aggOverflow": false,
       "aggSchema": [],
       "aggSeriesLimitReached": false,
       "aggType": "",
       "arguments": {},
       "columnCustomDisplayInfos": {},
       "data": [
        [
         17,
         7,
         "Refrigerante 123",
         393,
         "10.29",
         "Pizzaria Bella",
         "contato@pizzariabella.com",
         "(91) 96418-7540",
         "2023-12-23",
         "2025-08-03",
         "2025-08-03T19:20:13.487Z"
        ],
        [
         19,
         7,
         "Refrigerante 123",
         314,
         "19.87",
         "Pizzaria Bella",
         "contato@pizzariabella.com",
         "(91) 96418-7540",
         "2024-02-18",
         "2025-08-03",
         "2025-08-03T19:20:13.487Z"
        ],
        [
         95,
         7,
         "Vinho ABC",
         205,
         "11.64",
         "Pizzaria Bella",
         "contato@pizzariabella.com",
         "(91) 96418-7540",
         "2023-08-27",
         "2025-08-03",
         "2025-08-03T19:20:13.487Z"
        ],
        [
         185,
         7,
         "Água Mineral",
         190,
         "7.10",
         "Pizzaria Bella",
         "contato@pizzariabella.com",
         "(91) 96418-7540",
         "2024-04-10",
         "2025-08-03",
         "2025-08-03T19:20:13.487Z"
        ],
        [
         203,
         7,
         "Cerveja XYZ",
         173,
         "14.00",
         "Pizzaria Bella",
         "contato@pizzariabella.com",
         "(91) 96418-7540",
         "2023-09-12",
         "2025-08-03",
         "2025-08-03T19:20:13.487Z"
        ],
        [
         104,
         7,
         "Suco Natural",
         107,
         "1.72",
         "Pizzaria Bella",
         "contato@pizzariabella.com",
         "(91) 96418-7540",
         "2023-12-11",
         "2025-08-03",
         "2025-08-03T19:20:13.487Z"
        ],
        [
         39,
         15,
         "Cerveja XYZ",
         315,
         "16.31",
         "Padoca do Zé",
         "contato@padocadodze.com",
         "(61) 94617-3404",
         "2024-01-14",
         "2025-08-03",
         "2025-08-03T19:20:13.487Z"
        ],
        [
         227,
         15,
         "Vinho ABC",
         194,
         "14.54",
         "Padoca do Zé",
         "contato@padocadodze.com",
         "(61) 94617-3404",
         "2024-05-12",
         "2025-08-03",
         "2025-08-03T19:20:13.487Z"
        ],
        [
         9,
         15,
         "Suco Natural",
         62,
         "6.25",
         "Padoca do Zé",
         "contato@padocadodze.com",
         "(61) 94617-3404",
         "2024-01-20",
         "2025-08-03",
         "2025-08-03T19:20:13.487Z"
        ],
        [
         215,
         15,
         "Água Mineral",
         92,
         "2.23",
         "Padoca do Zé",
         "contato@padocadodze.com",
         "(61) 94617-3404",
         "2023-09-10",
         "2025-08-03",
         "2025-08-03T19:20:13.487Z"
        ],
        [
         44,
         15,
         "Refrigerante 123",
         390,
         "18.11",
         "Padoca do Zé",
         "contato@padocadodze.com",
         "(61) 94617-3404",
         "2024-01-29",
         "2025-08-03",
         "2025-08-03T19:20:13.487Z"
        ],
        [
         86,
         15,
         "Vinho ABC",
         157,
         "4.05",
         "Padoca do Zé",
         "contato@padocadodze.com",
         "(61) 94617-3404",
         "2024-04-24",
         "2025-08-03",
         "2025-08-03T19:20:13.487Z"
        ],
        [
         180,
         15,
         "Vinho ABC",
         200,
         "17.31",
         "Padoca do Zé",
         "contato@padocadodze.com",
         "(61) 94617-3404",
         "2023-08-02",
         "2025-08-03",
         "2025-08-03T19:20:13.487Z"
        ],
        [
         152,
         15,
         "Vinho ABC",
         329,
         "3.27",
         "Padoca do Zé",
         "contato@padocadodze.com",
         "(61) 94617-3404",
         "2024-02-24",
         "2025-08-03",
         "2025-08-03T19:20:13.487Z"
        ],
        [
         199,
         15,
         "Refrigerante 123",
         440,
         "6.88",
         "Padoca do Zé",
         "contato@padocadodze.com",
         "(61) 94617-3404",
         "2023-09-05",
         "2025-08-03",
         "2025-08-03T19:20:13.487Z"
        ],
        [
         80,
         15,
         "Água Mineral",
         494,
         "18.05",
         "Padoca do Zé",
         "contato@padocadodze.com",
         "(61) 94617-3404",
         "2023-11-11",
         "2025-08-03",
         "2025-08-03T19:20:13.487Z"
        ],
        [
         125,
         15,
         "Água Mineral",
         404,
         "18.28",
         "Padoca do Zé",
         "contato@padocadodze.com",
         "(61) 94617-3404",
         "2023-11-22",
         "2025-08-03",
         "2025-08-03T19:20:13.487Z"
        ],
        [
         168,
         11,
         "Água Mineral",
         199,
         "16.53",
         "Doceria Delícia",
         "contato@doceriadelicia.com",
         "(61) 95626-8430",
         "2023-12-19",
         "2025-08-03",
         "2025-08-03T19:20:13.487Z"
        ],
        [
         211,
         11,
         "Cerveja XYZ",
         270,
         "12.22",
         "Doceria Delícia",
         "contato@doceriadelicia.com",
         "(61) 95626-8430",
         "2024-03-12",
         "2025-08-03",
         "2025-08-03T19:20:13.487Z"
        ],
        [
         119,
         11,
         "Água Mineral",
         337,
         "12.01",
         "Doceria Delícia",
         "contato@doceriadelicia.com",
         "(61) 95626-8430",
         "2023-10-15",
         "2025-08-03",
         "2025-08-03T19:20:13.487Z"
        ]
       ],
       "datasetInfos": [],
       "dbfsResultPath": null,
       "isJsonSchema": true,
       "metadata": {
        "createTempViewForImplicitDf": true,
        "dataframeName": "_sqldf",
        "executionCount": 2
       },
       "overflow": false,
       "plotOptions": {
        "customPlotOptions": {},
        "displayType": "table",
        "pivotAggregation": null,
        "pivotColumns": null,
        "xColumns": null,
        "yColumns": null
       },
       "removedWidgets": [],
       "schema": [
        {
         "metadata": "{\"comment\":\"Identificador único do pedido, agora com tipagem INT.\"}",
         "name": "id_pedido",
         "type": "\"integer\""
        },
        {
         "metadata": "{\"comment\":\"Código do estabelecimento associado ao pedido. Mantido como STRING para compatibilidade com a origem e evitar erros de CAST.\"}",
         "name": "id_estabelecimento",
         "type": "\"integer\""
        },
        {
         "metadata": "{\"comment\":\"Nome do produto vendido no pedido.\"}",
         "name": "produto",
         "type": "\"string\""
        },
        {
         "metadata": "{\"comment\":\"Quantidade de itens vendidos, tipado como INT.\"}",
         "name": "quantidade",
         "type": "\"integer\""
        },
        {
         "metadata": "{\"comment\":\"Preço unitário do produto, tipado como DECIMAL para precisão financeira.\"}",
         "name": "preco",
         "type": "\"decimal(20,2)\""
        },
        {
         "metadata": "{\"comment\":\"Nome comercial do estabelecimento, obtido através do JOIN com a tabela de estabelecimentos.\"}",
         "name": "nome_estabelecimento",
         "type": "\"string\""
        },
        {
         "metadata": "{\"comment\":\"Email de contato do estabelecimento, para comunicação e validação.\"}",
         "name": "email",
         "type": "\"string\""
        },
        {
         "metadata": "{\"comment\":\"Telefone principal do estabelecimento.\"}",
         "name": "telefone",
         "type": "\"string\""
        },
        {
         "metadata": "{\"comment\":\"Data da realização do pedido, tipado como DATE.\"}",
         "name": "data_pedido",
         "type": "\"date\""
        },
        {
         "metadata": "{\"comment\":\"Data da carga técnica para a camada Silver, usada para particionamento e auditoria.\"}",
         "name": "data_carga",
         "type": "\"date\""
        },
        {
         "metadata": "{\"comment\":\"Timestamp da carga exato (UTC-3) para granularidade de auditoria.\"}",
         "name": "data_hora_carga",
         "type": "\"timestamp\""
        }
       ],
       "type": "table"
      }
     },
     "output_type": "display_data"
    }
   ],
   "source": [
    "%sql\n",
    "SELECT * FROM silver.pedidos LIMIT 20"
   ]
  },
  {
   "cell_type": "code",
   "execution_count": 0,
   "metadata": {
    "application/vnd.databricks.v1+cell": {
     "cellMetadata": {
      "byteLimit": 2048000,
      "rowLimit": 10000
     },
     "inputWidgets": {},
     "nuid": "dc2d042f-1530-4a60-8145-4335d93dbd51",
     "showTitle": false,
     "tableResultSettingsMap": {},
     "title": ""
    }
   },
   "outputs": [
    {
     "output_type": "stream",
     "name": "stdout",
     "output_type": "stream",
     "text": [
      "✅ Log de execução da camada Silver registrado com sucesso!\n📌 Job: silver_pedidos\n📦 Status: SUCESSO | Registros processados: 250 | Duração: 2.38 segundos\n"
     ]
    }
   ],
   "source": [
    "# 📋 Registro de Log de Execução Delta – Camada Silver\n",
    "# 🎯 Objetivo: rastrear a execução da camada Silver de forma auditável e resiliente\n",
    "\n",
    "from pyspark.sql.functions import current_timestamp\n",
    "from pyspark.sql.types import StructType, StructField, StringType, TimestampType, IntegerType, DoubleType\n",
    "import time\n",
    "\n",
    "# ------------------------------------------\n",
    "# ✅ 1. Início da medição de tempo da execução\n",
    "# ------------------------------------------\n",
    "start_time = time.time()\n",
    "\n",
    "# ------------------------------------------\n",
    "# ✅ 2. Identificação lógica do job atual\n",
    "# ------------------------------------------\n",
    "job_name = \"silver_pedidos\"  # 🔁 Altere conforme o pipeline\n",
    "\n",
    "try:\n",
    "    # ----------------------------------------------------\n",
    "    # ✅ 3. Simulação de processamento da camada Silver\n",
    "    #    Substitua este trecho pelo seu pipeline real\n",
    "    # ----------------------------------------------------\n",
    "    df = spark.table(\"silver.pedidos\")  # Exemplo: leitura da tabela já processada\n",
    "    qtd_linhas = df.count()  # Contagem após transformação\n",
    "\n",
    "    status = \"SUCESSO\"\n",
    "    erro = None\n",
    "\n",
    "except Exception as e:\n",
    "    # 🧨 Captura qualquer erro ocorrido durante o pipeline\n",
    "    qtd_linhas = 0\n",
    "    status = \"ERRO\"\n",
    "    erro = str(e)\n",
    "\n",
    "# ------------------------------------------\n",
    "# ✅ 4. Medição do tempo total de execução\n",
    "# ------------------------------------------\n",
    "tempo_total = round(time.time() - start_time, 2)\n",
    "\n",
    "# ------------------------------------------\n",
    "# ✅ 5. Definição do schema explícito para o log Delta\n",
    "# ------------------------------------------\n",
    "log_schema = StructType([\n",
    "    StructField(\"job_name\", StringType(), True),\n",
    "    StructField(\"data_execucao\", TimestampType(), True),\n",
    "    StructField(\"qtd_linhas\", IntegerType(), True),\n",
    "    StructField(\"status\", StringType(), True),\n",
    "    StructField(\"erro\", StringType(), True),\n",
    "    StructField(\"tempo_total_segundos\", DoubleType(), True)\n",
    "])\n",
    "\n",
    "# ------------------------------------------\n",
    "# ✅ 6. Criação do DataFrame de log com metadados técnicos\n",
    "# ------------------------------------------\n",
    "log_df = spark.createDataFrame([(\n",
    "    job_name,\n",
    "    None,  # Timestamp preenchido com a função atualizada abaixo\n",
    "    qtd_linhas,\n",
    "    status,\n",
    "    erro,\n",
    "    tempo_total\n",
    ")], schema=log_schema).withColumn(\"data_execucao\", current_timestamp())\n",
    "\n",
    "# ------------------------------------------\n",
    "# ✅ 7. Caminhos de armazenamento do log na camada Silver\n",
    "# ------------------------------------------\n",
    "LOG_PATH = \"dbfs:/FileStore/Ampev/logs/silver_pedidos\"  # Delta Storage\n",
    "LOG_TABLE = \"silver.logs_pedidos\"  # Catálogo Delta\n",
    "\n",
    "# ------------------------------------------\n",
    "# ✅ 8. Escrita segura e resiliente no Delta Lake\n",
    "# - Garante que o log seja incremental e tolerante a mudanças de schema\n",
    "# ------------------------------------------\n",
    "log_df.write.format(\"delta\") \\\n",
    "    .mode(\"append\") \\\n",
    "    .option(\"mergeSchema\", \"true\") \\\n",
    "    .save(LOG_PATH)\n",
    "\n",
    "# Cria a tabela Delta no catálogo se não existir\n",
    "spark.sql(f\"\"\"\n",
    "    CREATE TABLE IF NOT EXISTS {LOG_TABLE}\n",
    "    USING DELTA\n",
    "    LOCATION '{LOG_PATH}'\n",
    "\"\"\")\n",
    "\n",
    "# ------------------------------------------\n",
    "# ✅ 9. Feedback visual para o engenheiro\n",
    "# ------------------------------------------\n",
    "print(\"✅ Log de execução da camada Silver registrado com sucesso!\")\n",
    "print(f\"📌 Job: {job_name}\")\n",
    "print(f\"📦 Status: {status} | Registros processados: {qtd_linhas} | Duração: {tempo_total} segundos\")\n",
    "if erro:\n",
    "    print(f\"⚠️ Detalhes do erro registrado no log: {erro}\")\n"
   ]
  },
  {
   "cell_type": "code",
   "execution_count": 0,
   "metadata": {
    "application/vnd.databricks.v1+cell": {
     "cellMetadata": {
      "byteLimit": 2048000,
      "implicitDf": true,
      "rowLimit": 10000
     },
     "inputWidgets": {},
     "nuid": "1b131930-72b9-4f01-908f-6dc1434aa403",
     "showTitle": false,
     "tableResultSettingsMap": {},
     "title": ""
    }
   },
   "outputs": [
    {
     "output_type": "display_data",
     "data": {
      "text/html": [
       "<style scoped>\n",
       "  .table-result-container {\n",
       "    max-height: 300px;\n",
       "    overflow: auto;\n",
       "  }\n",
       "  table, th, td {\n",
       "    border: 1px solid black;\n",
       "    border-collapse: collapse;\n",
       "  }\n",
       "  th, td {\n",
       "    padding: 5px;\n",
       "  }\n",
       "  th {\n",
       "    text-align: left;\n",
       "  }\n",
       "</style><div class='table-result-container'><table class='table-result'><thead style='background-color: white'><tr><th>job_name</th><th>data_execucao</th><th>qtd_linhas</th><th>status</th><th>erro</th><th>tempo_total_segundos</th></tr></thead><tbody><tr><td>silver_pedidos</td><td>2025-07-31T00:13:45.969Z</td><td>750</td><td>SUCESSO</td><td>null</td><td>1.57</td></tr><tr><td>silver_pedidos</td><td>2025-08-01T01:24:56.792Z</td><td>250</td><td>SUCESSO</td><td>null</td><td>2.67</td></tr><tr><td>silver_pedidos</td><td>2025-08-03T22:21:42.659Z</td><td>250</td><td>SUCESSO</td><td>null</td><td>2.38</td></tr></tbody></table></div>"
      ]
     },
     "metadata": {
      "application/vnd.databricks.v1+output": {
       "addedWidgets": {},
       "aggData": [],
       "aggError": "",
       "aggOverflow": false,
       "aggSchema": [],
       "aggSeriesLimitReached": false,
       "aggType": "",
       "arguments": {},
       "columnCustomDisplayInfos": {},
       "data": [
        [
         "silver_pedidos",
         "2025-07-31T00:13:45.969Z",
         750,
         "SUCESSO",
         null,
         1.57
        ],
        [
         "silver_pedidos",
         "2025-08-01T01:24:56.792Z",
         250,
         "SUCESSO",
         null,
         2.67
        ],
        [
         "silver_pedidos",
         "2025-08-03T22:21:42.659Z",
         250,
         "SUCESSO",
         null,
         2.38
        ]
       ],
       "datasetInfos": [],
       "dbfsResultPath": null,
       "isJsonSchema": true,
       "metadata": {
        "createTempViewForImplicitDf": true,
        "dataframeName": "_sqldf",
        "executionCount": 4
       },
       "overflow": false,
       "plotOptions": {
        "customPlotOptions": {},
        "displayType": "table",
        "pivotAggregation": null,
        "pivotColumns": null,
        "xColumns": null,
        "yColumns": null
       },
       "removedWidgets": [],
       "schema": [
        {
         "metadata": "{}",
         "name": "job_name",
         "type": "\"string\""
        },
        {
         "metadata": "{}",
         "name": "data_execucao",
         "type": "\"timestamp\""
        },
        {
         "metadata": "{}",
         "name": "qtd_linhas",
         "type": "\"integer\""
        },
        {
         "metadata": "{}",
         "name": "status",
         "type": "\"string\""
        },
        {
         "metadata": "{}",
         "name": "erro",
         "type": "\"string\""
        },
        {
         "metadata": "{}",
         "name": "tempo_total_segundos",
         "type": "\"double\""
        }
       ],
       "type": "table"
      }
     },
     "output_type": "display_data"
    }
   ],
   "source": [
    "%sql\n",
    "SELECT * FROM silver.logs_pedidos"
   ]
  }
 ],
 "metadata": {
  "application/vnd.databricks.v1+notebook": {
   "computePreferences": null,
   "dashboards": [],
   "environmentMetadata": {
    "base_environment": "",
    "environment_version": "1"
   },
   "inputWidgetPreferences": null,
   "language": "python",
   "notebookMetadata": {
    "mostRecentlyExecutedCommandWithImplicitDF": {
     "commandId": 2180081326335882,
     "dataframes": [
      "_sqldf"
     ]
    },
    "pythonIndentUnit": 4
   },
   "notebookName": "Silver_Pedidos",
   "widgets": {}
  }
 },
 "nbformat": 4,
 "nbformat_minor": 0
}