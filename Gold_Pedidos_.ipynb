{
 "cells": [
  {
   "cell_type": "markdown",
   "metadata": {
    "application/vnd.databricks.v1+cell": {
     "cellMetadata": {
      "byteLimit": 2048000,
      "rowLimit": 10000
     },
     "inputWidgets": {},
     "nuid": "3695eda3-dfe1-4ed9-a290-f9c46c94ca6f",
     "showTitle": false,
     "tableResultSettingsMap": {},
     "title": ""
    }
   },
   "source": [
    "| **Informações**    |            **Detalhes**         |\n",
    "|--------------------|---------------------------------|\n",
    "| Nome da Tabela     |          Gold_Pedidos           |\n",
    "| Data da Ingestao   |            31/03/2025           |\n",
    "| Ultima Atualizaçao |            30/07/2025           |\n",
    "| Origem             |         Silver.pedidos          |\n",
    "| Responsável        |           Lucas Sousa           |\n",
    "| Motivo             |   Criação de Camadas Gold       |\n",
    "| Observações        |               None              |\n",
    "\n",
    "## Histórico de Atualizações\n",
    " | Data | Desenvolvido por | Motivo |\n",
    " |:----:|--------------|--------|\n",
    " |31/07/2025 | Lucas Sousa  | Criação do notebook |\n",
    " "
   ]
  },
  {
   "cell_type": "markdown",
   "metadata": {
    "application/vnd.databricks.v1+cell": {
     "cellMetadata": {
      "byteLimit": 2048000,
      "rowLimit": 10000
     },
     "inputWidgets": {},
     "nuid": "ce1b137f-b26a-4900-be35-61aed1c2b2c2",
     "showTitle": false,
     "tableResultSettingsMap": {},
     "title": ""
    }
   },
   "source": [
    "\n",
    "###1. Desempenho de Vendas por Período\n",
    "🎯 Objetivo: Compreender padrões sazonais e tendências de crescimento ou queda.\n",
    "\n",
    "<h4 style=\"color: #007bff; font-size: 1.2em;\">Importância Estratégica:</h4>\n",
    "<p style=\"font-size: 1.1em;\">Esta análise fornece uma visão clara do progresso das vendas ao longo do tempo. É fundamental para a gestão financeira, pois permite que a equipe acompanhe o desempenho em tempo real, avalie a trajetória em relação a metas orçamentárias e identifique rapidamente se o negócio está no caminho certo para o sucesso anual. O uso do acumulado ajuda a suavizar as flutuações de curto prazo e a focar na tendência geral.</p>\n",
    "\n"
   ]
  },
  {
   "cell_type": "code",
   "execution_count": 0,
   "metadata": {
    "application/vnd.databricks.v1+cell": {
     "cellMetadata": {
      "byteLimit": 2048000,
      "rowLimit": 10000
     },
     "inputWidgets": {},
     "nuid": "83b4caad-c571-454c-ba7c-3104596110cf",
     "showTitle": false,
     "tableResultSettingsMap": {},
     "title": ""
    }
   },
   "outputs": [
    {
     "output_type": "display_data",
     "data": {
      "text/html": [
       "<style scoped>\n",
       "  .table-result-container {\n",
       "    max-height: 300px;\n",
       "    overflow: auto;\n",
       "  }\n",
       "  table, th, td {\n",
       "    border: 1px solid black;\n",
       "    border-collapse: collapse;\n",
       "  }\n",
       "  th, td {\n",
       "    padding: 5px;\n",
       "  }\n",
       "  th {\n",
       "    text-align: left;\n",
       "  }\n",
       "</style><div class='table-result-container'><table class='table-result'><thead style='background-color: white'><tr><th>ano</th><th>mes</th><th>receita_mensal</th><th>receita_acumulada_anual</th></tr></thead><tbody><tr><td>2023</td><td>7</td><td>33987.27</td><td>33987.27</td></tr><tr><td>2023</td><td>8</td><td>63758.35</td><td>97745.62</td></tr><tr><td>2023</td><td>9</td><td>81294.98</td><td>179040.60</td></tr><tr><td>2023</td><td>10</td><td>45259.91</td><td>224300.51</td></tr><tr><td>2023</td><td>11</td><td>66792.56</td><td>291093.07</td></tr><tr><td>2023</td><td>12</td><td>57310.15</td><td>348403.22</td></tr><tr><td>2024</td><td>1</td><td>55308.10</td><td>55308.10</td></tr><tr><td>2024</td><td>2</td><td>58914.52</td><td>114222.62</td></tr><tr><td>2024</td><td>3</td><td>57272.58</td><td>171495.20</td></tr><tr><td>2024</td><td>4</td><td>59854.70</td><td>231349.90</td></tr><tr><td>2024</td><td>5</td><td>86863.91</td><td>318213.81</td></tr><tr><td>2024</td><td>6</td><td>36528.39</td><td>354742.20</td></tr><tr><td>2024</td><td>7</td><td>21589.58</td><td>376331.78</td></tr></tbody></table></div>"
      ]
     },
     "metadata": {
      "application/vnd.databricks.v1+output": {
       "addedWidgets": {},
       "aggData": [],
       "aggError": "",
       "aggOverflow": false,
       "aggSchema": [],
       "aggSeriesLimitReached": false,
       "aggType": "",
       "arguments": {},
       "columnCustomDisplayInfos": {},
       "data": [
        [
         2023,
         7,
         "33987.27",
         "33987.27"
        ],
        [
         2023,
         8,
         "63758.35",
         "97745.62"
        ],
        [
         2023,
         9,
         "81294.98",
         "179040.60"
        ],
        [
         2023,
         10,
         "45259.91",
         "224300.51"
        ],
        [
         2023,
         11,
         "66792.56",
         "291093.07"
        ],
        [
         2023,
         12,
         "57310.15",
         "348403.22"
        ],
        [
         2024,
         1,
         "55308.10",
         "55308.10"
        ],
        [
         2024,
         2,
         "58914.52",
         "114222.62"
        ],
        [
         2024,
         3,
         "57272.58",
         "171495.20"
        ],
        [
         2024,
         4,
         "59854.70",
         "231349.90"
        ],
        [
         2024,
         5,
         "86863.91",
         "318213.81"
        ],
        [
         2024,
         6,
         "36528.39",
         "354742.20"
        ],
        [
         2024,
         7,
         "21589.58",
         "376331.78"
        ]
       ],
       "datasetInfos": [],
       "dbfsResultPath": null,
       "isJsonSchema": true,
       "metadata": {},
       "overflow": false,
       "plotOptions": {
        "customPlotOptions": {},
        "displayType": "table",
        "pivotAggregation": null,
        "pivotColumns": null,
        "xColumns": null,
        "yColumns": null
       },
       "removedWidgets": [],
       "schema": [
        {
         "metadata": "{}",
         "name": "ano",
         "type": "\"integer\""
        },
        {
         "metadata": "{}",
         "name": "mes",
         "type": "\"integer\""
        },
        {
         "metadata": "{}",
         "name": "receita_mensal",
         "type": "\"decimal(38,2)\""
        },
        {
         "metadata": "{}",
         "name": "receita_acumulada_anual",
         "type": "\"decimal(38,2)\""
        }
       ],
       "type": "table"
      }
     },
     "output_type": "display_data"
    }
   ],
   "source": [
    "display(spark.sql(\"\"\"\n",
    "WITH vendas_mensais AS (\n",
    "    SELECT\n",
    "        YEAR(data_pedido) AS ano,\n",
    "        MONTH(data_pedido) AS mes,\n",
    "        SUM(quantidade * preco) AS receita_mensal\n",
    "    FROM silver.pedidos\n",
    "    GROUP BY ano, mes\n",
    ")\n",
    "SELECT\n",
    "    ano,\n",
    "    mes,\n",
    "    receita_mensal,\n",
    "    SUM(receita_mensal) OVER (PARTITION BY ano ORDER BY mes) AS receita_acumulada_anual\n",
    "FROM vendas_mensais\n",
    "ORDER BY ano, mes\n",
    "\"\"\"))"
   ]
  },
  {
   "cell_type": "markdown",
   "metadata": {
    "application/vnd.databricks.v1+cell": {
     "cellMetadata": {
      "byteLimit": 2048000,
      "rowLimit": 10000
     },
     "inputWidgets": {},
     "nuid": "da71fa26-c3fa-4673-9fa9-bc09718321b6",
     "showTitle": false,
     "tableResultSettingsMap": {},
     "title": ""
    }
   },
   "source": [
    "###2. Produtos Mais Rentaveis\n",
    "🎯 Objetivo: Identificar os itens mais rentáveis para estratégias de promoção e precificação.\n",
    "\n",
    "<h4 style=\"color: #007bff; font-size: 1.2em;\">Importância Estratégica:</h4>\n",
    "<p style=\"font-size: 1.1em;\">Identificar os produtos de maior sucesso em termos de receita é crucial para otimizar a estratégia de negócios. Com essa informação, a empresa pode focar em campanhas de marketing eficazes, planejar o estoque de forma mais assertiva e direcionar o desenvolvimento de novos produtos. Compreender o que o cliente mais valoriza permite alocar recursos de forma mais inteligente para maximizar a lucratividade.</p>"
   ]
  },
  {
   "cell_type": "code",
   "execution_count": 0,
   "metadata": {
    "application/vnd.databricks.v1+cell": {
     "cellMetadata": {
      "byteLimit": 2048000,
      "implicitDf": true,
      "rowLimit": 10000
     },
     "inputWidgets": {},
     "nuid": "b72f98fe-ecf8-40e9-bdd8-4389f38a79ed",
     "showTitle": false,
     "tableResultSettingsMap": {},
     "title": ""
    }
   },
   "outputs": [
    {
     "output_type": "display_data",
     "data": {
      "text/html": [
       "<style scoped>\n",
       "  .table-result-container {\n",
       "    max-height: 300px;\n",
       "    overflow: auto;\n",
       "  }\n",
       "  table, th, td {\n",
       "    border: 1px solid black;\n",
       "    border-collapse: collapse;\n",
       "  }\n",
       "  th, td {\n",
       "    padding: 5px;\n",
       "  }\n",
       "  th {\n",
       "    text-align: left;\n",
       "  }\n",
       "</style><div class='table-result-container'><table class='table-result'><thead style='background-color: white'><tr><th>produto</th><th>receita_total_produto</th><th>quantidade_total_vendida</th></tr></thead><tbody><tr><td>Vinho ABC</td><td>168253.57</td><td>14191</td></tr><tr><td>Cerveja XYZ</td><td>165041.51</td><td>15036</td></tr><tr><td>Água Mineral</td><td>135812.69</td><td>12874</td></tr><tr><td>Refrigerante 123</td><td>129574.58</td><td>11741</td></tr><tr><td>Suco Natural</td><td>126052.65</td><td>12931</td></tr></tbody></table></div>"
      ]
     },
     "metadata": {
      "application/vnd.databricks.v1+output": {
       "addedWidgets": {},
       "aggData": [],
       "aggError": "",
       "aggOverflow": false,
       "aggSchema": [],
       "aggSeriesLimitReached": false,
       "aggType": "",
       "arguments": {},
       "columnCustomDisplayInfos": {},
       "data": [
        [
         "Vinho ABC",
         "168253.57",
         14191
        ],
        [
         "Cerveja XYZ",
         "165041.51",
         15036
        ],
        [
         "Água Mineral",
         "135812.69",
         12874
        ],
        [
         "Refrigerante 123",
         "129574.58",
         11741
        ],
        [
         "Suco Natural",
         "126052.65",
         12931
        ]
       ],
       "datasetInfos": [],
       "dbfsResultPath": null,
       "isJsonSchema": true,
       "metadata": {
        "createTempViewForImplicitDf": true,
        "dataframeName": "_sqldf",
        "executionCount": 2
       },
       "overflow": false,
       "plotOptions": {
        "customPlotOptions": {},
        "displayType": "table",
        "pivotAggregation": null,
        "pivotColumns": null,
        "xColumns": null,
        "yColumns": null
       },
       "removedWidgets": [],
       "schema": [
        {
         "metadata": "{\"comment\":\"Nome do produto vendido no pedido.\"}",
         "name": "produto",
         "type": "\"string\""
        },
        {
         "metadata": "{}",
         "name": "receita_total_produto",
         "type": "\"decimal(38,2)\""
        },
        {
         "metadata": "{}",
         "name": "quantidade_total_vendida",
         "type": "\"long\""
        }
       ],
       "type": "table"
      }
     },
     "output_type": "display_data"
    }
   ],
   "source": [
    "%sql\n",
    "SELECT\n",
    "    produto,\n",
    "    SUM(quantidade * preco) AS receita_total_produto,\n",
    "    SUM(quantidade) AS quantidade_total_vendida\n",
    "FROM silver.pedidos\n",
    "GROUP BY produto\n",
    "ORDER BY receita_total_produto DESC\n",
    "LIMIT 10"
   ]
  },
  {
   "cell_type": "markdown",
   "metadata": {
    "application/vnd.databricks.v1+cell": {
     "cellMetadata": {
      "byteLimit": 2048000,
      "rowLimit": 10000
     },
     "inputWidgets": {},
     "nuid": "75614706-a0d3-4d89-acff-9743a290ee80",
     "showTitle": false,
     "tableResultSettingsMap": {},
     "title": ""
    }
   },
   "source": [
    "###3. Desempenho por Estabelecimento\n",
    "🎯 Objetivo: Reconhecer os parceiros mais lucrativos e direcionar campanhas de relacionamento.\n",
    "\n",
    "<h4 style=\"color: #007bff; font-size: 1.2em;\">Importância Estratégica:</h4>\n",
    "<p style=\"font-size: 1.1em;\">Esta análise é vital para o gerenciamento da sua rede de parceiros. Ela permite premiar os melhores estabelecimentos (com bonificações, por exemplo) e identificar os de pior desempenho para oferecer suporte, treinamento ou, se necessário, reavaliar a parceria. É uma base sólida para a gestão de relacionamento e expansão da rede.</p>"
   ]
  },
  {
   "cell_type": "code",
   "execution_count": 0,
   "metadata": {
    "application/vnd.databricks.v1+cell": {
     "cellMetadata": {
      "byteLimit": 2048000,
      "implicitDf": true,
      "rowLimit": 10000
     },
     "inputWidgets": {},
     "nuid": "77e0001a-0073-4383-bf45-739ad33dd0b8",
     "showTitle": false,
     "tableResultSettingsMap": {},
     "title": ""
    }
   },
   "outputs": [
    {
     "output_type": "display_data",
     "data": {
      "text/html": [
       "<style scoped>\n",
       "  .table-result-container {\n",
       "    max-height: 300px;\n",
       "    overflow: auto;\n",
       "  }\n",
       "  table, th, td {\n",
       "    border: 1px solid black;\n",
       "    border-collapse: collapse;\n",
       "  }\n",
       "  th, td {\n",
       "    padding: 5px;\n",
       "  }\n",
       "  th {\n",
       "    text-align: left;\n",
       "  }\n",
       "</style><div class='table-result-container'><table class='table-result'><thead style='background-color: white'><tr><th>nome_estabelecimento</th><th>receita_total</th><th>numero_total_pedidos</th><th>quantidade_total_itens_vendidos</th></tr></thead><tbody><tr><td>Padoca do Zé</td><td>40116.67</td><td>11</td><td>3077</td></tr><tr><td>Oficina Mecânica</td><td>32641.69</td><td>5</td><td>2188</td></tr><tr><td>Padaria do Paulo</td><td>29919.66</td><td>11</td><td>2361</td></tr><tr><td>Bar e Grill</td><td>27440.37</td><td>6</td><td>1902</td></tr><tr><td>Bar da Esquina</td><td>27249.56</td><td>7</td><td>2065</td></tr><tr><td>Farmácia Popular</td><td>25732.20</td><td>9</td><td>2678</td></tr><tr><td>Barbearia do Toninho</td><td>24500.19</td><td>8</td><td>2656</td></tr><tr><td>Cantina Italiana</td><td>23442.84</td><td>8</td><td>1998</td></tr><tr><td>Academia Fit</td><td>22054.23</td><td>8</td><td>2227</td></tr><tr><td>Bar do João</td><td>20065.57</td><td>8</td><td>1954</td></tr><tr><td>Cervejaria Artesanal</td><td>20049.43</td><td>7</td><td>1512</td></tr><tr><td>Restaurante Mexicano</td><td>19948.45</td><td>5</td><td>1279</td></tr><tr><td>Lanchonete Top</td><td>19533.59</td><td>7</td><td>2136</td></tr><tr><td>Cervejaria Gourmet</td><td>19352.57</td><td>7</td><td>1504</td></tr><tr><td>Café Expresso</td><td>18460.28</td><td>5</td><td>1567</td></tr><tr><td>Salão Beleza Pura</td><td>17775.60</td><td>7</td><td>1893</td></tr><tr><td>Padaria do Bairro</td><td>17547.14</td><td>4</td><td>1182</td></tr><tr><td>Pizzaria Bella</td><td>16624.39</td><td>6</td><td>1382</td></tr><tr><td>Pizzaria Italiana</td><td>16232.84</td><td>5</td><td>1579</td></tr><tr><td>Restaurante Vegetariano</td><td>16200.98</td><td>5</td><td>1710</td></tr><tr><td>Padaria São João</td><td>15567.16</td><td>8</td><td>2016</td></tr><tr><td>Restaurante da Ana</td><td>15204.42</td><td>5</td><td>1473</td></tr><tr><td>Loja de Roupas Fashion</td><td>13401.32</td><td>6</td><td>1011</td></tr><tr><td>Pastelaria da Vila</td><td>13114.32</td><td>3</td><td>872</td></tr><tr><td>Doceria Fina</td><td>12619.09</td><td>4</td><td>1742</td></tr><tr><td>Adega do Luiz</td><td>12513.73</td><td>3</td><td>883</td></tr><tr><td>Frutaria Tropical</td><td>12072.60</td><td>3</td><td>805</td></tr><tr><td>Restaurante Francês</td><td>11887.83</td><td>3</td><td>916</td></tr><tr><td>Botequim do Chico</td><td>11453.32</td><td>3</td><td>1219</td></tr><tr><td>Hamburgueria Burger</td><td>10737.66</td><td>4</td><td>1101</td></tr><tr><td>Doceria Delícia</td><td>10636.24</td><td>3</td><td>806</td></tr><tr><td>Sorveteria Geladinho</td><td>10610.44</td><td>4</td><td>930</td></tr><tr><td>Mercadinho do Bairro</td><td>10071.97</td><td>4</td><td>935</td></tr><tr><td>Livraria Cultura</td><td>9816.76</td><td>5</td><td>1279</td></tr><tr><td>Restaurante Brasileiro</td><td>9670.53</td><td>4</td><td>1340</td></tr><tr><td>Bar do mineiro</td><td>8891.70</td><td>3</td><td>984</td></tr><tr><td>Pastelaria do Mário</td><td>8368.11</td><td>4</td><td>833</td></tr><tr><td>Sorveteria Sorvetão</td><td>8177.86</td><td>4</td><td>1184</td></tr><tr><td>Lanchonete do Bairro</td><td>7858.12</td><td>3</td><td>592</td></tr><tr><td>Chocolateria</td><td>7181.96</td><td>2</td><td>542</td></tr><tr><td>Mercadinho da Esquina</td><td>6704.78</td><td>5</td><td>751</td></tr><tr><td>Papelaria Central</td><td>6645.43</td><td>2</td><td>397</td></tr><tr><td>Hamburgueria Prime</td><td>6372.79</td><td>4</td><td>677</td></tr><tr><td>Pet Shop Amigo Fiel</td><td>5619.22</td><td>4</td><td>661</td></tr><tr><td>Supermercado ABC</td><td>5152.89</td><td>3</td><td>921</td></tr><tr><td>Restaurante Japonês</td><td>5116.91</td><td>4</td><td>1119</td></tr><tr><td>Lanchonete da Maria</td><td>4505.47</td><td>4</td><td>795</td></tr><tr><td>Café Gourmet</td><td>4372.94</td><td>2</td><td>314</td></tr><tr><td>Pizzaria São Pedro</td><td>3528.58</td><td>3</td><td>567</td></tr><tr><td>Churrascaria Gaúcha</td><td>1972.60</td><td>2</td><td>258</td></tr></tbody></table></div>"
      ]
     },
     "metadata": {
      "application/vnd.databricks.v1+output": {
       "addedWidgets": {},
       "aggData": [],
       "aggError": "",
       "aggOverflow": false,
       "aggSchema": [],
       "aggSeriesLimitReached": false,
       "aggType": "",
       "arguments": {},
       "columnCustomDisplayInfos": {},
       "data": [
        [
         "Padoca do Zé",
         "40116.67",
         11,
         3077
        ],
        [
         "Oficina Mecânica",
         "32641.69",
         5,
         2188
        ],
        [
         "Padaria do Paulo",
         "29919.66",
         11,
         2361
        ],
        [
         "Bar e Grill",
         "27440.37",
         6,
         1902
        ],
        [
         "Bar da Esquina",
         "27249.56",
         7,
         2065
        ],
        [
         "Farmácia Popular",
         "25732.20",
         9,
         2678
        ],
        [
         "Barbearia do Toninho",
         "24500.19",
         8,
         2656
        ],
        [
         "Cantina Italiana",
         "23442.84",
         8,
         1998
        ],
        [
         "Academia Fit",
         "22054.23",
         8,
         2227
        ],
        [
         "Bar do João",
         "20065.57",
         8,
         1954
        ],
        [
         "Cervejaria Artesanal",
         "20049.43",
         7,
         1512
        ],
        [
         "Restaurante Mexicano",
         "19948.45",
         5,
         1279
        ],
        [
         "Lanchonete Top",
         "19533.59",
         7,
         2136
        ],
        [
         "Cervejaria Gourmet",
         "19352.57",
         7,
         1504
        ],
        [
         "Café Expresso",
         "18460.28",
         5,
         1567
        ],
        [
         "Salão Beleza Pura",
         "17775.60",
         7,
         1893
        ],
        [
         "Padaria do Bairro",
         "17547.14",
         4,
         1182
        ],
        [
         "Pizzaria Bella",
         "16624.39",
         6,
         1382
        ],
        [
         "Pizzaria Italiana",
         "16232.84",
         5,
         1579
        ],
        [
         "Restaurante Vegetariano",
         "16200.98",
         5,
         1710
        ],
        [
         "Padaria São João",
         "15567.16",
         8,
         2016
        ],
        [
         "Restaurante da Ana",
         "15204.42",
         5,
         1473
        ],
        [
         "Loja de Roupas Fashion",
         "13401.32",
         6,
         1011
        ],
        [
         "Pastelaria da Vila",
         "13114.32",
         3,
         872
        ],
        [
         "Doceria Fina",
         "12619.09",
         4,
         1742
        ],
        [
         "Adega do Luiz",
         "12513.73",
         3,
         883
        ],
        [
         "Frutaria Tropical",
         "12072.60",
         3,
         805
        ],
        [
         "Restaurante Francês",
         "11887.83",
         3,
         916
        ],
        [
         "Botequim do Chico",
         "11453.32",
         3,
         1219
        ],
        [
         "Hamburgueria Burger",
         "10737.66",
         4,
         1101
        ],
        [
         "Doceria Delícia",
         "10636.24",
         3,
         806
        ],
        [
         "Sorveteria Geladinho",
         "10610.44",
         4,
         930
        ],
        [
         "Mercadinho do Bairro",
         "10071.97",
         4,
         935
        ],
        [
         "Livraria Cultura",
         "9816.76",
         5,
         1279
        ],
        [
         "Restaurante Brasileiro",
         "9670.53",
         4,
         1340
        ],
        [
         "Bar do mineiro",
         "8891.70",
         3,
         984
        ],
        [
         "Pastelaria do Mário",
         "8368.11",
         4,
         833
        ],
        [
         "Sorveteria Sorvetão",
         "8177.86",
         4,
         1184
        ],
        [
         "Lanchonete do Bairro",
         "7858.12",
         3,
         592
        ],
        [
         "Chocolateria",
         "7181.96",
         2,
         542
        ],
        [
         "Mercadinho da Esquina",
         "6704.78",
         5,
         751
        ],
        [
         "Papelaria Central",
         "6645.43",
         2,
         397
        ],
        [
         "Hamburgueria Prime",
         "6372.79",
         4,
         677
        ],
        [
         "Pet Shop Amigo Fiel",
         "5619.22",
         4,
         661
        ],
        [
         "Supermercado ABC",
         "5152.89",
         3,
         921
        ],
        [
         "Restaurante Japonês",
         "5116.91",
         4,
         1119
        ],
        [
         "Lanchonete da Maria",
         "4505.47",
         4,
         795
        ],
        [
         "Café Gourmet",
         "4372.94",
         2,
         314
        ],
        [
         "Pizzaria São Pedro",
         "3528.58",
         3,
         567
        ],
        [
         "Churrascaria Gaúcha",
         "1972.60",
         2,
         258
        ]
       ],
       "datasetInfos": [],
       "dbfsResultPath": null,
       "isJsonSchema": true,
       "metadata": {
        "createTempViewForImplicitDf": true,
        "dataframeName": "_sqldf",
        "executionCount": 3
       },
       "overflow": false,
       "plotOptions": {
        "customPlotOptions": {},
        "displayType": "table",
        "pivotAggregation": null,
        "pivotColumns": null,
        "xColumns": null,
        "yColumns": null
       },
       "removedWidgets": [],
       "schema": [
        {
         "metadata": "{\"comment\":\"Nome comercial do estabelecimento, obtido através do JOIN com a tabela de estabelecimentos.\"}",
         "name": "nome_estabelecimento",
         "type": "\"string\""
        },
        {
         "metadata": "{}",
         "name": "receita_total",
         "type": "\"decimal(38,2)\""
        },
        {
         "metadata": "{}",
         "name": "numero_total_pedidos",
         "type": "\"long\""
        },
        {
         "metadata": "{}",
         "name": "quantidade_total_itens_vendidos",
         "type": "\"long\""
        }
       ],
       "type": "table"
      }
     },
     "output_type": "display_data"
    }
   ],
   "source": [
    "%sql\n",
    "SELECT\n",
    "    nome_estabelecimento,\n",
    "    SUM(quantidade * preco) AS receita_total,\n",
    "    COUNT(DISTINCT id_pedido) AS numero_total_pedidos,\n",
    "    SUM(quantidade) AS quantidade_total_itens_vendidos\n",
    "FROM silver.pedidos\n",
    "GROUP BY nome_estabelecimento\n",
    "ORDER BY receita_total DESC"
   ]
  },
  {
   "cell_type": "markdown",
   "metadata": {
    "application/vnd.databricks.v1+cell": {
     "cellMetadata": {
      "byteLimit": 2048000,
      "rowLimit": 10000
     },
     "inputWidgets": {},
     "nuid": "7bf9d784-626e-4b6e-9530-146234aea8a4",
     "showTitle": false,
     "tableResultSettingsMap": {},
     "title": ""
    }
   },
   "source": [
    "###4. Ticket Médio por Estabelecimento\n",
    "🎯 Objetivo: Avaliar a lucratividade média por cliente e entender o comportamento de compra.\n",
    "\n",
    "<h4 style=\"color: #007bff; font-size: 1.2em;\">Importância Estratégica:</h4>\n",
    "<p style=\"font-size: 1.1em;\">O ticket médio é um indicador-chave da qualidade das vendas. Aumentar este valor significa que cada cliente está gerando mais receita por transação, o que pode ser resultado de estratégias de cross-selling (venda de produtos complementares) ou up-selling (venda de produtos de maior valor). Monitorar o ticket médio por estabelecimento e por período ajuda a identificar onde essas estratégias estão funcionando e quais estabelecimentos têm maior poder de venda.</p>"
   ]
  },
  {
   "cell_type": "code",
   "execution_count": 0,
   "metadata": {
    "application/vnd.databricks.v1+cell": {
     "cellMetadata": {
      "byteLimit": 2048000,
      "rowLimit": 10000
     },
     "inputWidgets": {},
     "nuid": "bfdb3d58-ffa0-4c63-ab20-c0d2226d74da",
     "showTitle": false,
     "tableResultSettingsMap": {},
     "title": ""
    }
   },
   "outputs": [
    {
     "output_type": "display_data",
     "data": {
      "text/html": [
       "<style scoped>\n",
       "  .table-result-container {\n",
       "    max-height: 300px;\n",
       "    overflow: auto;\n",
       "  }\n",
       "  table, th, td {\n",
       "    border: 1px solid black;\n",
       "    border-collapse: collapse;\n",
       "  }\n",
       "  th, td {\n",
       "    padding: 5px;\n",
       "  }\n",
       "  th {\n",
       "    text-align: left;\n",
       "  }\n",
       "</style><div class='table-result-container'><table class='table-result'><thead style='background-color: white'><tr><th>nome_estabelecimento</th><th>ticket_medio</th></tr></thead><tbody><tr><td>Oficina Mecânica</td><td>6528.338000</td></tr><tr><td>Bar e Grill</td><td>4573.395000</td></tr><tr><td>Padaria do Bairro</td><td>4386.785000</td></tr><tr><td>Pastelaria da Vila</td><td>4371.440000</td></tr><tr><td>Adega do Luiz</td><td>4171.243333</td></tr><tr><td>Frutaria Tropical</td><td>4024.200000</td></tr><tr><td>Restaurante Mexicano</td><td>3989.690000</td></tr><tr><td>Restaurante Francês</td><td>3962.610000</td></tr><tr><td>Bar da Esquina</td><td>3892.794286</td></tr><tr><td>Botequim do Chico</td><td>3817.773333</td></tr><tr><td>Café Expresso</td><td>3692.056000</td></tr><tr><td>Padoca do Zé</td><td>3646.970000</td></tr><tr><td>Chocolateria</td><td>3590.980000</td></tr><tr><td>Doceria Delícia</td><td>3545.413333</td></tr><tr><td>Papelaria Central</td><td>3322.715000</td></tr><tr><td>Pizzaria Italiana</td><td>3246.568000</td></tr><tr><td>Restaurante Vegetariano</td><td>3240.196000</td></tr><tr><td>Doceria Fina</td><td>3154.772500</td></tr><tr><td>Barbearia do Toninho</td><td>3062.523750</td></tr><tr><td>Restaurante da Ana</td><td>3040.884000</td></tr><tr><td>Bar do mineiro</td><td>2963.900000</td></tr><tr><td>Cantina Italiana</td><td>2930.355000</td></tr><tr><td>Cervejaria Artesanal</td><td>2864.204286</td></tr><tr><td>Farmácia Popular</td><td>2859.133333</td></tr><tr><td>Lanchonete Top</td><td>2790.512857</td></tr><tr><td>Pizzaria Bella</td><td>2770.731667</td></tr><tr><td>Cervejaria Gourmet</td><td>2764.652857</td></tr><tr><td>Academia Fit</td><td>2756.778750</td></tr><tr><td>Padaria do Paulo</td><td>2719.969091</td></tr><tr><td>Hamburgueria Burger</td><td>2684.415000</td></tr><tr><td>Sorveteria Geladinho</td><td>2652.610000</td></tr><tr><td>Lanchonete do Bairro</td><td>2619.373333</td></tr><tr><td>Salão Beleza Pura</td><td>2539.371429</td></tr><tr><td>Mercadinho do Bairro</td><td>2517.992500</td></tr><tr><td>Bar do João</td><td>2508.196250</td></tr><tr><td>Restaurante Brasileiro</td><td>2417.632500</td></tr><tr><td>Loja de Roupas Fashion</td><td>2233.553333</td></tr><tr><td>Café Gourmet</td><td>2186.470000</td></tr><tr><td>Pastelaria do Mário</td><td>2092.027500</td></tr><tr><td>Sorveteria Sorvetão</td><td>2044.465000</td></tr><tr><td>Livraria Cultura</td><td>1963.352000</td></tr><tr><td>Padaria São João</td><td>1945.895000</td></tr><tr><td>Supermercado ABC</td><td>1717.630000</td></tr><tr><td>Hamburgueria Prime</td><td>1593.197500</td></tr><tr><td>Pet Shop Amigo Fiel</td><td>1404.805000</td></tr><tr><td>Mercadinho da Esquina</td><td>1340.956000</td></tr><tr><td>Restaurante Japonês</td><td>1279.227500</td></tr><tr><td>Pizzaria São Pedro</td><td>1176.193333</td></tr><tr><td>Lanchonete da Maria</td><td>1126.367500</td></tr><tr><td>Churrascaria Gaúcha</td><td>986.300000</td></tr></tbody></table></div>"
      ]
     },
     "metadata": {
      "application/vnd.databricks.v1+output": {
       "addedWidgets": {},
       "aggData": [],
       "aggError": "",
       "aggOverflow": false,
       "aggSchema": [],
       "aggSeriesLimitReached": false,
       "aggType": "",
       "arguments": {},
       "columnCustomDisplayInfos": {},
       "data": [
        [
         "Oficina Mecânica",
         "6528.338000"
        ],
        [
         "Bar e Grill",
         "4573.395000"
        ],
        [
         "Padaria do Bairro",
         "4386.785000"
        ],
        [
         "Pastelaria da Vila",
         "4371.440000"
        ],
        [
         "Adega do Luiz",
         "4171.243333"
        ],
        [
         "Frutaria Tropical",
         "4024.200000"
        ],
        [
         "Restaurante Mexicano",
         "3989.690000"
        ],
        [
         "Restaurante Francês",
         "3962.610000"
        ],
        [
         "Bar da Esquina",
         "3892.794286"
        ],
        [
         "Botequim do Chico",
         "3817.773333"
        ],
        [
         "Café Expresso",
         "3692.056000"
        ],
        [
         "Padoca do Zé",
         "3646.970000"
        ],
        [
         "Chocolateria",
         "3590.980000"
        ],
        [
         "Doceria Delícia",
         "3545.413333"
        ],
        [
         "Papelaria Central",
         "3322.715000"
        ],
        [
         "Pizzaria Italiana",
         "3246.568000"
        ],
        [
         "Restaurante Vegetariano",
         "3240.196000"
        ],
        [
         "Doceria Fina",
         "3154.772500"
        ],
        [
         "Barbearia do Toninho",
         "3062.523750"
        ],
        [
         "Restaurante da Ana",
         "3040.884000"
        ],
        [
         "Bar do mineiro",
         "2963.900000"
        ],
        [
         "Cantina Italiana",
         "2930.355000"
        ],
        [
         "Cervejaria Artesanal",
         "2864.204286"
        ],
        [
         "Farmácia Popular",
         "2859.133333"
        ],
        [
         "Lanchonete Top",
         "2790.512857"
        ],
        [
         "Pizzaria Bella",
         "2770.731667"
        ],
        [
         "Cervejaria Gourmet",
         "2764.652857"
        ],
        [
         "Academia Fit",
         "2756.778750"
        ],
        [
         "Padaria do Paulo",
         "2719.969091"
        ],
        [
         "Hamburgueria Burger",
         "2684.415000"
        ],
        [
         "Sorveteria Geladinho",
         "2652.610000"
        ],
        [
         "Lanchonete do Bairro",
         "2619.373333"
        ],
        [
         "Salão Beleza Pura",
         "2539.371429"
        ],
        [
         "Mercadinho do Bairro",
         "2517.992500"
        ],
        [
         "Bar do João",
         "2508.196250"
        ],
        [
         "Restaurante Brasileiro",
         "2417.632500"
        ],
        [
         "Loja de Roupas Fashion",
         "2233.553333"
        ],
        [
         "Café Gourmet",
         "2186.470000"
        ],
        [
         "Pastelaria do Mário",
         "2092.027500"
        ],
        [
         "Sorveteria Sorvetão",
         "2044.465000"
        ],
        [
         "Livraria Cultura",
         "1963.352000"
        ],
        [
         "Padaria São João",
         "1945.895000"
        ],
        [
         "Supermercado ABC",
         "1717.630000"
        ],
        [
         "Hamburgueria Prime",
         "1593.197500"
        ],
        [
         "Pet Shop Amigo Fiel",
         "1404.805000"
        ],
        [
         "Mercadinho da Esquina",
         "1340.956000"
        ],
        [
         "Restaurante Japonês",
         "1279.227500"
        ],
        [
         "Pizzaria São Pedro",
         "1176.193333"
        ],
        [
         "Lanchonete da Maria",
         "1126.367500"
        ],
        [
         "Churrascaria Gaúcha",
         "986.300000"
        ]
       ],
       "datasetInfos": [],
       "dbfsResultPath": null,
       "isJsonSchema": true,
       "metadata": {},
       "overflow": false,
       "plotOptions": {
        "customPlotOptions": {},
        "displayType": "table",
        "pivotAggregation": null,
        "pivotColumns": null,
        "xColumns": null,
        "yColumns": null
       },
       "removedWidgets": [],
       "schema": [
        {
         "metadata": "{\"comment\":\"Nome comercial do estabelecimento, obtido através do JOIN com a tabela de estabelecimentos.\"}",
         "name": "nome_estabelecimento",
         "type": "\"string\""
        },
        {
         "metadata": "{}",
         "name": "ticket_medio",
         "type": "\"decimal(38,6)\""
        }
       ],
       "type": "table"
      }
     },
     "output_type": "display_data"
    }
   ],
   "source": [
    "display(spark.sql(\"\"\"\n",
    "WITH valor_por_pedido AS (\n",
    "    SELECT\n",
    "        id_pedido,\n",
    "        nome_estabelecimento,\n",
    "        SUM(quantidade * preco) AS valor_do_pedido\n",
    "    FROM silver.pedidos\n",
    "    GROUP BY id_pedido, nome_estabelecimento\n",
    ")\n",
    "SELECT\n",
    "    nome_estabelecimento,\n",
    "    AVG(valor_do_pedido) AS ticket_medio\n",
    "FROM valor_por_pedido\n",
    "GROUP BY nome_estabelecimento\n",
    "ORDER BY ticket_medio DESC\n",
    "\"\"\"))\n"
   ]
  },
  {
   "cell_type": "markdown",
   "metadata": {
    "application/vnd.databricks.v1+cell": {
     "cellMetadata": {
      "byteLimit": 2048000,
      "rowLimit": 10000
     },
     "inputWidgets": {},
     "nuid": "d8600e18-1a51-4e00-ba23-151a4f4e22c0",
     "showTitle": false,
     "tableResultSettingsMap": {},
     "title": ""
    }
   },
   "source": [
    "###5. Estabelecimentos com Maior Número de Pedidos\n",
    "🎯 Objetivo: Avaliar a popularidade e o engajamento dos estabelecimentos.\n",
    "\n",
    "<h4 style=\"color: #007bff; font-size: 1.2em;\">Importância Estratégica:</h4>\n",
    "<p style=\"font-size: 1.1em;\">Esta métrica mede a popularidade e a capacidade de um estabelecimento de atrair e processar um grande volume de transações. Diferente da receita, ela foca na frequência e no engajamento dos clientes, sendo um indicador valioso para entender a capilaridade da sua marca.</p>"
   ]
  },
  {
   "cell_type": "code",
   "execution_count": 0,
   "metadata": {
    "application/vnd.databricks.v1+cell": {
     "cellMetadata": {
      "byteLimit": 2048000,
      "implicitDf": true,
      "rowLimit": 10000
     },
     "inputWidgets": {},
     "nuid": "0e4ba253-bc64-4be8-8cfe-3239701e893c",
     "showTitle": false,
     "tableResultSettingsMap": {},
     "title": ""
    }
   },
   "outputs": [
    {
     "output_type": "display_data",
     "data": {
      "text/html": [
       "<style scoped>\n",
       "  .table-result-container {\n",
       "    max-height: 300px;\n",
       "    overflow: auto;\n",
       "  }\n",
       "  table, th, td {\n",
       "    border: 1px solid black;\n",
       "    border-collapse: collapse;\n",
       "  }\n",
       "  th, td {\n",
       "    padding: 5px;\n",
       "  }\n",
       "  th {\n",
       "    text-align: left;\n",
       "  }\n",
       "</style><div class='table-result-container'><table class='table-result'><thead style='background-color: white'><tr><th>nome_estabelecimento</th><th>numero_total_pedidos</th></tr></thead><tbody><tr><td>Padaria do Paulo</td><td>11</td></tr><tr><td>Padoca do Zé</td><td>11</td></tr><tr><td>Farmácia Popular</td><td>9</td></tr><tr><td>Bar do João</td><td>8</td></tr><tr><td>Padaria São João</td><td>8</td></tr><tr><td>Barbearia do Toninho</td><td>8</td></tr><tr><td>Academia Fit</td><td>8</td></tr><tr><td>Cantina Italiana</td><td>8</td></tr><tr><td>Lanchonete Top</td><td>7</td></tr><tr><td>Bar da Esquina</td><td>7</td></tr></tbody></table></div>"
      ]
     },
     "metadata": {
      "application/vnd.databricks.v1+output": {
       "addedWidgets": {},
       "aggData": [],
       "aggError": "",
       "aggOverflow": false,
       "aggSchema": [],
       "aggSeriesLimitReached": false,
       "aggType": "",
       "arguments": {},
       "columnCustomDisplayInfos": {},
       "data": [
        [
         "Padaria do Paulo",
         11
        ],
        [
         "Padoca do Zé",
         11
        ],
        [
         "Farmácia Popular",
         9
        ],
        [
         "Bar do João",
         8
        ],
        [
         "Padaria São João",
         8
        ],
        [
         "Barbearia do Toninho",
         8
        ],
        [
         "Academia Fit",
         8
        ],
        [
         "Cantina Italiana",
         8
        ],
        [
         "Lanchonete Top",
         7
        ],
        [
         "Bar da Esquina",
         7
        ]
       ],
       "datasetInfos": [],
       "dbfsResultPath": null,
       "isJsonSchema": true,
       "metadata": {
        "createTempViewForImplicitDf": true,
        "dataframeName": "_sqldf",
        "executionCount": 5
       },
       "overflow": false,
       "plotOptions": {
        "customPlotOptions": {},
        "displayType": "table",
        "pivotAggregation": null,
        "pivotColumns": null,
        "xColumns": null,
        "yColumns": null
       },
       "removedWidgets": [],
       "schema": [
        {
         "metadata": "{\"comment\":\"Nome comercial do estabelecimento, obtido através do JOIN com a tabela de estabelecimentos.\"}",
         "name": "nome_estabelecimento",
         "type": "\"string\""
        },
        {
         "metadata": "{}",
         "name": "numero_total_pedidos",
         "type": "\"long\""
        }
       ],
       "type": "table"
      }
     },
     "output_type": "display_data"
    }
   ],
   "source": [
    "%sql\n",
    "SELECT\n",
    "    nome_estabelecimento,\n",
    "    COUNT(DISTINCT id_pedido) AS numero_total_pedidos\n",
    "FROM silver.pedidos\n",
    "GROUP BY nome_estabelecimento\n",
    "ORDER BY numero_total_pedidos DESC\n",
    "LIMIT 10"
   ]
  },
  {
   "cell_type": "markdown",
   "metadata": {
    "application/vnd.databricks.v1+cell": {
     "cellMetadata": {
      "byteLimit": 2048000,
      "rowLimit": 10000
     },
     "inputWidgets": {},
     "nuid": "28f46464-5cc5-4e23-a391-510094545338",
     "showTitle": false,
     "tableResultSettingsMap": {},
     "title": ""
    }
   },
   "source": [
    "###6. Mix de Produtos Vendidos por Estabelecimento\n",
    "🎯 Objetivo: Identificar oportunidades de cross-selling e verificar a diversidade do portfólio.\n",
    "\n",
    "<h4 style=\"color: #007bff; font-size: 1.2em;\">Importância Estratégica:</h4>\n",
    "<p style=\"font-size: 1.1em;\">O \"insight\" que você mencionou está correto: entender a variedade de produtos que um estabelecimento vende ajuda a identificar oportunidades de cross-selling e a verificar a saúde e a diversidade do portfólio. Um estabelecimento com um mix variado provavelmente tem clientes mais engajados e pode ser um modelo a ser replicado.</p>"
   ]
  },
  {
   "cell_type": "code",
   "execution_count": 0,
   "metadata": {
    "application/vnd.databricks.v1+cell": {
     "cellMetadata": {
      "byteLimit": 2048000,
      "implicitDf": true,
      "rowLimit": 10000
     },
     "inputWidgets": {},
     "nuid": "7febcb52-80cf-4ad9-907d-5e31bef178ee",
     "showTitle": false,
     "tableResultSettingsMap": {},
     "title": ""
    }
   },
   "outputs": [
    {
     "output_type": "display_data",
     "data": {
      "text/html": [
       "<style scoped>\n",
       "  .table-result-container {\n",
       "    max-height: 300px;\n",
       "    overflow: auto;\n",
       "  }\n",
       "  table, th, td {\n",
       "    border: 1px solid black;\n",
       "    border-collapse: collapse;\n",
       "  }\n",
       "  th, td {\n",
       "    padding: 5px;\n",
       "  }\n",
       "  th {\n",
       "    text-align: left;\n",
       "  }\n",
       "</style><div class='table-result-container'><table class='table-result'><thead style='background-color: white'><tr><th>nome_estabelecimento</th><th>numero_produtos_unicos</th></tr></thead><tbody><tr><td>Pizzaria Bella</td><td>5</td></tr><tr><td>Padaria São João</td><td>5</td></tr><tr><td>Padaria do Paulo</td><td>5</td></tr><tr><td>Barbearia do Toninho</td><td>5</td></tr><tr><td>Padoca do Zé</td><td>5</td></tr><tr><td>Cantina Italiana</td><td>5</td></tr><tr><td>Mercadinho da Esquina</td><td>4</td></tr><tr><td>Farmácia Popular</td><td>4</td></tr><tr><td>Cervejaria Artesanal</td><td>4</td></tr><tr><td>Loja de Roupas Fashion</td><td>4</td></tr><tr><td>Café Expresso</td><td>4</td></tr><tr><td>Hamburgueria Prime</td><td>4</td></tr><tr><td>Restaurante da Ana</td><td>4</td></tr><tr><td>Restaurante Vegetariano</td><td>4</td></tr><tr><td>Salão Beleza Pura</td><td>4</td></tr><tr><td>Academia Fit</td><td>4</td></tr><tr><td>Cervejaria Gourmet</td><td>4</td></tr><tr><td>Bar do mineiro</td><td>3</td></tr><tr><td>Lanchonete Top</td><td>3</td></tr><tr><td>Adega do Luiz</td><td>3</td></tr><tr><td>Bar da Esquina</td><td>3</td></tr><tr><td>Hamburgueria Burger</td><td>3</td></tr><tr><td>Bar e Grill</td><td>3</td></tr><tr><td>Oficina Mecânica</td><td>3</td></tr><tr><td>Restaurante Japonês</td><td>3</td></tr><tr><td>Livraria Cultura</td><td>3</td></tr><tr><td>Restaurante Mexicano</td><td>3</td></tr><tr><td>Restaurante Brasileiro</td><td>3</td></tr><tr><td>Bar do João</td><td>3</td></tr><tr><td>Lanchonete do Bairro</td><td>3</td></tr><tr><td>Pastelaria da Vila</td><td>3</td></tr><tr><td>Pet Shop Amigo Fiel</td><td>3</td></tr><tr><td>Restaurante Francês</td><td>3</td></tr><tr><td>Sorveteria Sorvetão</td><td>3</td></tr><tr><td>Padaria do Bairro</td><td>3</td></tr><tr><td>Pizzaria São Pedro</td><td>3</td></tr><tr><td>Pastelaria do Mário</td><td>3</td></tr><tr><td>Botequim do Chico</td><td>2</td></tr><tr><td>Café Gourmet</td><td>2</td></tr><tr><td>Frutaria Tropical</td><td>2</td></tr><tr><td>Supermercado ABC</td><td>2</td></tr><tr><td>Churrascaria Gaúcha</td><td>2</td></tr><tr><td>Lanchonete da Maria</td><td>2</td></tr><tr><td>Doceria Fina</td><td>2</td></tr><tr><td>Mercadinho do Bairro</td><td>2</td></tr><tr><td>Pizzaria Italiana</td><td>2</td></tr><tr><td>Chocolateria</td><td>2</td></tr><tr><td>Doceria Delícia</td><td>2</td></tr><tr><td>Sorveteria Geladinho</td><td>1</td></tr><tr><td>Papelaria Central</td><td>1</td></tr></tbody></table></div>"
      ]
     },
     "metadata": {
      "application/vnd.databricks.v1+output": {
       "addedWidgets": {},
       "aggData": [],
       "aggError": "",
       "aggOverflow": false,
       "aggSchema": [],
       "aggSeriesLimitReached": false,
       "aggType": "",
       "arguments": {},
       "columnCustomDisplayInfos": {},
       "data": [
        [
         "Pizzaria Bella",
         5
        ],
        [
         "Padaria São João",
         5
        ],
        [
         "Padaria do Paulo",
         5
        ],
        [
         "Barbearia do Toninho",
         5
        ],
        [
         "Padoca do Zé",
         5
        ],
        [
         "Cantina Italiana",
         5
        ],
        [
         "Mercadinho da Esquina",
         4
        ],
        [
         "Farmácia Popular",
         4
        ],
        [
         "Cervejaria Artesanal",
         4
        ],
        [
         "Loja de Roupas Fashion",
         4
        ],
        [
         "Café Expresso",
         4
        ],
        [
         "Hamburgueria Prime",
         4
        ],
        [
         "Restaurante da Ana",
         4
        ],
        [
         "Restaurante Vegetariano",
         4
        ],
        [
         "Salão Beleza Pura",
         4
        ],
        [
         "Academia Fit",
         4
        ],
        [
         "Cervejaria Gourmet",
         4
        ],
        [
         "Bar do mineiro",
         3
        ],
        [
         "Lanchonete Top",
         3
        ],
        [
         "Adega do Luiz",
         3
        ],
        [
         "Bar da Esquina",
         3
        ],
        [
         "Hamburgueria Burger",
         3
        ],
        [
         "Bar e Grill",
         3
        ],
        [
         "Oficina Mecânica",
         3
        ],
        [
         "Restaurante Japonês",
         3
        ],
        [
         "Livraria Cultura",
         3
        ],
        [
         "Restaurante Mexicano",
         3
        ],
        [
         "Restaurante Brasileiro",
         3
        ],
        [
         "Bar do João",
         3
        ],
        [
         "Lanchonete do Bairro",
         3
        ],
        [
         "Pastelaria da Vila",
         3
        ],
        [
         "Pet Shop Amigo Fiel",
         3
        ],
        [
         "Restaurante Francês",
         3
        ],
        [
         "Sorveteria Sorvetão",
         3
        ],
        [
         "Padaria do Bairro",
         3
        ],
        [
         "Pizzaria São Pedro",
         3
        ],
        [
         "Pastelaria do Mário",
         3
        ],
        [
         "Botequim do Chico",
         2
        ],
        [
         "Café Gourmet",
         2
        ],
        [
         "Frutaria Tropical",
         2
        ],
        [
         "Supermercado ABC",
         2
        ],
        [
         "Churrascaria Gaúcha",
         2
        ],
        [
         "Lanchonete da Maria",
         2
        ],
        [
         "Doceria Fina",
         2
        ],
        [
         "Mercadinho do Bairro",
         2
        ],
        [
         "Pizzaria Italiana",
         2
        ],
        [
         "Chocolateria",
         2
        ],
        [
         "Doceria Delícia",
         2
        ],
        [
         "Sorveteria Geladinho",
         1
        ],
        [
         "Papelaria Central",
         1
        ]
       ],
       "datasetInfos": [],
       "dbfsResultPath": null,
       "isJsonSchema": true,
       "metadata": {
        "createTempViewForImplicitDf": true,
        "dataframeName": "_sqldf",
        "executionCount": 6
       },
       "overflow": false,
       "plotOptions": {
        "customPlotOptions": {},
        "displayType": "table",
        "pivotAggregation": null,
        "pivotColumns": null,
        "xColumns": null,
        "yColumns": null
       },
       "removedWidgets": [],
       "schema": [
        {
         "metadata": "{\"comment\":\"Nome comercial do estabelecimento, obtido através do JOIN com a tabela de estabelecimentos.\"}",
         "name": "nome_estabelecimento",
         "type": "\"string\""
        },
        {
         "metadata": "{}",
         "name": "numero_produtos_unicos",
         "type": "\"long\""
        }
       ],
       "type": "table"
      }
     },
     "output_type": "display_data"
    }
   ],
   "source": [
    "%sql\n",
    "SELECT\n",
    "    nome_estabelecimento,\n",
    "    COUNT(DISTINCT produto) AS numero_produtos_unicos\n",
    "FROM silver.pedidos\n",
    "GROUP BY nome_estabelecimento\n",
    "ORDER BY numero_produtos_unicos DESC\n"
   ]
  },
  {
   "cell_type": "markdown",
   "metadata": {
    "application/vnd.databricks.v1+cell": {
     "cellMetadata": {
      "byteLimit": 2048000,
      "rowLimit": 10000
     },
     "inputWidgets": {},
     "nuid": "a364d12f-03be-4806-b7b7-a086ec13f801",
     "showTitle": false,
     "tableResultSettingsMap": {},
     "title": ""
    }
   },
   "source": [
    "###7. Tempo Médio entre Pedidos (Frequência de Compra)\n",
    "🎯 Objetivo: Prever o churn (perda de clientes) e identificar clientes fiéis.\n",
    "\n",
    "<h4 style=\"color: #007bff; font-size: 1.2em;\">Importância Estratégica:</h4>\n",
    "<p style=\"font-size: 1.1em;\">Este é um indicador avançado e crucial para prever o churn (perda de clientes) e identificar clientes fiéis. Clientes que compram com alta frequência são valiosos. Ao detectar um aumento no tempo entre as compras, a empresa pode agir de forma proativa, enviando ofertas personalizadas para reter o cliente.</p>"
   ]
  },
  {
   "cell_type": "code",
   "execution_count": 0,
   "metadata": {
    "application/vnd.databricks.v1+cell": {
     "cellMetadata": {
      "byteLimit": 2048000,
      "rowLimit": 10000
     },
     "inputWidgets": {},
     "nuid": "ed962e9c-3774-4a22-ac74-8cfc20364f76",
     "showTitle": false,
     "tableResultSettingsMap": {},
     "title": ""
    }
   },
   "outputs": [
    {
     "output_type": "display_data",
     "data": {
      "text/html": [
       "<style scoped>\n",
       "  .table-result-container {\n",
       "    max-height: 300px;\n",
       "    overflow: auto;\n",
       "  }\n",
       "  table, th, td {\n",
       "    border: 1px solid black;\n",
       "    border-collapse: collapse;\n",
       "  }\n",
       "  th, td {\n",
       "    padding: 5px;\n",
       "  }\n",
       "  th {\n",
       "    text-align: left;\n",
       "  }\n",
       "</style><div class='table-result-container'><table class='table-result'><thead style='background-color: white'><tr><th>nome_estabelecimento</th><th>tempo_medio_entre_pedidos</th></tr></thead><tbody><tr><td>Botequim do Chico</td><td>10.5</td></tr><tr><td>Papelaria Central</td><td>14.0</td></tr><tr><td>Café Gourmet</td><td>23.0</td></tr><tr><td>Padoca do Zé</td><td>28.4</td></tr><tr><td>Padaria do Paulo</td><td>31.2</td></tr><tr><td>Sorveteria Sorvetão</td><td>33.666666666666664</td></tr><tr><td>Academia Fit</td><td>35.57142857142857</td></tr><tr><td>Cervejaria Gourmet</td><td>36.833333333333336</td></tr><tr><td>Bar da Esquina</td><td>37.333333333333336</td></tr><tr><td>Cantina Italiana</td><td>37.714285714285715</td></tr><tr><td>Barbearia do Toninho</td><td>41.857142857142854</td></tr><tr><td>Farmácia Popular</td><td>43.25</td></tr><tr><td>Padaria São João</td><td>44.714285714285715</td></tr><tr><td>Pizzaria Bella</td><td>45.4</td></tr><tr><td>Salão Beleza Pura</td><td>47.166666666666664</td></tr><tr><td>Bar do João</td><td>49.714285714285715</td></tr><tr><td>Lanchonete Top</td><td>50.333333333333336</td></tr><tr><td>Lanchonete da Maria</td><td>51.0</td></tr><tr><td>Restaurante Mexicano</td><td>51.5</td></tr><tr><td>Mercadinho da Esquina</td><td>52.75</td></tr><tr><td>Doceria Fina</td><td>53.0</td></tr><tr><td>Bar e Grill</td><td>54.8</td></tr><tr><td>Mercadinho do Bairro</td><td>55.666666666666664</td></tr><tr><td>Bar do mineiro</td><td>56.5</td></tr><tr><td>Lanchonete do Bairro</td><td>57.0</td></tr><tr><td>Livraria Cultura</td><td>57.25</td></tr><tr><td>Cervejaria Artesanal</td><td>57.5</td></tr><tr><td>Restaurante Vegetariano</td><td>57.5</td></tr><tr><td>Sorveteria Geladinho</td><td>63.666666666666664</td></tr><tr><td>Restaurante da Ana</td><td>64.5</td></tr><tr><td>Loja de Roupas Fashion</td><td>65.2</td></tr><tr><td>Pastelaria do Mário</td><td>66.33333333333333</td></tr><tr><td>Restaurante Brasileiro</td><td>66.66666666666667</td></tr><tr><td>Café Expresso</td><td>70.0</td></tr><tr><td>Oficina Mecânica</td><td>72.25</td></tr><tr><td>Pastelaria da Vila</td><td>74.0</td></tr><tr><td>Doceria Delícia</td><td>74.5</td></tr><tr><td>Supermercado ABC</td><td>74.5</td></tr><tr><td>Pizzaria Italiana</td><td>75.0</td></tr><tr><td>Hamburgueria Prime</td><td>80.66666666666667</td></tr><tr><td>Hamburgueria Burger</td><td>81.0</td></tr><tr><td>Padaria do Bairro</td><td>93.33333333333333</td></tr><tr><td>Pet Shop Amigo Fiel</td><td>97.66666666666667</td></tr><tr><td>Pizzaria São Pedro</td><td>100.0</td></tr><tr><td>Restaurante Japonês</td><td>103.33333333333333</td></tr><tr><td>Chocolateria</td><td>122.0</td></tr><tr><td>Frutaria Tropical</td><td>135.0</td></tr><tr><td>Adega do Luiz</td><td>143.0</td></tr><tr><td>Restaurante Francês</td><td>147.5</td></tr><tr><td>Churrascaria Gaúcha</td><td>320.0</td></tr></tbody></table></div>"
      ]
     },
     "metadata": {
      "application/vnd.databricks.v1+output": {
       "addedWidgets": {},
       "aggData": [],
       "aggError": "",
       "aggOverflow": false,
       "aggSchema": [],
       "aggSeriesLimitReached": false,
       "aggType": "",
       "arguments": {},
       "columnCustomDisplayInfos": {},
       "data": [
        [
         "Botequim do Chico",
         10.5
        ],
        [
         "Papelaria Central",
         14.0
        ],
        [
         "Café Gourmet",
         23.0
        ],
        [
         "Padoca do Zé",
         28.4
        ],
        [
         "Padaria do Paulo",
         31.2
        ],
        [
         "Sorveteria Sorvetão",
         33.666666666666664
        ],
        [
         "Academia Fit",
         35.57142857142857
        ],
        [
         "Cervejaria Gourmet",
         36.833333333333336
        ],
        [
         "Bar da Esquina",
         37.333333333333336
        ],
        [
         "Cantina Italiana",
         37.714285714285715
        ],
        [
         "Barbearia do Toninho",
         41.857142857142854
        ],
        [
         "Farmácia Popular",
         43.25
        ],
        [
         "Padaria São João",
         44.714285714285715
        ],
        [
         "Pizzaria Bella",
         45.4
        ],
        [
         "Salão Beleza Pura",
         47.166666666666664
        ],
        [
         "Bar do João",
         49.714285714285715
        ],
        [
         "Lanchonete Top",
         50.333333333333336
        ],
        [
         "Lanchonete da Maria",
         51.0
        ],
        [
         "Restaurante Mexicano",
         51.5
        ],
        [
         "Mercadinho da Esquina",
         52.75
        ],
        [
         "Doceria Fina",
         53.0
        ],
        [
         "Bar e Grill",
         54.8
        ],
        [
         "Mercadinho do Bairro",
         55.666666666666664
        ],
        [
         "Bar do mineiro",
         56.5
        ],
        [
         "Lanchonete do Bairro",
         57.0
        ],
        [
         "Livraria Cultura",
         57.25
        ],
        [
         "Cervejaria Artesanal",
         57.5
        ],
        [
         "Restaurante Vegetariano",
         57.5
        ],
        [
         "Sorveteria Geladinho",
         63.666666666666664
        ],
        [
         "Restaurante da Ana",
         64.5
        ],
        [
         "Loja de Roupas Fashion",
         65.2
        ],
        [
         "Pastelaria do Mário",
         66.33333333333333
        ],
        [
         "Restaurante Brasileiro",
         66.66666666666667
        ],
        [
         "Café Expresso",
         70.0
        ],
        [
         "Oficina Mecânica",
         72.25
        ],
        [
         "Pastelaria da Vila",
         74.0
        ],
        [
         "Doceria Delícia",
         74.5
        ],
        [
         "Supermercado ABC",
         74.5
        ],
        [
         "Pizzaria Italiana",
         75.0
        ],
        [
         "Hamburgueria Prime",
         80.66666666666667
        ],
        [
         "Hamburgueria Burger",
         81.0
        ],
        [
         "Padaria do Bairro",
         93.33333333333333
        ],
        [
         "Pet Shop Amigo Fiel",
         97.66666666666667
        ],
        [
         "Pizzaria São Pedro",
         100.0
        ],
        [
         "Restaurante Japonês",
         103.33333333333333
        ],
        [
         "Chocolateria",
         122.0
        ],
        [
         "Frutaria Tropical",
         135.0
        ],
        [
         "Adega do Luiz",
         143.0
        ],
        [
         "Restaurante Francês",
         147.5
        ],
        [
         "Churrascaria Gaúcha",
         320.0
        ]
       ],
       "datasetInfos": [],
       "dbfsResultPath": null,
       "isJsonSchema": true,
       "metadata": {},
       "overflow": false,
       "plotOptions": {
        "customPlotOptions": {},
        "displayType": "table",
        "pivotAggregation": null,
        "pivotColumns": null,
        "xColumns": null,
        "yColumns": null
       },
       "removedWidgets": [],
       "schema": [
        {
         "metadata": "{\"comment\":\"Nome comercial do estabelecimento, obtido através do JOIN com a tabela de estabelecimentos.\"}",
         "name": "nome_estabelecimento",
         "type": "\"string\""
        },
        {
         "metadata": "{}",
         "name": "tempo_medio_entre_pedidos",
         "type": "\"double\""
        }
       ],
       "type": "table"
      }
     },
     "output_type": "display_data"
    }
   ],
   "source": [
    "display(spark.sql(\"\"\"\n",
    "WITH pedidos_com_datas_anteriores AS (\n",
    "    SELECT\n",
    "        nome_estabelecimento,\n",
    "        data_pedido,\n",
    "        LAG(data_pedido, 1) OVER (PARTITION BY nome_estabelecimento ORDER BY data_pedido) AS data_pedido_anterior\n",
    "    FROM silver.pedidos\n",
    "),\n",
    "diferenca_dias AS (\n",
    "    SELECT\n",
    "        nome_estabelecimento,\n",
    "        DATEDIFF(data_pedido, data_pedido_anterior) AS dias_entre_pedidos\n",
    "    FROM pedidos_com_datas_anteriores\n",
    "    WHERE data_pedido_anterior IS NOT NULL\n",
    ")\n",
    "SELECT\n",
    "    nome_estabelecimento,\n",
    "    AVG(dias_entre_pedidos) AS tempo_medio_entre_pedidos\n",
    "FROM diferenca_dias\n",
    "GROUP BY nome_estabelecimento\n",
    "ORDER BY tempo_medio_entre_pedidos ASC\n",
    "\"\"\"))\n",
    "\n"
   ]
  },
  {
   "cell_type": "markdown",
   "metadata": {
    "application/vnd.databricks.v1+cell": {
     "cellMetadata": {
      "byteLimit": 2048000,
      "rowLimit": 10000
     },
     "inputWidgets": {},
     "nuid": "28bda185-3994-474e-b004-d2c3558a3ce2",
     "showTitle": false,
     "tableResultSettingsMap": {},
     "title": ""
    }
   },
   "source": [
    "###8. Produtos com Baixa Saída\n",
    "🎯 Objetivo: Gerenciar inventário e avaliar a eficiência do portfólio.\n",
    "\n",
    "<h4 style=\"color: #007bff; font-size: 1.2em;\">Importância Estratégica:</h4>\n",
    "<p style=\"font-size: 1.1em;\">Conhecer os produtos com baixa saída é o lado oposto da análise de \"mais vendidos\". Este insight é fundamental para gerenciar o inventário, decidir se um produto deve ser descontinuado ou se precisa de uma promoção agressiva para escoar o estoque. É uma análise de eficiência de portfólio.</p>"
   ]
  },
  {
   "cell_type": "code",
   "execution_count": 0,
   "metadata": {
    "application/vnd.databricks.v1+cell": {
     "cellMetadata": {
      "byteLimit": 2048000,
      "implicitDf": true,
      "rowLimit": 10000
     },
     "inputWidgets": {},
     "nuid": "ffaa6735-c8a1-4f52-b1a9-00bb867e3ec8",
     "showTitle": false,
     "tableResultSettingsMap": {},
     "title": ""
    }
   },
   "outputs": [
    {
     "output_type": "display_data",
     "data": {
      "text/html": [
       "<style scoped>\n",
       "  .table-result-container {\n",
       "    max-height: 300px;\n",
       "    overflow: auto;\n",
       "  }\n",
       "  table, th, td {\n",
       "    border: 1px solid black;\n",
       "    border-collapse: collapse;\n",
       "  }\n",
       "  th, td {\n",
       "    padding: 5px;\n",
       "  }\n",
       "  th {\n",
       "    text-align: left;\n",
       "  }\n",
       "</style><div class='table-result-container'><table class='table-result'><thead style='background-color: white'><tr><th>produto</th><th>quantidade_total_vendida_recente</th></tr></thead><tbody></tbody></table></div>"
      ]
     },
     "metadata": {
      "application/vnd.databricks.v1+output": {
       "addedWidgets": {},
       "aggData": [],
       "aggError": "",
       "aggOverflow": false,
       "aggSchema": [],
       "aggSeriesLimitReached": false,
       "aggType": "",
       "arguments": {},
       "columnCustomDisplayInfos": {},
       "data": [],
       "datasetInfos": [],
       "dbfsResultPath": null,
       "isJsonSchema": true,
       "metadata": {
        "createTempViewForImplicitDf": true,
        "dataframeName": "_sqldf",
        "executionCount": 8
       },
       "overflow": false,
       "plotOptions": {
        "customPlotOptions": {},
        "displayType": "table",
        "pivotAggregation": null,
        "pivotColumns": null,
        "xColumns": null,
        "yColumns": null
       },
       "removedWidgets": [],
       "schema": [
        {
         "metadata": "{\"comment\":\"Nome do produto vendido no pedido.\"}",
         "name": "produto",
         "type": "\"string\""
        },
        {
         "metadata": "{}",
         "name": "quantidade_total_vendida_recente",
         "type": "\"long\""
        }
       ],
       "type": "table"
      }
     },
     "output_type": "display_data"
    }
   ],
   "source": [
    "%sql\n",
    "SELECT\n",
    "    produto,\n",
    "    SUM(quantidade) AS quantidade_total_vendida_recente\n",
    "FROM silver.pedidos\n",
    "WHERE data_pedido >= DATE_SUB(current_date(), 90) -- Exemplo: últimos 90 dias\n",
    "GROUP BY produto\n",
    "ORDER BY quantidade_total_vendida_recente ASC\n",
    "LIMIT 10\n"
   ]
  },
  {
   "cell_type": "markdown",
   "metadata": {
    "application/vnd.databricks.v1+cell": {
     "cellMetadata": {
      "byteLimit": 2048000,
      "rowLimit": 10000
     },
     "inputWidgets": {},
     "nuid": "2f14cdd6-5470-47d6-9500-4f6e3523ec57",
     "showTitle": false,
     "tableResultSettingsMap": {},
     "title": ""
    }
   },
   "source": [
    "###9. Análise de Crescimento Mensal (Mês-a-Mês)\n",
    "🎯 Objetivo: Monitorar o ritmo de crescimento e reagir rapidamente a tendências.\n",
    "\n",
    "<h4 style=\"color: #007bff; font-size: 1.2em;\">Importância Estratégica:</h4>\n",
    "<p style=\"font-size: 1.1em;\">Diferente do acumulado, esta análise compara a receita de cada mês com a do mês anterior. É uma métrica essencial para monitorar o ritmo de crescimento e reagir rapidamente a tendências de alta ou baixa. Ajuda a responder a perguntas como \"O crescimento de vendas desacelerou em relação ao mês passado?\"</p>"
   ]
  },
  {
   "cell_type": "code",
   "execution_count": 0,
   "metadata": {
    "application/vnd.databricks.v1+cell": {
     "cellMetadata": {
      "byteLimit": 2048000,
      "rowLimit": 10000
     },
     "inputWidgets": {},
     "nuid": "7c7acbaf-d636-4520-b8c7-ede356d82bf1",
     "showTitle": false,
     "tableResultSettingsMap": {},
     "title": ""
    }
   },
   "outputs": [
    {
     "output_type": "display_data",
     "data": {
      "text/html": [
       "<style scoped>\n",
       "  .table-result-container {\n",
       "    max-height: 300px;\n",
       "    overflow: auto;\n",
       "  }\n",
       "  table, th, td {\n",
       "    border: 1px solid black;\n",
       "    border-collapse: collapse;\n",
       "  }\n",
       "  th, td {\n",
       "    padding: 5px;\n",
       "  }\n",
       "  th {\n",
       "    text-align: left;\n",
       "  }\n",
       "</style><div class='table-result-container'><table class='table-result'><thead style='background-color: white'><tr><th>mes_ano</th><th>receita_mensal</th><th>receita_mes_anterior</th><th>crescimento_mensal_percentual</th></tr></thead><tbody><tr><td>2024-07-01T00:00:00Z</td><td>21589.58</td><td>36528.39</td><td>-40.896400</td></tr><tr><td>2024-06-01T00:00:00Z</td><td>36528.39</td><td>86863.91</td><td>-57.947600</td></tr><tr><td>2024-05-01T00:00:00Z</td><td>86863.91</td><td>59854.70</td><td>45.124600</td></tr><tr><td>2024-04-01T00:00:00Z</td><td>59854.70</td><td>57272.58</td><td>4.508500</td></tr><tr><td>2024-03-01T00:00:00Z</td><td>57272.58</td><td>58914.52</td><td>-2.787000</td></tr><tr><td>2024-02-01T00:00:00Z</td><td>58914.52</td><td>55308.10</td><td>6.520600</td></tr><tr><td>2024-01-01T00:00:00Z</td><td>55308.10</td><td>57310.15</td><td>-3.493400</td></tr><tr><td>2023-12-01T00:00:00Z</td><td>57310.15</td><td>66792.56</td><td>-14.196800</td></tr><tr><td>2023-11-01T00:00:00Z</td><td>66792.56</td><td>45259.91</td><td>47.575500</td></tr><tr><td>2023-10-01T00:00:00Z</td><td>45259.91</td><td>81294.98</td><td>-44.326300</td></tr><tr><td>2023-09-01T00:00:00Z</td><td>81294.98</td><td>63758.35</td><td>27.504800</td></tr><tr><td>2023-08-01T00:00:00Z</td><td>63758.35</td><td>33987.27</td><td>87.594800</td></tr><tr><td>2023-07-01T00:00:00Z</td><td>33987.27</td><td>null</td><td>null</td></tr></tbody></table></div>"
      ]
     },
     "metadata": {
      "application/vnd.databricks.v1+output": {
       "addedWidgets": {},
       "aggData": [],
       "aggError": "",
       "aggOverflow": false,
       "aggSchema": [],
       "aggSeriesLimitReached": false,
       "aggType": "",
       "arguments": {},
       "columnCustomDisplayInfos": {},
       "data": [
        [
         "2024-07-01T00:00:00Z",
         "21589.58",
         "36528.39",
         "-40.896400"
        ],
        [
         "2024-06-01T00:00:00Z",
         "36528.39",
         "86863.91",
         "-57.947600"
        ],
        [
         "2024-05-01T00:00:00Z",
         "86863.91",
         "59854.70",
         "45.124600"
        ],
        [
         "2024-04-01T00:00:00Z",
         "59854.70",
         "57272.58",
         "4.508500"
        ],
        [
         "2024-03-01T00:00:00Z",
         "57272.58",
         "58914.52",
         "-2.787000"
        ],
        [
         "2024-02-01T00:00:00Z",
         "58914.52",
         "55308.10",
         "6.520600"
        ],
        [
         "2024-01-01T00:00:00Z",
         "55308.10",
         "57310.15",
         "-3.493400"
        ],
        [
         "2023-12-01T00:00:00Z",
         "57310.15",
         "66792.56",
         "-14.196800"
        ],
        [
         "2023-11-01T00:00:00Z",
         "66792.56",
         "45259.91",
         "47.575500"
        ],
        [
         "2023-10-01T00:00:00Z",
         "45259.91",
         "81294.98",
         "-44.326300"
        ],
        [
         "2023-09-01T00:00:00Z",
         "81294.98",
         "63758.35",
         "27.504800"
        ],
        [
         "2023-08-01T00:00:00Z",
         "63758.35",
         "33987.27",
         "87.594800"
        ],
        [
         "2023-07-01T00:00:00Z",
         "33987.27",
         null,
         null
        ]
       ],
       "datasetInfos": [],
       "dbfsResultPath": null,
       "isJsonSchema": true,
       "metadata": {},
       "overflow": false,
       "plotOptions": {
        "customPlotOptions": {},
        "displayType": "table",
        "pivotAggregation": null,
        "pivotColumns": null,
        "xColumns": null,
        "yColumns": null
       },
       "removedWidgets": [],
       "schema": [
        {
         "metadata": "{}",
         "name": "mes_ano",
         "type": "\"timestamp\""
        },
        {
         "metadata": "{}",
         "name": "receita_mensal",
         "type": "\"decimal(38,2)\""
        },
        {
         "metadata": "{}",
         "name": "receita_mes_anterior",
         "type": "\"decimal(38,2)\""
        },
        {
         "metadata": "{}",
         "name": "crescimento_mensal_percentual",
         "type": "\"decimal(38,6)\""
        }
       ],
       "type": "table"
      }
     },
     "output_type": "display_data"
    }
   ],
   "source": [
    "display(spark.sql(\"\"\"\n",
    "WITH receita_mensal AS (\n",
    "    SELECT\n",
    "        DATE_TRUNC('month', data_pedido) AS mes_ano,\n",
    "        SUM(quantidade * preco) AS receita_mensal\n",
    "    FROM silver.pedidos\n",
    "    GROUP BY mes_ano\n",
    ")\n",
    "SELECT\n",
    "    mes_ano,\n",
    "    receita_mensal,\n",
    "    LAG(receita_mensal, 1) OVER (ORDER BY mes_ano) AS receita_mes_anterior,\n",
    "    (receita_mensal - LAG(receita_mensal, 1) OVER (ORDER BY mes_ano)) / LAG(receita_mensal, 1) OVER (ORDER BY mes_ano) * 100 AS crescimento_mensal_percentual\n",
    "FROM receita_mensal\n",
    "ORDER BY mes_ano DESC\n",
    "\"\"\"))\n"
   ]
  },
  {
   "cell_type": "markdown",
   "metadata": {
    "application/vnd.databricks.v1+cell": {
     "cellMetadata": {
      "byteLimit": 2048000,
      "rowLimit": 10000
     },
     "inputWidgets": {},
     "nuid": "8183590c-30a5-42db-b083-754359ba5af7",
     "showTitle": false,
     "tableResultSettingsMap": {},
     "title": ""
    }
   },
   "source": [
    "###10. Variação de Preço por Produto\n",
    "🎯 Objetivo: Detectar inconsistências ou oportunidades de ajustes comerciais.\n",
    "\n",
    "<h4 style=\"color: #007bff; font-size: 1.2em;\">Importância Estratégica:</h4>\n",
    "<p style=\"font-size: 1.1em;\">Este insight ajuda a monitorar a consistência dos preços e a identificar possíveis problemas de dados ou inconsistências na estratégia de precificação. Uma variação significativa pode indicar promoções, diferenças entre fornecedores, ou até mesmo erros de registro. Monitorar isso garante a integridade dos dados e a estabilidade da sua estratégia de preços.</p>"
   ]
  },
  {
   "cell_type": "code",
   "execution_count": 0,
   "metadata": {
    "application/vnd.databricks.v1+cell": {
     "cellMetadata": {
      "byteLimit": 2048000,
      "rowLimit": 10000
     },
     "inputWidgets": {},
     "nuid": "ee239eca-6a65-4172-83f7-69f4a06222e2",
     "showTitle": false,
     "tableResultSettingsMap": {},
     "title": ""
    }
   },
   "outputs": [
    {
     "output_type": "display_data",
     "data": {
      "text/html": [
       "<style scoped>\n",
       "  .table-result-container {\n",
       "    max-height: 300px;\n",
       "    overflow: auto;\n",
       "  }\n",
       "  table, th, td {\n",
       "    border: 1px solid black;\n",
       "    border-collapse: collapse;\n",
       "  }\n",
       "  th, td {\n",
       "    padding: 5px;\n",
       "  }\n",
       "  th {\n",
       "    text-align: left;\n",
       "  }\n",
       "</style><div class='table-result-container'><table class='table-result'><thead style='background-color: white'><tr><th>produto</th><th>preco_minimo</th><th>preco_maximo</th><th>preco_medio</th><th>variacao_de_preco</th></tr></thead><tbody><tr><td>Cerveja XYZ</td><td>1.30</td><td>19.92</td><td>10.835357</td><td>18.62</td></tr><tr><td>Refrigerante 123</td><td>1.28</td><td>19.87</td><td>11.213902</td><td>18.59</td></tr><tr><td>Suco Natural</td><td>1.72</td><td>19.99</td><td>9.867333</td><td>18.27</td></tr><tr><td>Água Mineral</td><td>1.81</td><td>19.92</td><td>10.070000</td><td>18.11</td></tr><tr><td>Vinho ABC</td><td>1.26</td><td>18.87</td><td>11.178182</td><td>17.61</td></tr></tbody></table></div>"
      ]
     },
     "metadata": {
      "application/vnd.databricks.v1+output": {
       "addedWidgets": {},
       "aggData": [],
       "aggError": "",
       "aggOverflow": false,
       "aggSchema": [],
       "aggSeriesLimitReached": false,
       "aggType": "",
       "arguments": {},
       "columnCustomDisplayInfos": {},
       "data": [
        [
         "Cerveja XYZ",
         "1.30",
         "19.92",
         "10.835357",
         "18.62"
        ],
        [
         "Refrigerante 123",
         "1.28",
         "19.87",
         "11.213902",
         "18.59"
        ],
        [
         "Suco Natural",
         "1.72",
         "19.99",
         "9.867333",
         "18.27"
        ],
        [
         "Água Mineral",
         "1.81",
         "19.92",
         "10.070000",
         "18.11"
        ],
        [
         "Vinho ABC",
         "1.26",
         "18.87",
         "11.178182",
         "17.61"
        ]
       ],
       "datasetInfos": [],
       "dbfsResultPath": null,
       "isJsonSchema": true,
       "metadata": {},
       "overflow": false,
       "plotOptions": {
        "customPlotOptions": {},
        "displayType": "table",
        "pivotAggregation": null,
        "pivotColumns": null,
        "xColumns": null,
        "yColumns": null
       },
       "removedWidgets": [],
       "schema": [
        {
         "metadata": "{\"comment\":\"Nome do produto vendido no pedido.\"}",
         "name": "produto",
         "type": "\"string\""
        },
        {
         "metadata": "{}",
         "name": "preco_minimo",
         "type": "\"decimal(20,2)\""
        },
        {
         "metadata": "{}",
         "name": "preco_maximo",
         "type": "\"decimal(20,2)\""
        },
        {
         "metadata": "{}",
         "name": "preco_medio",
         "type": "\"decimal(24,6)\""
        },
        {
         "metadata": "{}",
         "name": "variacao_de_preco",
         "type": "\"decimal(21,2)\""
        }
       ],
       "type": "table"
      }
     },
     "output_type": "display_data"
    }
   ],
   "source": [
    "display(spark.sql(\"\"\"\n",
    "SELECT\n",
    "    produto,\n",
    "    MIN(preco) AS preco_minimo,\n",
    "    MAX(preco) AS preco_maximo,\n",
    "    AVG(preco) AS preco_medio,\n",
    "    (MAX(preco) - MIN(preco)) AS variacao_de_preco\n",
    "FROM silver.pedidos\n",
    "GROUP BY produto\n",
    "ORDER BY variacao_de_preco DESC\n",
    "\"\"\"))"
   ]
  },
  {
   "cell_type": "markdown",
   "metadata": {
    "application/vnd.databricks.v1+cell": {
     "cellMetadata": {
      "byteLimit": 2048000,
      "rowLimit": 10000
     },
     "inputWidgets": {},
     "nuid": "b3206149-6e61-4f66-a99a-fcc96bcb2ee8",
     "showTitle": false,
     "tableResultSettingsMap": {},
     "title": ""
    }
   },
   "source": [
    "###11. Vendas Acumuladas no Ano por Estabelecimento\n",
    "🎯 Objetivo: Acompanhar o desempenho acumulado de cada parceiro ao longo do ano.\n",
    "\n",
    "<h4 style=\"color: #007bff; font-size: 1.2em;\">Importância Estratégica:</h4>\n",
    "<p style=\"font-size: 1.1em;\">Essa análise é uma extensão do \"Faturamento por Estabelecimento\" para a dimensão temporal. Ela permite que a gestão acompanhe o desempenho acumulado de cada parceiro ao longo do ano. Isso é útil para definir e monitorar metas de vendas para cada estabelecimento, além de identificar quem está se destacando na corrida anual.</p>"
   ]
  },
  {
   "cell_type": "code",
   "execution_count": 0,
   "metadata": {
    "application/vnd.databricks.v1+cell": {
     "cellMetadata": {
      "byteLimit": 2048000,
      "rowLimit": 10000
     },
     "inputWidgets": {},
     "nuid": "77a6543f-ccf8-4da3-9d2f-a35cf3f1afbf",
     "showTitle": false,
     "tableResultSettingsMap": {},
     "title": ""
    }
   },
   "outputs": [
    {
     "output_type": "display_data",
     "data": {
      "text/html": [
       "<style scoped>\n",
       "  .table-result-container {\n",
       "    max-height: 300px;\n",
       "    overflow: auto;\n",
       "  }\n",
       "  table, th, td {\n",
       "    border: 1px solid black;\n",
       "    border-collapse: collapse;\n",
       "  }\n",
       "  th, td {\n",
       "    padding: 5px;\n",
       "  }\n",
       "  th {\n",
       "    text-align: left;\n",
       "  }\n",
       "</style><div class='table-result-container'><table class='table-result'><thead style='background-color: white'><tr><th>nome_estabelecimento</th><th>ano</th><th>mes</th><th>receita_mensal</th><th>receita_acumulada_estabelecimento</th></tr></thead><tbody><tr><td>Academia Fit</td><td>2023</td><td>10</td><td>1435.60</td><td>1435.60</td></tr><tr><td>Academia Fit</td><td>2023</td><td>11</td><td>441.25</td><td>1876.85</td></tr><tr><td>Academia Fit</td><td>2024</td><td>3</td><td>7196.22</td><td>7196.22</td></tr><tr><td>Academia Fit</td><td>2024</td><td>4</td><td>6342.34</td><td>13538.56</td></tr><tr><td>Academia Fit</td><td>2024</td><td>5</td><td>4314.01</td><td>17852.57</td></tr><tr><td>Academia Fit</td><td>2024</td><td>6</td><td>2324.81</td><td>20177.38</td></tr><tr><td>Adega do Luiz</td><td>2023</td><td>8</td><td>758.28</td><td>758.28</td></tr><tr><td>Adega do Luiz</td><td>2024</td><td>1</td><td>5983.25</td><td>5983.25</td></tr><tr><td>Adega do Luiz</td><td>2024</td><td>5</td><td>5772.20</td><td>11755.45</td></tr><tr><td>Bar da Esquina</td><td>2023</td><td>10</td><td>164.22</td><td>164.22</td></tr><tr><td>Bar da Esquina</td><td>2023</td><td>12</td><td>6076.20</td><td>6240.42</td></tr><tr><td>Bar da Esquina</td><td>2024</td><td>1</td><td>5114.88</td><td>5114.88</td></tr><tr><td>Bar da Esquina</td><td>2024</td><td>2</td><td>483.96</td><td>5598.84</td></tr><tr><td>Bar da Esquina</td><td>2024</td><td>4</td><td>11035.55</td><td>16634.39</td></tr><tr><td>Bar da Esquina</td><td>2024</td><td>6</td><td>4374.75</td><td>21009.14</td></tr><tr><td>Bar do João</td><td>2023</td><td>7</td><td>4888.40</td><td>4888.40</td></tr><tr><td>Bar do João</td><td>2023</td><td>8</td><td>1222.59</td><td>6110.99</td></tr><tr><td>Bar do João</td><td>2023</td><td>9</td><td>2493.12</td><td>8604.11</td></tr><tr><td>Bar do João</td><td>2023</td><td>11</td><td>1798.50</td><td>10402.61</td></tr><tr><td>Bar do João</td><td>2023</td><td>12</td><td>3323.28</td><td>13725.89</td></tr><tr><td>Bar do João</td><td>2024</td><td>2</td><td>683.10</td><td>683.10</td></tr><tr><td>Bar do João</td><td>2024</td><td>5</td><td>5466.20</td><td>6149.30</td></tr><tr><td>Bar do João</td><td>2024</td><td>7</td><td>190.38</td><td>6339.68</td></tr><tr><td>Bar do mineiro</td><td>2023</td><td>9</td><td>6318.00</td><td>6318.00</td></tr><tr><td>Bar do mineiro</td><td>2023</td><td>11</td><td>1989.00</td><td>8307.00</td></tr><tr><td>Bar do mineiro</td><td>2024</td><td>1</td><td>584.70</td><td>584.70</td></tr><tr><td>Bar e Grill</td><td>2023</td><td>8</td><td>12950.40</td><td>12950.40</td></tr><tr><td>Bar e Grill</td><td>2024</td><td>2</td><td>1702.40</td><td>1702.40</td></tr><tr><td>Bar e Grill</td><td>2024</td><td>3</td><td>6760.92</td><td>8463.32</td></tr><tr><td>Bar e Grill</td><td>2024</td><td>5</td><td>6026.65</td><td>14489.97</td></tr><tr><td>Barbearia do Toninho</td><td>2023</td><td>8</td><td>2498.72</td><td>2498.72</td></tr><tr><td>Barbearia do Toninho</td><td>2023</td><td>11</td><td>1655.31</td><td>4154.03</td></tr><tr><td>Barbearia do Toninho</td><td>2023</td><td>12</td><td>6920.28</td><td>11074.31</td></tr><tr><td>Barbearia do Toninho</td><td>2024</td><td>1</td><td>4691.56</td><td>4691.56</td></tr><tr><td>Barbearia do Toninho</td><td>2024</td><td>5</td><td>8734.32</td><td>13425.88</td></tr><tr><td>Botequim do Chico</td><td>2024</td><td>2</td><td>4214.70</td><td>4214.70</td></tr><tr><td>Botequim do Chico</td><td>2024</td><td>3</td><td>7238.62</td><td>11453.32</td></tr><tr><td>Café Expresso</td><td>2023</td><td>9</td><td>2900.25</td><td>2900.25</td></tr><tr><td>Café Expresso</td><td>2023</td><td>12</td><td>252.20</td><td>3152.45</td></tr><tr><td>Café Expresso</td><td>2024</td><td>2</td><td>4727.36</td><td>4727.36</td></tr><tr><td>Café Expresso</td><td>2024</td><td>6</td><td>7032.22</td><td>11759.58</td></tr><tr><td>Café Expresso</td><td>2024</td><td>7</td><td>3548.25</td><td>15307.83</td></tr><tr><td>Café Gourmet</td><td>2024</td><td>4</td><td>442.70</td><td>442.70</td></tr><tr><td>Café Gourmet</td><td>2024</td><td>5</td><td>3930.24</td><td>4372.94</td></tr><tr><td>Cantina Italiana</td><td>2023</td><td>10</td><td>6087.15</td><td>6087.15</td></tr><tr><td>Cantina Italiana</td><td>2023</td><td>11</td><td>7123.96</td><td>13211.11</td></tr><tr><td>Cantina Italiana</td><td>2024</td><td>1</td><td>1361.12</td><td>1361.12</td></tr><tr><td>Cantina Italiana</td><td>2024</td><td>2</td><td>714.78</td><td>2075.90</td></tr><tr><td>Cantina Italiana</td><td>2024</td><td>3</td><td>3773.14</td><td>5849.04</td></tr><tr><td>Cantina Italiana</td><td>2024</td><td>4</td><td>3906.00</td><td>9755.04</td></tr><tr><td>Cantina Italiana</td><td>2024</td><td>7</td><td>476.69</td><td>10231.73</td></tr><tr><td>Cervejaria Artesanal</td><td>2023</td><td>7</td><td>9621.36</td><td>9621.36</td></tr><tr><td>Cervejaria Artesanal</td><td>2023</td><td>9</td><td>3472.95</td><td>13094.31</td></tr><tr><td>Cervejaria Artesanal</td><td>2024</td><td>4</td><td>1285.16</td><td>1285.16</td></tr><tr><td>Cervejaria Artesanal</td><td>2024</td><td>5</td><td>3594.52</td><td>4879.68</td></tr><tr><td>Cervejaria Artesanal</td><td>2024</td><td>6</td><td>847.78</td><td>5727.46</td></tr><tr><td>Cervejaria Artesanal</td><td>2024</td><td>7</td><td>1227.66</td><td>6955.12</td></tr><tr><td>Cervejaria Gourmet</td><td>2023</td><td>8</td><td>2820.72</td><td>2820.72</td></tr><tr><td>Cervejaria Gourmet</td><td>2023</td><td>9</td><td>8018.66</td><td>10839.38</td></tr><tr><td>Cervejaria Gourmet</td><td>2023</td><td>12</td><td>509.33</td><td>11348.71</td></tr><tr><td>Cervejaria Gourmet</td><td>2024</td><td>1</td><td>2187.76</td><td>2187.76</td></tr><tr><td>Cervejaria Gourmet</td><td>2024</td><td>2</td><td>4870.80</td><td>7058.56</td></tr><tr><td>Cervejaria Gourmet</td><td>2024</td><td>4</td><td>945.30</td><td>8003.86</td></tr><tr><td>Chocolateria</td><td>2023</td><td>8</td><td>3819.36</td><td>3819.36</td></tr><tr><td>Chocolateria</td><td>2023</td><td>12</td><td>3362.60</td><td>7181.96</td></tr><tr><td>Churrascaria Gaúcha</td><td>2023</td><td>7</td><td>1788.64</td><td>1788.64</td></tr><tr><td>Churrascaria Gaúcha</td><td>2024</td><td>5</td><td>183.96</td><td>183.96</td></tr><tr><td>Doceria Delícia</td><td>2023</td><td>10</td><td>4047.37</td><td>4047.37</td></tr><tr><td>Doceria Delícia</td><td>2023</td><td>12</td><td>3289.47</td><td>7336.84</td></tr><tr><td>Doceria Delícia</td><td>2024</td><td>3</td><td>3299.40</td><td>3299.40</td></tr><tr><td>Doceria Fina</td><td>2023</td><td>10</td><td>1489.44</td><td>1489.44</td></tr><tr><td>Doceria Fina</td><td>2023</td><td>11</td><td>3870.40</td><td>5359.84</td></tr><tr><td>Doceria Fina</td><td>2024</td><td>1</td><td>1313.64</td><td>1313.64</td></tr><tr><td>Doceria Fina</td><td>2024</td><td>3</td><td>5945.61</td><td>7259.25</td></tr><tr><td>Farmácia Popular</td><td>2023</td><td>7</td><td>4424.42</td><td>4424.42</td></tr><tr><td>Farmácia Popular</td><td>2023</td><td>8</td><td>1613.20</td><td>6037.62</td></tr><tr><td>Farmácia Popular</td><td>2023</td><td>9</td><td>3877.23</td><td>9914.85</td></tr><tr><td>Farmácia Popular</td><td>2023</td><td>11</td><td>4465.95</td><td>14380.80</td></tr><tr><td>Farmácia Popular</td><td>2023</td><td>12</td><td>3089.48</td><td>17470.28</td></tr><tr><td>Farmácia Popular</td><td>2024</td><td>1</td><td>2793.64</td><td>2793.64</td></tr><tr><td>Farmácia Popular</td><td>2024</td><td>3</td><td>172.44</td><td>2966.08</td></tr><tr><td>Farmácia Popular</td><td>2024</td><td>7</td><td>5295.84</td><td>8261.92</td></tr><tr><td>Frutaria Tropical</td><td>2023</td><td>7</td><td>3877.50</td><td>3877.50</td></tr><tr><td>Frutaria Tropical</td><td>2023</td><td>10</td><td>467.10</td><td>4344.60</td></tr><tr><td>Frutaria Tropical</td><td>2024</td><td>4</td><td>7728.00</td><td>7728.00</td></tr><tr><td>Hamburgueria Burger</td><td>2023</td><td>7</td><td>1193.14</td><td>1193.14</td></tr><tr><td>Hamburgueria Burger</td><td>2023</td><td>10</td><td>5304.02</td><td>6497.16</td></tr><tr><td>Hamburgueria Burger</td><td>2023</td><td>11</td><td>1720.44</td><td>8217.60</td></tr><tr><td>Hamburgueria Burger</td><td>2024</td><td>3</td><td>2520.06</td><td>2520.06</td></tr><tr><td>Hamburgueria Prime</td><td>2023</td><td>7</td><td>2500.40</td><td>2500.40</td></tr><tr><td>Hamburgueria Prime</td><td>2023</td><td>8</td><td>715.89</td><td>3216.29</td></tr><tr><td>Hamburgueria Prime</td><td>2023</td><td>12</td><td>2076.36</td><td>5292.65</td></tr><tr><td>Hamburgueria Prime</td><td>2024</td><td>3</td><td>1080.14</td><td>1080.14</td></tr><tr><td>Lanchonete Top</td><td>2023</td><td>9</td><td>7321.70</td><td>7321.70</td></tr><tr><td>Lanchonete Top</td><td>2024</td><td>1</td><td>4623.96</td><td>4623.96</td></tr><tr><td>Lanchonete Top</td><td>2024</td><td>2</td><td>2008.46</td><td>6632.42</td></tr><tr><td>Lanchonete Top</td><td>2024</td><td>4</td><td>2080.33</td><td>8712.75</td></tr><tr><td>Lanchonete Top</td><td>2024</td><td>5</td><td>501.38</td><td>9214.13</td></tr><tr><td>Lanchonete Top</td><td>2024</td><td>6</td><td>2997.76</td><td>12211.89</td></tr><tr><td>Lanchonete da Maria</td><td>2023</td><td>12</td><td>2397.68</td><td>2397.68</td></tr><tr><td>Lanchonete da Maria</td><td>2024</td><td>2</td><td>510.54</td><td>510.54</td></tr><tr><td>Lanchonete da Maria</td><td>2024</td><td>5</td><td>1597.25</td><td>2107.79</td></tr><tr><td>Lanchonete do Bairro</td><td>2023</td><td>8</td><td>4384.70</td><td>4384.70</td></tr><tr><td>Lanchonete do Bairro</td><td>2023</td><td>10</td><td>2169.78</td><td>6554.48</td></tr><tr><td>Lanchonete do Bairro</td><td>2023</td><td>12</td><td>1303.64</td><td>7858.12</td></tr><tr><td>Livraria Cultura</td><td>2023</td><td>9</td><td>4771.24</td><td>4771.24</td></tr><tr><td>Livraria Cultura</td><td>2024</td><td>3</td><td>3903.20</td><td>3903.20</td></tr><tr><td>Livraria Cultura</td><td>2024</td><td>4</td><td>1142.32</td><td>5045.52</td></tr><tr><td>Loja de Roupas Fashion</td><td>2023</td><td>8</td><td>4443.41</td><td>4443.41</td></tr><tr><td>Loja de Roupas Fashion</td><td>2023</td><td>12</td><td>2084.50</td><td>6527.91</td></tr><tr><td>Loja de Roupas Fashion</td><td>2024</td><td>5</td><td>6325.33</td><td>6325.33</td></tr><tr><td>Loja de Roupas Fashion</td><td>2024</td><td>7</td><td>548.08</td><td>6873.41</td></tr><tr><td>Mercadinho da Esquina</td><td>2023</td><td>11</td><td>3803.76</td><td>3803.76</td></tr><tr><td>Mercadinho da Esquina</td><td>2023</td><td>12</td><td>2070.74</td><td>5874.50</td></tr><tr><td>Mercadinho da Esquina</td><td>2024</td><td>6</td><td>830.28</td><td>830.28</td></tr><tr><td>Mercadinho do Bairro</td><td>2023</td><td>9</td><td>1132.63</td><td>1132.63</td></tr><tr><td>Mercadinho do Bairro</td><td>2024</td><td>1</td><td>92.16</td><td>92.16</td></tr><tr><td>Mercadinho do Bairro</td><td>2024</td><td>2</td><td>8847.18</td><td>8939.34</td></tr><tr><td>Oficina Mecânica</td><td>2023</td><td>8</td><td>8102.16</td><td>8102.16</td></tr><tr><td>Oficina Mecânica</td><td>2023</td><td>10</td><td>8445.36</td><td>16547.52</td></tr><tr><td>Oficina Mecânica</td><td>2024</td><td>1</td><td>5291.88</td><td>5291.88</td></tr><tr><td>Oficina Mecânica</td><td>2024</td><td>4</td><td>3963.78</td><td>9255.66</td></tr><tr><td>Oficina Mecânica</td><td>2024</td><td>5</td><td>6838.51</td><td>16094.17</td></tr><tr><td>Padaria São João</td><td>2023</td><td>8</td><td>2430.40</td><td>2430.40</td></tr><tr><td>Padaria São João</td><td>2023</td><td>11</td><td>439.74</td><td>2870.14</td></tr><tr><td>Padaria São João</td><td>2023</td><td>12</td><td>3012.79</td><td>5882.93</td></tr><tr><td>Padaria São João</td><td>2024</td><td>3</td><td>1267.99</td><td>1267.99</td></tr><tr><td>Padaria São João</td><td>2024</td><td>6</td><td>8416.24</td><td>9684.23</td></tr><tr><td>Padaria do Bairro</td><td>2023</td><td>8</td><td>957.60</td><td>957.60</td></tr><tr><td>Padaria do Bairro</td><td>2023</td><td>9</td><td>8662.19</td><td>9619.79</td></tr><tr><td>Padaria do Bairro</td><td>2024</td><td>1</td><td>2422.20</td><td>2422.20</td></tr><tr><td>Padaria do Bairro</td><td>2024</td><td>5</td><td>5505.15</td><td>7927.35</td></tr><tr><td>Padaria do Paulo</td><td>2023</td><td>7</td><td>5384.01</td><td>5384.01</td></tr><tr><td>Padaria do Paulo</td><td>2023</td><td>9</td><td>4554.80</td><td>9938.81</td></tr><tr><td>Padaria do Paulo</td><td>2023</td><td>10</td><td>7761.47</td><td>17700.28</td></tr><tr><td>Padaria do Paulo</td><td>2023</td><td>12</td><td>836.94</td><td>18537.22</td></tr><tr><td>Padaria do Paulo</td><td>2024</td><td>2</td><td>4204.46</td><td>4204.46</td></tr><tr><td>Padaria do Paulo</td><td>2024</td><td>4</td><td>855.36</td><td>5059.82</td></tr><tr><td>Padaria do Paulo</td><td>2024</td><td>5</td><td>2818.02</td><td>7877.84</td></tr><tr><td>Padaria do Paulo</td><td>2024</td><td>6</td><td>3504.60</td><td>11382.44</td></tr><tr><td>Padoca do Zé</td><td>2023</td><td>8</td><td>3462.00</td><td>3462.00</td></tr><tr><td>Padoca do Zé</td><td>2023</td><td>9</td><td>3232.36</td><td>6694.36</td></tr><tr><td>Padoca do Zé</td><td>2023</td><td>11</td><td>16301.82</td><td>22996.18</td></tr><tr><td>Padoca do Zé</td><td>2024</td><td>1</td><td>12588.05</td><td>12588.05</td></tr><tr><td>Padoca do Zé</td><td>2024</td><td>2</td><td>1075.83</td><td>13663.88</td></tr><tr><td>Padoca do Zé</td><td>2024</td><td>4</td><td>635.85</td><td>14299.73</td></tr><tr><td>Padoca do Zé</td><td>2024</td><td>5</td><td>2820.76</td><td>17120.49</td></tr><tr><td>Papelaria Central</td><td>2024</td><td>3</td><td>6645.43</td><td>6645.43</td></tr><tr><td>Pastelaria da Vila</td><td>2023</td><td>11</td><td>7208.55</td><td>7208.55</td></tr><tr><td>Pastelaria da Vila</td><td>2024</td><td>4</td><td>5905.77</td><td>5905.77</td></tr><tr><td>Pastelaria do Mário</td><td>2023</td><td>12</td><td>1040.04</td><td>1040.04</td></tr><tr><td>Pastelaria do Mário</td><td>2024</td><td>5</td><td>3032.97</td><td>3032.97</td></tr><tr><td>Pastelaria do Mário</td><td>2024</td><td>7</td><td>4295.10</td><td>7328.07</td></tr><tr><td>Pet Shop Amigo Fiel</td><td>2023</td><td>9</td><td>265.60</td><td>265.60</td></tr><tr><td>Pet Shop Amigo Fiel</td><td>2023</td><td>10</td><td>414.96</td><td>680.56</td></tr><tr><td>Pet Shop Amigo Fiel</td><td>2024</td><td>5</td><td>1290.96</td><td>1290.96</td></tr><tr><td>Pet Shop Amigo Fiel</td><td>2024</td><td>7</td><td>3647.70</td><td>4938.66</td></tr><tr><td>Pizzaria Bella</td><td>2023</td><td>8</td><td>2386.20</td><td>2386.20</td></tr><tr><td>Pizzaria Bella</td><td>2023</td><td>9</td><td>2422.00</td><td>4808.20</td></tr><tr><td>Pizzaria Bella</td><td>2023</td><td>12</td><td>4228.01</td><td>9036.21</td></tr><tr><td>Pizzaria Bella</td><td>2024</td><td>2</td><td>6239.18</td><td>6239.18</td></tr><tr><td>Pizzaria Bella</td><td>2024</td><td>4</td><td>1349.00</td><td>7588.18</td></tr><tr><td>Pizzaria Italiana</td><td>2023</td><td>8</td><td>3001.74</td><td>3001.74</td></tr><tr><td>Pizzaria Italiana</td><td>2023</td><td>10</td><td>5926.70</td><td>8928.44</td></tr><tr><td>Pizzaria Italiana</td><td>2024</td><td>4</td><td>195.00</td><td>195.00</td></tr><tr><td>Pizzaria Italiana</td><td>2024</td><td>5</td><td>5299.80</td><td>5494.80</td></tr><tr><td>Pizzaria Italiana</td><td>2024</td><td>6</td><td>1809.60</td><td>7304.40</td></tr><tr><td>Pizzaria São Pedro</td><td>2023</td><td>9</td><td>326.34</td><td>326.34</td></tr><tr><td>Pizzaria São Pedro</td><td>2023</td><td>11</td><td>428.56</td><td>754.90</td></tr><tr><td>Pizzaria São Pedro</td><td>2024</td><td>4</td><td>2773.68</td><td>2773.68</td></tr><tr><td>Restaurante Brasileiro</td><td>2023</td><td>12</td><td>587.88</td><td>587.88</td></tr><tr><td>Restaurante Brasileiro</td><td>2024</td><td>2</td><td>1065.90</td><td>1065.90</td></tr><tr><td>Restaurante Brasileiro</td><td>2024</td><td>3</td><td>5965.65</td><td>7031.55</td></tr><tr><td>Restaurante Brasileiro</td><td>2024</td><td>6</td><td>2051.10</td><td>9082.65</td></tr><tr><td>Restaurante Francês</td><td>2023</td><td>7</td><td>309.40</td><td>309.40</td></tr><tr><td>Restaurante Francês</td><td>2023</td><td>9</td><td>6770.75</td><td>7080.15</td></tr><tr><td>Restaurante Francês</td><td>2024</td><td>5</td><td>4807.68</td><td>4807.68</td></tr><tr><td>Restaurante Japonês</td><td>2023</td><td>9</td><td>554.24</td><td>554.24</td></tr><tr><td>Restaurante Japonês</td><td>2023</td><td>11</td><td>1720.95</td><td>2275.19</td></tr><tr><td>Restaurante Japonês</td><td>2024</td><td>1</td><td>1494.22</td><td>1494.22</td></tr><tr><td>Restaurante Japonês</td><td>2024</td><td>7</td><td>1347.50</td><td>2841.72</td></tr><tr><td>Restaurante Mexicano</td><td>2023</td><td>9</td><td>11309.31</td><td>11309.31</td></tr><tr><td>Restaurante Mexicano</td><td>2023</td><td>10</td><td>1546.74</td><td>12856.05</td></tr><tr><td>Restaurante Mexicano</td><td>2023</td><td>12</td><td>2112.88</td><td>14968.93</td></tr><tr><td>Restaurante Mexicano</td><td>2024</td><td>4</td><td>4979.52</td><td>4979.52</td></tr><tr><td>Restaurante Vegetariano</td><td>2023</td><td>11</td><td>5612.12</td><td>5612.12</td></tr><tr><td>Restaurante Vegetariano</td><td>2024</td><td>1</td><td>4765.08</td><td>4765.08</td></tr><tr><td>Restaurante Vegetariano</td><td>2024</td><td>2</td><td>4031.70</td><td>8796.78</td></tr><tr><td>Restaurante Vegetariano</td><td>2024</td><td>6</td><td>1792.08</td><td>10588.86</td></tr><tr><td>Restaurante da Ana</td><td>2023</td><td>8</td><td>4887.68</td><td>4887.68</td></tr><tr><td>Restaurante da Ana</td><td>2023</td><td>9</td><td>1611.61</td><td>6499.29</td></tr><tr><td>Restaurante da Ana</td><td>2023</td><td>11</td><td>4780.71</td><td>11280.00</td></tr><tr><td>Restaurante da Ana</td><td>2023</td><td>12</td><td>355.20</td><td>11635.20</td></tr><tr><td>Restaurante da Ana</td><td>2024</td><td>4</td><td>3569.22</td><td>3569.22</td></tr><tr><td>Salão Beleza Pura</td><td>2023</td><td>9</td><td>1280.00</td><td>1280.00</td></tr><tr><td>Salão Beleza Pura</td><td>2023</td><td>12</td><td>5751.21</td><td>7031.21</td></tr><tr><td>Salão Beleza Pura</td><td>2024</td><td>2</td><td>6014.40</td><td>6014.40</td></tr><tr><td>Salão Beleza Pura</td><td>2024</td><td>3</td><td>257.60</td><td>6272.00</td></tr><tr><td>Salão Beleza Pura</td><td>2024</td><td>5</td><td>3925.22</td><td>10197.22</td></tr><tr><td>Salão Beleza Pura</td><td>2024</td><td>6</td><td>547.17</td><td>10744.39</td></tr><tr><td>Sorveteria Geladinho</td><td>2023</td><td>8</td><td>3303.30</td><td>3303.30</td></tr><tr><td>Sorveteria Geladinho</td><td>2023</td><td>11</td><td>3431.54</td><td>6734.84</td></tr><tr><td>Sorveteria Geladinho</td><td>2023</td><td>12</td><td>2629.44</td><td>9364.28</td></tr><tr><td>Sorveteria Geladinho</td><td>2024</td><td>3</td><td>1246.16</td><td>1246.16</td></tr><tr><td>Sorveteria Sorvetão</td><td>2024</td><td>2</td><td>5754.36</td><td>5754.36</td></tr><tr><td>Sorveteria Sorvetão</td><td>2024</td><td>4</td><td>719.82</td><td>6474.18</td></tr><tr><td>Sorveteria Sorvetão</td><td>2024</td><td>5</td><td>1703.68</td><td>8177.86</td></tr><tr><td>Supermercado ABC</td><td>2024</td><td>2</td><td>1765.41</td><td>1765.41</td></tr><tr><td>Supermercado ABC</td><td>2024</td><td>5</td><td>2375.10</td><td>4140.51</td></tr><tr><td>Supermercado ABC</td><td>2024</td><td>7</td><td>1012.38</td><td>5152.89</td></tr></tbody></table></div>"
      ]
     },
     "metadata": {
      "application/vnd.databricks.v1+output": {
       "addedWidgets": {},
       "aggData": [],
       "aggError": "",
       "aggOverflow": false,
       "aggSchema": [],
       "aggSeriesLimitReached": false,
       "aggType": "",
       "arguments": {},
       "columnCustomDisplayInfos": {},
       "data": [
        [
         "Academia Fit",
         2023,
         10,
         "1435.60",
         "1435.60"
        ],
        [
         "Academia Fit",
         2023,
         11,
         "441.25",
         "1876.85"
        ],
        [
         "Academia Fit",
         2024,
         3,
         "7196.22",
         "7196.22"
        ],
        [
         "Academia Fit",
         2024,
         4,
         "6342.34",
         "13538.56"
        ],
        [
         "Academia Fit",
         2024,
         5,
         "4314.01",
         "17852.57"
        ],
        [
         "Academia Fit",
         2024,
         6,
         "2324.81",
         "20177.38"
        ],
        [
         "Adega do Luiz",
         2023,
         8,
         "758.28",
         "758.28"
        ],
        [
         "Adega do Luiz",
         2024,
         1,
         "5983.25",
         "5983.25"
        ],
        [
         "Adega do Luiz",
         2024,
         5,
         "5772.20",
         "11755.45"
        ],
        [
         "Bar da Esquina",
         2023,
         10,
         "164.22",
         "164.22"
        ],
        [
         "Bar da Esquina",
         2023,
         12,
         "6076.20",
         "6240.42"
        ],
        [
         "Bar da Esquina",
         2024,
         1,
         "5114.88",
         "5114.88"
        ],
        [
         "Bar da Esquina",
         2024,
         2,
         "483.96",
         "5598.84"
        ],
        [
         "Bar da Esquina",
         2024,
         4,
         "11035.55",
         "16634.39"
        ],
        [
         "Bar da Esquina",
         2024,
         6,
         "4374.75",
         "21009.14"
        ],
        [
         "Bar do João",
         2023,
         7,
         "4888.40",
         "4888.40"
        ],
        [
         "Bar do João",
         2023,
         8,
         "1222.59",
         "6110.99"
        ],
        [
         "Bar do João",
         2023,
         9,
         "2493.12",
         "8604.11"
        ],
        [
         "Bar do João",
         2023,
         11,
         "1798.50",
         "10402.61"
        ],
        [
         "Bar do João",
         2023,
         12,
         "3323.28",
         "13725.89"
        ],
        [
         "Bar do João",
         2024,
         2,
         "683.10",
         "683.10"
        ],
        [
         "Bar do João",
         2024,
         5,
         "5466.20",
         "6149.30"
        ],
        [
         "Bar do João",
         2024,
         7,
         "190.38",
         "6339.68"
        ],
        [
         "Bar do mineiro",
         2023,
         9,
         "6318.00",
         "6318.00"
        ],
        [
         "Bar do mineiro",
         2023,
         11,
         "1989.00",
         "8307.00"
        ],
        [
         "Bar do mineiro",
         2024,
         1,
         "584.70",
         "584.70"
        ],
        [
         "Bar e Grill",
         2023,
         8,
         "12950.40",
         "12950.40"
        ],
        [
         "Bar e Grill",
         2024,
         2,
         "1702.40",
         "1702.40"
        ],
        [
         "Bar e Grill",
         2024,
         3,
         "6760.92",
         "8463.32"
        ],
        [
         "Bar e Grill",
         2024,
         5,
         "6026.65",
         "14489.97"
        ],
        [
         "Barbearia do Toninho",
         2023,
         8,
         "2498.72",
         "2498.72"
        ],
        [
         "Barbearia do Toninho",
         2023,
         11,
         "1655.31",
         "4154.03"
        ],
        [
         "Barbearia do Toninho",
         2023,
         12,
         "6920.28",
         "11074.31"
        ],
        [
         "Barbearia do Toninho",
         2024,
         1,
         "4691.56",
         "4691.56"
        ],
        [
         "Barbearia do Toninho",
         2024,
         5,
         "8734.32",
         "13425.88"
        ],
        [
         "Botequim do Chico",
         2024,
         2,
         "4214.70",
         "4214.70"
        ],
        [
         "Botequim do Chico",
         2024,
         3,
         "7238.62",
         "11453.32"
        ],
        [
         "Café Expresso",
         2023,
         9,
         "2900.25",
         "2900.25"
        ],
        [
         "Café Expresso",
         2023,
         12,
         "252.20",
         "3152.45"
        ],
        [
         "Café Expresso",
         2024,
         2,
         "4727.36",
         "4727.36"
        ],
        [
         "Café Expresso",
         2024,
         6,
         "7032.22",
         "11759.58"
        ],
        [
         "Café Expresso",
         2024,
         7,
         "3548.25",
         "15307.83"
        ],
        [
         "Café Gourmet",
         2024,
         4,
         "442.70",
         "442.70"
        ],
        [
         "Café Gourmet",
         2024,
         5,
         "3930.24",
         "4372.94"
        ],
        [
         "Cantina Italiana",
         2023,
         10,
         "6087.15",
         "6087.15"
        ],
        [
         "Cantina Italiana",
         2023,
         11,
         "7123.96",
         "13211.11"
        ],
        [
         "Cantina Italiana",
         2024,
         1,
         "1361.12",
         "1361.12"
        ],
        [
         "Cantina Italiana",
         2024,
         2,
         "714.78",
         "2075.90"
        ],
        [
         "Cantina Italiana",
         2024,
         3,
         "3773.14",
         "5849.04"
        ],
        [
         "Cantina Italiana",
         2024,
         4,
         "3906.00",
         "9755.04"
        ],
        [
         "Cantina Italiana",
         2024,
         7,
         "476.69",
         "10231.73"
        ],
        [
         "Cervejaria Artesanal",
         2023,
         7,
         "9621.36",
         "9621.36"
        ],
        [
         "Cervejaria Artesanal",
         2023,
         9,
         "3472.95",
         "13094.31"
        ],
        [
         "Cervejaria Artesanal",
         2024,
         4,
         "1285.16",
         "1285.16"
        ],
        [
         "Cervejaria Artesanal",
         2024,
         5,
         "3594.52",
         "4879.68"
        ],
        [
         "Cervejaria Artesanal",
         2024,
         6,
         "847.78",
         "5727.46"
        ],
        [
         "Cervejaria Artesanal",
         2024,
         7,
         "1227.66",
         "6955.12"
        ],
        [
         "Cervejaria Gourmet",
         2023,
         8,
         "2820.72",
         "2820.72"
        ],
        [
         "Cervejaria Gourmet",
         2023,
         9,
         "8018.66",
         "10839.38"
        ],
        [
         "Cervejaria Gourmet",
         2023,
         12,
         "509.33",
         "11348.71"
        ],
        [
         "Cervejaria Gourmet",
         2024,
         1,
         "2187.76",
         "2187.76"
        ],
        [
         "Cervejaria Gourmet",
         2024,
         2,
         "4870.80",
         "7058.56"
        ],
        [
         "Cervejaria Gourmet",
         2024,
         4,
         "945.30",
         "8003.86"
        ],
        [
         "Chocolateria",
         2023,
         8,
         "3819.36",
         "3819.36"
        ],
        [
         "Chocolateria",
         2023,
         12,
         "3362.60",
         "7181.96"
        ],
        [
         "Churrascaria Gaúcha",
         2023,
         7,
         "1788.64",
         "1788.64"
        ],
        [
         "Churrascaria Gaúcha",
         2024,
         5,
         "183.96",
         "183.96"
        ],
        [
         "Doceria Delícia",
         2023,
         10,
         "4047.37",
         "4047.37"
        ],
        [
         "Doceria Delícia",
         2023,
         12,
         "3289.47",
         "7336.84"
        ],
        [
         "Doceria Delícia",
         2024,
         3,
         "3299.40",
         "3299.40"
        ],
        [
         "Doceria Fina",
         2023,
         10,
         "1489.44",
         "1489.44"
        ],
        [
         "Doceria Fina",
         2023,
         11,
         "3870.40",
         "5359.84"
        ],
        [
         "Doceria Fina",
         2024,
         1,
         "1313.64",
         "1313.64"
        ],
        [
         "Doceria Fina",
         2024,
         3,
         "5945.61",
         "7259.25"
        ],
        [
         "Farmácia Popular",
         2023,
         7,
         "4424.42",
         "4424.42"
        ],
        [
         "Farmácia Popular",
         2023,
         8,
         "1613.20",
         "6037.62"
        ],
        [
         "Farmácia Popular",
         2023,
         9,
         "3877.23",
         "9914.85"
        ],
        [
         "Farmácia Popular",
         2023,
         11,
         "4465.95",
         "14380.80"
        ],
        [
         "Farmácia Popular",
         2023,
         12,
         "3089.48",
         "17470.28"
        ],
        [
         "Farmácia Popular",
         2024,
         1,
         "2793.64",
         "2793.64"
        ],
        [
         "Farmácia Popular",
         2024,
         3,
         "172.44",
         "2966.08"
        ],
        [
         "Farmácia Popular",
         2024,
         7,
         "5295.84",
         "8261.92"
        ],
        [
         "Frutaria Tropical",
         2023,
         7,
         "3877.50",
         "3877.50"
        ],
        [
         "Frutaria Tropical",
         2023,
         10,
         "467.10",
         "4344.60"
        ],
        [
         "Frutaria Tropical",
         2024,
         4,
         "7728.00",
         "7728.00"
        ],
        [
         "Hamburgueria Burger",
         2023,
         7,
         "1193.14",
         "1193.14"
        ],
        [
         "Hamburgueria Burger",
         2023,
         10,
         "5304.02",
         "6497.16"
        ],
        [
         "Hamburgueria Burger",
         2023,
         11,
         "1720.44",
         "8217.60"
        ],
        [
         "Hamburgueria Burger",
         2024,
         3,
         "2520.06",
         "2520.06"
        ],
        [
         "Hamburgueria Prime",
         2023,
         7,
         "2500.40",
         "2500.40"
        ],
        [
         "Hamburgueria Prime",
         2023,
         8,
         "715.89",
         "3216.29"
        ],
        [
         "Hamburgueria Prime",
         2023,
         12,
         "2076.36",
         "5292.65"
        ],
        [
         "Hamburgueria Prime",
         2024,
         3,
         "1080.14",
         "1080.14"
        ],
        [
         "Lanchonete Top",
         2023,
         9,
         "7321.70",
         "7321.70"
        ],
        [
         "Lanchonete Top",
         2024,
         1,
         "4623.96",
         "4623.96"
        ],
        [
         "Lanchonete Top",
         2024,
         2,
         "2008.46",
         "6632.42"
        ],
        [
         "Lanchonete Top",
         2024,
         4,
         "2080.33",
         "8712.75"
        ],
        [
         "Lanchonete Top",
         2024,
         5,
         "501.38",
         "9214.13"
        ],
        [
         "Lanchonete Top",
         2024,
         6,
         "2997.76",
         "12211.89"
        ],
        [
         "Lanchonete da Maria",
         2023,
         12,
         "2397.68",
         "2397.68"
        ],
        [
         "Lanchonete da Maria",
         2024,
         2,
         "510.54",
         "510.54"
        ],
        [
         "Lanchonete da Maria",
         2024,
         5,
         "1597.25",
         "2107.79"
        ],
        [
         "Lanchonete do Bairro",
         2023,
         8,
         "4384.70",
         "4384.70"
        ],
        [
         "Lanchonete do Bairro",
         2023,
         10,
         "2169.78",
         "6554.48"
        ],
        [
         "Lanchonete do Bairro",
         2023,
         12,
         "1303.64",
         "7858.12"
        ],
        [
         "Livraria Cultura",
         2023,
         9,
         "4771.24",
         "4771.24"
        ],
        [
         "Livraria Cultura",
         2024,
         3,
         "3903.20",
         "3903.20"
        ],
        [
         "Livraria Cultura",
         2024,
         4,
         "1142.32",
         "5045.52"
        ],
        [
         "Loja de Roupas Fashion",
         2023,
         8,
         "4443.41",
         "4443.41"
        ],
        [
         "Loja de Roupas Fashion",
         2023,
         12,
         "2084.50",
         "6527.91"
        ],
        [
         "Loja de Roupas Fashion",
         2024,
         5,
         "6325.33",
         "6325.33"
        ],
        [
         "Loja de Roupas Fashion",
         2024,
         7,
         "548.08",
         "6873.41"
        ],
        [
         "Mercadinho da Esquina",
         2023,
         11,
         "3803.76",
         "3803.76"
        ],
        [
         "Mercadinho da Esquina",
         2023,
         12,
         "2070.74",
         "5874.50"
        ],
        [
         "Mercadinho da Esquina",
         2024,
         6,
         "830.28",
         "830.28"
        ],
        [
         "Mercadinho do Bairro",
         2023,
         9,
         "1132.63",
         "1132.63"
        ],
        [
         "Mercadinho do Bairro",
         2024,
         1,
         "92.16",
         "92.16"
        ],
        [
         "Mercadinho do Bairro",
         2024,
         2,
         "8847.18",
         "8939.34"
        ],
        [
         "Oficina Mecânica",
         2023,
         8,
         "8102.16",
         "8102.16"
        ],
        [
         "Oficina Mecânica",
         2023,
         10,
         "8445.36",
         "16547.52"
        ],
        [
         "Oficina Mecânica",
         2024,
         1,
         "5291.88",
         "5291.88"
        ],
        [
         "Oficina Mecânica",
         2024,
         4,
         "3963.78",
         "9255.66"
        ],
        [
         "Oficina Mecânica",
         2024,
         5,
         "6838.51",
         "16094.17"
        ],
        [
         "Padaria São João",
         2023,
         8,
         "2430.40",
         "2430.40"
        ],
        [
         "Padaria São João",
         2023,
         11,
         "439.74",
         "2870.14"
        ],
        [
         "Padaria São João",
         2023,
         12,
         "3012.79",
         "5882.93"
        ],
        [
         "Padaria São João",
         2024,
         3,
         "1267.99",
         "1267.99"
        ],
        [
         "Padaria São João",
         2024,
         6,
         "8416.24",
         "9684.23"
        ],
        [
         "Padaria do Bairro",
         2023,
         8,
         "957.60",
         "957.60"
        ],
        [
         "Padaria do Bairro",
         2023,
         9,
         "8662.19",
         "9619.79"
        ],
        [
         "Padaria do Bairro",
         2024,
         1,
         "2422.20",
         "2422.20"
        ],
        [
         "Padaria do Bairro",
         2024,
         5,
         "5505.15",
         "7927.35"
        ],
        [
         "Padaria do Paulo",
         2023,
         7,
         "5384.01",
         "5384.01"
        ],
        [
         "Padaria do Paulo",
         2023,
         9,
         "4554.80",
         "9938.81"
        ],
        [
         "Padaria do Paulo",
         2023,
         10,
         "7761.47",
         "17700.28"
        ],
        [
         "Padaria do Paulo",
         2023,
         12,
         "836.94",
         "18537.22"
        ],
        [
         "Padaria do Paulo",
         2024,
         2,
         "4204.46",
         "4204.46"
        ],
        [
         "Padaria do Paulo",
         2024,
         4,
         "855.36",
         "5059.82"
        ],
        [
         "Padaria do Paulo",
         2024,
         5,
         "2818.02",
         "7877.84"
        ],
        [
         "Padaria do Paulo",
         2024,
         6,
         "3504.60",
         "11382.44"
        ],
        [
         "Padoca do Zé",
         2023,
         8,
         "3462.00",
         "3462.00"
        ],
        [
         "Padoca do Zé",
         2023,
         9,
         "3232.36",
         "6694.36"
        ],
        [
         "Padoca do Zé",
         2023,
         11,
         "16301.82",
         "22996.18"
        ],
        [
         "Padoca do Zé",
         2024,
         1,
         "12588.05",
         "12588.05"
        ],
        [
         "Padoca do Zé",
         2024,
         2,
         "1075.83",
         "13663.88"
        ],
        [
         "Padoca do Zé",
         2024,
         4,
         "635.85",
         "14299.73"
        ],
        [
         "Padoca do Zé",
         2024,
         5,
         "2820.76",
         "17120.49"
        ],
        [
         "Papelaria Central",
         2024,
         3,
         "6645.43",
         "6645.43"
        ],
        [
         "Pastelaria da Vila",
         2023,
         11,
         "7208.55",
         "7208.55"
        ],
        [
         "Pastelaria da Vila",
         2024,
         4,
         "5905.77",
         "5905.77"
        ],
        [
         "Pastelaria do Mário",
         2023,
         12,
         "1040.04",
         "1040.04"
        ],
        [
         "Pastelaria do Mário",
         2024,
         5,
         "3032.97",
         "3032.97"
        ],
        [
         "Pastelaria do Mário",
         2024,
         7,
         "4295.10",
         "7328.07"
        ],
        [
         "Pet Shop Amigo Fiel",
         2023,
         9,
         "265.60",
         "265.60"
        ],
        [
         "Pet Shop Amigo Fiel",
         2023,
         10,
         "414.96",
         "680.56"
        ],
        [
         "Pet Shop Amigo Fiel",
         2024,
         5,
         "1290.96",
         "1290.96"
        ],
        [
         "Pet Shop Amigo Fiel",
         2024,
         7,
         "3647.70",
         "4938.66"
        ],
        [
         "Pizzaria Bella",
         2023,
         8,
         "2386.20",
         "2386.20"
        ],
        [
         "Pizzaria Bella",
         2023,
         9,
         "2422.00",
         "4808.20"
        ],
        [
         "Pizzaria Bella",
         2023,
         12,
         "4228.01",
         "9036.21"
        ],
        [
         "Pizzaria Bella",
         2024,
         2,
         "6239.18",
         "6239.18"
        ],
        [
         "Pizzaria Bella",
         2024,
         4,
         "1349.00",
         "7588.18"
        ],
        [
         "Pizzaria Italiana",
         2023,
         8,
         "3001.74",
         "3001.74"
        ],
        [
         "Pizzaria Italiana",
         2023,
         10,
         "5926.70",
         "8928.44"
        ],
        [
         "Pizzaria Italiana",
         2024,
         4,
         "195.00",
         "195.00"
        ],
        [
         "Pizzaria Italiana",
         2024,
         5,
         "5299.80",
         "5494.80"
        ],
        [
         "Pizzaria Italiana",
         2024,
         6,
         "1809.60",
         "7304.40"
        ],
        [
         "Pizzaria São Pedro",
         2023,
         9,
         "326.34",
         "326.34"
        ],
        [
         "Pizzaria São Pedro",
         2023,
         11,
         "428.56",
         "754.90"
        ],
        [
         "Pizzaria São Pedro",
         2024,
         4,
         "2773.68",
         "2773.68"
        ],
        [
         "Restaurante Brasileiro",
         2023,
         12,
         "587.88",
         "587.88"
        ],
        [
         "Restaurante Brasileiro",
         2024,
         2,
         "1065.90",
         "1065.90"
        ],
        [
         "Restaurante Brasileiro",
         2024,
         3,
         "5965.65",
         "7031.55"
        ],
        [
         "Restaurante Brasileiro",
         2024,
         6,
         "2051.10",
         "9082.65"
        ],
        [
         "Restaurante Francês",
         2023,
         7,
         "309.40",
         "309.40"
        ],
        [
         "Restaurante Francês",
         2023,
         9,
         "6770.75",
         "7080.15"
        ],
        [
         "Restaurante Francês",
         2024,
         5,
         "4807.68",
         "4807.68"
        ],
        [
         "Restaurante Japonês",
         2023,
         9,
         "554.24",
         "554.24"
        ],
        [
         "Restaurante Japonês",
         2023,
         11,
         "1720.95",
         "2275.19"
        ],
        [
         "Restaurante Japonês",
         2024,
         1,
         "1494.22",
         "1494.22"
        ],
        [
         "Restaurante Japonês",
         2024,
         7,
         "1347.50",
         "2841.72"
        ],
        [
         "Restaurante Mexicano",
         2023,
         9,
         "11309.31",
         "11309.31"
        ],
        [
         "Restaurante Mexicano",
         2023,
         10,
         "1546.74",
         "12856.05"
        ],
        [
         "Restaurante Mexicano",
         2023,
         12,
         "2112.88",
         "14968.93"
        ],
        [
         "Restaurante Mexicano",
         2024,
         4,
         "4979.52",
         "4979.52"
        ],
        [
         "Restaurante Vegetariano",
         2023,
         11,
         "5612.12",
         "5612.12"
        ],
        [
         "Restaurante Vegetariano",
         2024,
         1,
         "4765.08",
         "4765.08"
        ],
        [
         "Restaurante Vegetariano",
         2024,
         2,
         "4031.70",
         "8796.78"
        ],
        [
         "Restaurante Vegetariano",
         2024,
         6,
         "1792.08",
         "10588.86"
        ],
        [
         "Restaurante da Ana",
         2023,
         8,
         "4887.68",
         "4887.68"
        ],
        [
         "Restaurante da Ana",
         2023,
         9,
         "1611.61",
         "6499.29"
        ],
        [
         "Restaurante da Ana",
         2023,
         11,
         "4780.71",
         "11280.00"
        ],
        [
         "Restaurante da Ana",
         2023,
         12,
         "355.20",
         "11635.20"
        ],
        [
         "Restaurante da Ana",
         2024,
         4,
         "3569.22",
         "3569.22"
        ],
        [
         "Salão Beleza Pura",
         2023,
         9,
         "1280.00",
         "1280.00"
        ],
        [
         "Salão Beleza Pura",
         2023,
         12,
         "5751.21",
         "7031.21"
        ],
        [
         "Salão Beleza Pura",
         2024,
         2,
         "6014.40",
         "6014.40"
        ],
        [
         "Salão Beleza Pura",
         2024,
         3,
         "257.60",
         "6272.00"
        ],
        [
         "Salão Beleza Pura",
         2024,
         5,
         "3925.22",
         "10197.22"
        ],
        [
         "Salão Beleza Pura",
         2024,
         6,
         "547.17",
         "10744.39"
        ],
        [
         "Sorveteria Geladinho",
         2023,
         8,
         "3303.30",
         "3303.30"
        ],
        [
         "Sorveteria Geladinho",
         2023,
         11,
         "3431.54",
         "6734.84"
        ],
        [
         "Sorveteria Geladinho",
         2023,
         12,
         "2629.44",
         "9364.28"
        ],
        [
         "Sorveteria Geladinho",
         2024,
         3,
         "1246.16",
         "1246.16"
        ],
        [
         "Sorveteria Sorvetão",
         2024,
         2,
         "5754.36",
         "5754.36"
        ],
        [
         "Sorveteria Sorvetão",
         2024,
         4,
         "719.82",
         "6474.18"
        ],
        [
         "Sorveteria Sorvetão",
         2024,
         5,
         "1703.68",
         "8177.86"
        ],
        [
         "Supermercado ABC",
         2024,
         2,
         "1765.41",
         "1765.41"
        ],
        [
         "Supermercado ABC",
         2024,
         5,
         "2375.10",
         "4140.51"
        ],
        [
         "Supermercado ABC",
         2024,
         7,
         "1012.38",
         "5152.89"
        ]
       ],
       "datasetInfos": [],
       "dbfsResultPath": null,
       "isJsonSchema": true,
       "metadata": {},
       "overflow": false,
       "plotOptions": {
        "customPlotOptions": {},
        "displayType": "table",
        "pivotAggregation": null,
        "pivotColumns": null,
        "xColumns": null,
        "yColumns": null
       },
       "removedWidgets": [],
       "schema": [
        {
         "metadata": "{\"comment\":\"Nome comercial do estabelecimento, obtido através do JOIN com a tabela de estabelecimentos.\"}",
         "name": "nome_estabelecimento",
         "type": "\"string\""
        },
        {
         "metadata": "{}",
         "name": "ano",
         "type": "\"integer\""
        },
        {
         "metadata": "{}",
         "name": "mes",
         "type": "\"integer\""
        },
        {
         "metadata": "{}",
         "name": "receita_mensal",
         "type": "\"decimal(38,2)\""
        },
        {
         "metadata": "{}",
         "name": "receita_acumulada_estabelecimento",
         "type": "\"decimal(38,2)\""
        }
       ],
       "type": "table"
      }
     },
     "output_type": "display_data"
    }
   ],
   "source": [
    "display(spark.sql(\"\"\"\n",
    "WITH vendas_mensais_estabelecimento AS (\n",
    "    SELECT\n",
    "        nome_estabelecimento,\n",
    "        YEAR(data_pedido) AS ano,\n",
    "        MONTH(data_pedido) AS mes,\n",
    "        SUM(quantidade * preco) AS receita_mensal\n",
    "    FROM silver.pedidos\n",
    "    GROUP BY nome_estabelecimento, ano, mes\n",
    ")\n",
    "SELECT\n",
    "    nome_estabelecimento,\n",
    "    ano,\n",
    "    mes,\n",
    "    receita_mensal,\n",
    "    SUM(receita_mensal) OVER (PARTITION BY nome_estabelecimento, ano ORDER BY mes) AS receita_acumulada_estabelecimento\n",
    "FROM vendas_mensais_estabelecimento\n",
    "ORDER BY nome_estabelecimento, ano, mes\n",
    "\"\"\"))\n"
   ]
  },
  {
   "cell_type": "markdown",
   "metadata": {
    "application/vnd.databricks.v1+cell": {
     "cellMetadata": {
      "byteLimit": 2048000,
      "rowLimit": 10000
     },
     "inputWidgets": {},
     "nuid": "419438bc-1d64-4e11-a34a-c9a86f3df5f4",
     "showTitle": false,
     "tableResultSettingsMap": {},
     "title": ""
    }
   },
   "source": [
    "###12. Análise de Crescimento de Vendas Mês a Mês e Ano a Ano\n",
    "🎯 Objetivo: Avaliar o desempenho de vendas no curto (mês a mês) e longo prazo (ano a ano).\n",
    "\n",
    "<h4 style=\"color: #007bff; font-size: 1.2em;\">Importância Estratégica:</h4>\n",
    "<p style=\"font-size: 1.1em;\">Esta é uma análise de crescimento abrangente. Ela permite avaliar o desempenho de vendas tanto no curto prazo (mês a mês) quanto no longo prazo (ano a ano), oferecendo uma visão completa da saúde do negócio. A capacidade de comparar o desempenho de um mês com o mesmo mês do ano anterior é crucial para eliminar a sazonalidade e entender o crescimento real da empresa."
   ]
  },
  {
   "cell_type": "code",
   "execution_count": 0,
   "metadata": {
    "application/vnd.databricks.v1+cell": {
     "cellMetadata": {
      "byteLimit": 2048000,
      "rowLimit": 10000
     },
     "inputWidgets": {},
     "nuid": "c844c76f-0bed-43f7-a8c8-3459ad4605a2",
     "showTitle": false,
     "tableResultSettingsMap": {},
     "title": ""
    }
   },
   "outputs": [
    {
     "output_type": "display_data",
     "data": {
      "text/html": [
       "<style scoped>\n",
       "  .table-result-container {\n",
       "    max-height: 300px;\n",
       "    overflow: auto;\n",
       "  }\n",
       "  table, th, td {\n",
       "    border: 1px solid black;\n",
       "    border-collapse: collapse;\n",
       "  }\n",
       "  th, td {\n",
       "    padding: 5px;\n",
       "  }\n",
       "  th {\n",
       "    text-align: left;\n",
       "  }\n",
       "</style><div class='table-result-container'><table class='table-result'><thead style='background-color: white'><tr><th>mes_ano</th><th>receita</th><th>quantidade_vendas</th><th>crescimento_receita_mensal_percentual</th><th>crescimento_receita_anual_percentual</th><th>crescimento_quantidade_mensal_percentual</th><th>crescimento_quantidade_anual_percentual</th></tr></thead><tbody><tr><td>2024-07-01T00:00:00Z</td><td>21589.58</td><td>2560</td><td>-40.896400</td><td>-36.477500</td><td>-31.787903010924595</td><td>-16.175507531106746</td></tr><tr><td>2024-06-01T00:00:00Z</td><td>36528.39</td><td>3753</td><td>-57.947600</td><td>null</td><td>-51.617893515534355</td><td>null</td></tr><tr><td>2024-05-01T00:00:00Z</td><td>86863.91</td><td>7757</td><td>45.124600</td><td>null</td><td>45.04487658937921</td><td>null</td></tr><tr><td>2024-04-01T00:00:00Z</td><td>59854.70</td><td>5348</td><td>4.508500</td><td>null</td><td>7.324904675898053</td><td>null</td></tr><tr><td>2024-03-01T00:00:00Z</td><td>57272.58</td><td>4983</td><td>-2.787000</td><td>null</td><td>-17.280876494023907</td><td>null</td></tr><tr><td>2024-02-01T00:00:00Z</td><td>58914.52</td><td>6024</td><td>6.520600</td><td>null</td><td>16.069364161849713</td><td>null</td></tr><tr><td>2024-01-01T00:00:00Z</td><td>55308.10</td><td>5190</td><td>-3.493400</td><td>null</td><td>-15.472312703583063</td><td>null</td></tr><tr><td>2023-12-01T00:00:00Z</td><td>57310.15</td><td>6140</td><td>-14.196800</td><td>null</td><td>-2.24486546728228</td><td>null</td></tr><tr><td>2023-11-01T00:00:00Z</td><td>66792.56</td><td>6281</td><td>47.575500</td><td>null</td><td>76.6310461192351</td><td>null</td></tr><tr><td>2023-10-01T00:00:00Z</td><td>45259.91</td><td>3556</td><td>-44.326300</td><td>null</td><td>-48.04208065458796</td><td>null</td></tr><tr><td>2023-09-01T00:00:00Z</td><td>81294.98</td><td>6844</td><td>27.504800</td><td>null</td><td>29.547605527162595</td><td>null</td></tr><tr><td>2023-08-01T00:00:00Z</td><td>63758.35</td><td>5283</td><td>87.594800</td><td>null</td><td>72.98624754420432</td><td>null</td></tr><tr><td>2023-07-01T00:00:00Z</td><td>33987.27</td><td>3054</td><td>null</td><td>null</td><td>null</td><td>null</td></tr></tbody></table></div>"
      ]
     },
     "metadata": {
      "application/vnd.databricks.v1+output": {
       "addedWidgets": {},
       "aggData": [],
       "aggError": "",
       "aggOverflow": false,
       "aggSchema": [],
       "aggSeriesLimitReached": false,
       "aggType": "",
       "arguments": {},
       "columnCustomDisplayInfos": {},
       "data": [
        [
         "2024-07-01T00:00:00Z",
         "21589.58",
         2560,
         "-40.896400",
         "-36.477500",
         -31.787903010924595,
         -16.175507531106746
        ],
        [
         "2024-06-01T00:00:00Z",
         "36528.39",
         3753,
         "-57.947600",
         null,
         -51.617893515534355,
         null
        ],
        [
         "2024-05-01T00:00:00Z",
         "86863.91",
         7757,
         "45.124600",
         null,
         45.04487658937921,
         null
        ],
        [
         "2024-04-01T00:00:00Z",
         "59854.70",
         5348,
         "4.508500",
         null,
         7.324904675898053,
         null
        ],
        [
         "2024-03-01T00:00:00Z",
         "57272.58",
         4983,
         "-2.787000",
         null,
         -17.280876494023907,
         null
        ],
        [
         "2024-02-01T00:00:00Z",
         "58914.52",
         6024,
         "6.520600",
         null,
         16.069364161849713,
         null
        ],
        [
         "2024-01-01T00:00:00Z",
         "55308.10",
         5190,
         "-3.493400",
         null,
         -15.472312703583063,
         null
        ],
        [
         "2023-12-01T00:00:00Z",
         "57310.15",
         6140,
         "-14.196800",
         null,
         -2.24486546728228,
         null
        ],
        [
         "2023-11-01T00:00:00Z",
         "66792.56",
         6281,
         "47.575500",
         null,
         76.6310461192351,
         null
        ],
        [
         "2023-10-01T00:00:00Z",
         "45259.91",
         3556,
         "-44.326300",
         null,
         -48.04208065458796,
         null
        ],
        [
         "2023-09-01T00:00:00Z",
         "81294.98",
         6844,
         "27.504800",
         null,
         29.547605527162595,
         null
        ],
        [
         "2023-08-01T00:00:00Z",
         "63758.35",
         5283,
         "87.594800",
         null,
         72.98624754420432,
         null
        ],
        [
         "2023-07-01T00:00:00Z",
         "33987.27",
         3054,
         null,
         null,
         null,
         null
        ]
       ],
       "datasetInfos": [],
       "dbfsResultPath": null,
       "isJsonSchema": true,
       "metadata": {},
       "overflow": false,
       "plotOptions": {
        "customPlotOptions": {},
        "displayType": "table",
        "pivotAggregation": null,
        "pivotColumns": null,
        "xColumns": null,
        "yColumns": null
       },
       "removedWidgets": [],
       "schema": [
        {
         "metadata": "{}",
         "name": "mes_ano",
         "type": "\"timestamp\""
        },
        {
         "metadata": "{}",
         "name": "receita",
         "type": "\"decimal(38,2)\""
        },
        {
         "metadata": "{}",
         "name": "quantidade_vendas",
         "type": "\"long\""
        },
        {
         "metadata": "{}",
         "name": "crescimento_receita_mensal_percentual",
         "type": "\"decimal(38,6)\""
        },
        {
         "metadata": "{}",
         "name": "crescimento_receita_anual_percentual",
         "type": "\"decimal(38,6)\""
        },
        {
         "metadata": "{}",
         "name": "crescimento_quantidade_mensal_percentual",
         "type": "\"double\""
        },
        {
         "metadata": "{}",
         "name": "crescimento_quantidade_anual_percentual",
         "type": "\"double\""
        }
       ],
       "type": "table"
      }
     },
     "output_type": "display_data"
    }
   ],
   "source": [
    "display(spark.sql(\"\"\"\n",
    "WITH vendas_mensais AS (\n",
    "    SELECT\n",
    "        DATE_TRUNC('month', data_pedido) AS mes_ano,\n",
    "        SUM(quantidade * preco) AS receita,\n",
    "        SUM(quantidade) AS quantidade_vendas\n",
    "    FROM silver.pedidos\n",
    "    GROUP BY mes_ano\n",
    "),\n",
    "comparacao_anual AS (\n",
    "    SELECT\n",
    "        mes_ano,\n",
    "        receita,\n",
    "        quantidade_vendas,\n",
    "        LAG(receita, 12, 0) OVER (ORDER BY mes_ano) AS receita_ano_anterior,\n",
    "        LAG(quantidade_vendas, 12, 0) OVER (ORDER BY mes_ano) AS quantidade_ano_anterior\n",
    "    FROM vendas_mensais\n",
    ")\n",
    "SELECT\n",
    "    mes_ano,\n",
    "    receita,\n",
    "    quantidade_vendas,\n",
    "    (receita - LAG(receita, 1, 0) OVER (ORDER BY mes_ano)) / LAG(receita, 1, 0) OVER (ORDER BY mes_ano) * 100 AS crescimento_receita_mensal_percentual,\n",
    "    (receita - receita_ano_anterior) / receita_ano_anterior * 100 AS crescimento_receita_anual_percentual,\n",
    "    (quantidade_vendas - LAG(quantidade_vendas, 1, 0) OVER (ORDER BY mes_ano)) / LAG(quantidade_vendas, 1, 0) OVER (ORDER BY mes_ano) * 100 AS crescimento_quantidade_mensal_percentual,\n",
    "    (quantidade_vendas - quantidade_ano_anterior) / quantidade_ano_anterior * 100 AS crescimento_quantidade_anual_percentual\n",
    "FROM comparacao_anual\n",
    "ORDER BY mes_ano DESC\n",
    "\"\"\"))\n"
   ]
  }
 ],
 "metadata": {
  "application/vnd.databricks.v1+notebook": {
   "computePreferences": null,
   "dashboards": [],
   "environmentMetadata": {
    "base_environment": "",
    "environment_version": "1"
   },
   "inputWidgetPreferences": null,
   "language": "python",
   "notebookMetadata": {
    "mostRecentlyExecutedCommandWithImplicitDF": {
     "commandId": 811466549119461,
     "dataframes": [
      "_sqldf"
     ]
    },
    "pythonIndentUnit": 4
   },
   "notebookName": "Gold_Pedidos",
   "widgets": {}
  }
 },
 "nbformat": 4,
 "nbformat_minor": 0
}